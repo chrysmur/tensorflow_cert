{
  "nbformat": 4,
  "nbformat_minor": 0,
  "metadata": {
    "colab": {
      "name": "01_Regression_with_Tensorflow.ipynb",
      "provenance": [],
      "collapsed_sections": []
    },
    "kernelspec": {
      "name": "python3",
      "display_name": "Python 3"
    },
    "language_info": {
      "name": "python"
    }
  },
  "cells": [
    {
      "cell_type": "markdown",
      "metadata": {
        "id": "Cuu1ULXuLyv4"
      },
      "source": [
        "### Examples of Regression problems\n",
        "- How much the house sells for\n",
        "- How many people will buy this app\n",
        "- How much will my health insurance be\n",
        "- How much should I save each week for fuel"
      ]
    },
    {
      "cell_type": "markdown",
      "metadata": {
        "id": "NUxUT-4KPDY7"
      },
      "source": [
        "### Anatomy of NN regression model\n",
        "- Input layer shape\n",
        "- Hidden layers\n",
        "- Neurons per hidden layer\n",
        "- Output layer shape - Based on the data being predicted, [1] for prices\n",
        "- Hidden activation - usually ReLu\n",
        "- Output activation (None, Relu, Logistic/Tanh)\n",
        "- Loss function - A function of the error that we are trying to minimize to get accuracte results (MAE, MSE, Buber(combination of MSE and MAE) if you have outliers)\n",
        "- Optimizer -  what we use to minimize the loss function (SGD, Adam)"
      ]
    },
    {
      "cell_type": "code",
      "metadata": {
        "colab": {
          "base_uri": "https://localhost:8080/"
        },
        "id": "W3U7v4xIWLRr",
        "outputId": "9f41222a-394a-48ea-ea6d-c786d5daa235"
      },
      "source": [
        "import tensorflow as tf\n",
        "print(tf.__version__)"
      ],
      "execution_count": 1,
      "outputs": [
        {
          "output_type": "stream",
          "text": [
            "2.5.0\n"
          ],
          "name": "stdout"
        }
      ]
    },
    {
      "cell_type": "code",
      "metadata": {
        "colab": {
          "base_uri": "https://localhost:8080/",
          "height": 286
        },
        "id": "25rZSF6Ke0E5",
        "outputId": "4ad585e4-2246-4621-fd5e-fadd1a3dbc9b"
      },
      "source": [
        "# Creating data to view and fit\n",
        "import numpy as np\n",
        "import matplotlib.pyplot as plt\n",
        "\n",
        "# create features\n",
        "X = np.array([-7.0, -4.0, -1.0, 2.0, 5.0, 8.0, 11.0, 14.0])\n",
        "\n",
        "# Createa labels \n",
        "y = np.array([3.0, 6.0, 9.0, 12.0, 15.0, 18.0, 21.0, 24.0])\n",
        "\n",
        "# visalize\n",
        "plt.scatter(X, y)"
      ],
      "execution_count": 2,
      "outputs": [
        {
          "output_type": "execute_result",
          "data": {
            "text/plain": [
              "<matplotlib.collections.PathCollection at 0x7f4062382050>"
            ]
          },
          "metadata": {
            "tags": []
          },
          "execution_count": 2
        },
        {
          "output_type": "display_data",
          "data": {
            "image/png": "[encoded data removed]",
            "text/plain": [
              "<Figure size 432x288 with 1 Axes>"
            ]
          },
          "metadata": {
            "tags": [],
            "needs_background": "light"
          }
        }
      ]
    },
    {
      "cell_type": "markdown",
      "metadata": {
        "id": "ihpv10_Yfg0r"
      },
      "source": [
        "### the relationship we are trying to learn here is\n",
        "y = X + 10 "
      ]
    },
    {
      "cell_type": "code",
      "metadata": {
        "colab": {
          "base_uri": "https://localhost:8080/"
        },
        "id": "Xw-Yl87AhVxj",
        "outputId": "4d3ac6d7-17cf-4b51-b33d-af7d09f55669"
      },
      "source": [
        "house_info = tf.constant(['bedroom', 'bathroom', 'garage'])\n",
        "house_price = tf.constant([939700])\n",
        "house_info, house_price"
      ],
      "execution_count": 3,
      "outputs": [
        {
          "output_type": "execute_result",
          "data": {
            "text/plain": [
              "(<tf.Tensor: shape=(3,), dtype=string, numpy=array([b'bedroom', b'bathroom', b'garage'], dtype=object)>,\n",
              " <tf.Tensor: shape=(1,), dtype=int32, numpy=array([939700], dtype=int32)>)"
            ]
          },
          "metadata": {
            "tags": []
          },
          "execution_count": 3
        }
      ]
    },
    {
      "cell_type": "code",
      "metadata": {
        "colab": {
          "base_uri": "https://localhost:8080/"
        },
        "id": "R-olHO0Jhlo-",
        "outputId": "91d7029e-b0c4-4573-af4c-60c4e272ca63"
      },
      "source": [
        "input_shape = X.shape\n",
        "output_shape = y.shape\n",
        "input_shape, output_shape"
      ],
      "execution_count": 4,
      "outputs": [
        {
          "output_type": "execute_result",
          "data": {
            "text/plain": [
              "((8,), (8,))"
            ]
          },
          "metadata": {
            "tags": []
          },
          "execution_count": 4
        }
      ]
    },
    {
      "cell_type": "markdown",
      "metadata": {
        "id": "Wjwn-YTUh1UU"
      },
      "source": [
        "- We want to reference one X detail and reference one corresponding y detail, x[0] -> y[0]"
      ]
    },
    {
      "cell_type": "markdown",
      "metadata": {
        "id": "Ukz1T5nMkoZZ"
      },
      "source": [
        "### Major steps in modelling with tf"
      ]
    },
    {
      "cell_type": "code",
      "metadata": {
        "colab": {
          "base_uri": "https://localhost:8080/"
        },
        "id": "PZgVL5eVkv0j",
        "outputId": "584b9f57-2396-4c44-d832-b80cef00ab9a"
      },
      "source": [
        " # change np arrays to tensors\n",
        " X = tf.constant(X)\n",
        " y = tf.constant(y)\n",
        " X, y"
      ],
      "execution_count": 5,
      "outputs": [
        {
          "output_type": "execute_result",
          "data": {
            "text/plain": [
              "(<tf.Tensor: shape=(8,), dtype=float64, numpy=array([-7., -4., -1.,  2.,  5.,  8., 11., 14.])>,\n",
              " <tf.Tensor: shape=(8,), dtype=float64, numpy=array([ 3.,  6.,  9., 12., 15., 18., 21., 24.])>)"
            ]
          },
          "metadata": {
            "tags": []
          },
          "execution_count": 5
        }
      ]
    },
    {
      "cell_type": "code",
      "metadata": {
        "colab": {
          "base_uri": "https://localhost:8080/"
        },
        "id": "YpZ0eKSSlFNk",
        "outputId": "e7fd93e2-aa25-425f-8e0d-1f6e14f04b5e"
      },
      "source": [
        "# Single value in the X and y\n",
        "input_shape = X[0].shape\n",
        "output_shape = y[0].shape\n",
        "input_shape, output_shape"
      ],
      "execution_count": 6,
      "outputs": [
        {
          "output_type": "execute_result",
          "data": {
            "text/plain": [
              "(TensorShape([]), TensorShape([]))"
            ]
          },
          "metadata": {
            "tags": []
          },
          "execution_count": 6
        }
      ]
    },
    {
      "cell_type": "markdown",
      "metadata": {
        "id": "yfB79MPElStC"
      },
      "source": [
        "#### Steps\n",
        "1. **Creating a model** - define the input and output layers and hidden layers of the deep learning model\n",
        "2. **compiling a model** -  define the loss function and the optimizer and the evaluation metrics\n",
        "3. fitting a model- letting the model try to fit patterns between X and y"
      ]
    },
    {
      "cell_type": "code",
      "metadata": {
        "colab": {
          "base_uri": "https://localhost:8080/"
        },
        "id": "egYGOVe7mx_7",
        "outputId": "5a1dc69a-a13b-4d0d-b09c-9db08b5e390f"
      },
      "source": [
        "# set random seed\n",
        "tf.random.set_seed(42)\n",
        "\n",
        "#1. create the model\n",
        "model = tf.keras.Sequential([\n",
        "      tf.keras.layers.Dense(1)\n",
        "])\n",
        "'''\n",
        "# same as above\n",
        "model = tf.keras.Sequential()\n",
        "model.add(tf.keras.leyers.Dense(1))\n",
        "\n",
        "'''\n",
        "\n",
        "#2. Compile the model\n",
        "model.compile(\n",
        "    loss=tf.keras.losses.mae,\n",
        "    optimizer=tf.keras.optimizers.SGD(),\n",
        "    metrics=['mae'])\n",
        "\n",
        "#3. Fit the model\n",
        "model.fit(X, y, epochs=5)"
      ],
      "execution_count": 7,
      "outputs": [
        {
          "output_type": "stream",
          "text": [
            "Epoch 1/5\n",
            "1/1 [==============================] - 1s 510ms/step - loss: 11.5048 - mae: 11.5048\n",
            "Epoch 2/5\n",
            "1/1 [==============================] - 0s 4ms/step - loss: 11.3723 - mae: 11.3723\n",
            "Epoch 3/5\n",
            "1/1 [==============================] - 0s 7ms/step - loss: 11.2398 - mae: 11.2398\n",
            "Epoch 4/5\n",
            "1/1 [==============================] - 0s 5ms/step - loss: 11.1073 - mae: 11.1073\n",
            "Epoch 5/5\n",
            "1/1 [==============================] - 0s 4ms/step - loss: 10.9748 - mae: 10.9748\n"
          ],
          "name": "stdout"
        },
        {
          "output_type": "execute_result",
          "data": {
            "text/plain": [
              "<tensorflow.python.keras.callbacks.History at 0x7f401780f310>"
            ]
          },
          "metadata": {
            "tags": []
          },
          "execution_count": 7
        }
      ]
    },
    {
      "cell_type": "code",
      "metadata": {
        "colab": {
          "base_uri": "https://localhost:8080/"
        },
        "id": "ledZ5aW9sNk4",
        "outputId": "5e5da438-5a3c-4add-e7b8-325eec4cc4d6"
      },
      "source": [
        "# make a prediction\n",
        "model.predict([17.0])"
      ],
      "execution_count": 8,
      "outputs": [
        {
          "output_type": "execute_result",
          "data": {
            "text/plain": [
              "array([[12.716021]], dtype=float32)"
            ]
          },
          "metadata": {
            "tags": []
          },
          "execution_count": 8
        }
      ]
    },
    {
      "cell_type": "markdown",
      "metadata": {
        "id": "xsRBJaPTtObq"
      },
      "source": [
        "- Output is off\n",
        "### Improve model\n",
        "\n",
        "1. creating model -  add model layers, increase units of hidden units called neurons\n",
        "2. compiling a model - change the optimization, or learning rate of the optimziation funtion\n",
        "3. Fitting the model - run it for more epochs\n"
      ]
    },
    {
      "cell_type": "code",
      "metadata": {
        "id": "b9sx50vjuF7P",
        "colab": {
          "base_uri": "https://localhost:8080/"
        },
        "outputId": "107f7f20-418f-4e66-b368-93e5f1f35a16"
      },
      "source": [
        "## rebuild the model with more epochs\n",
        "\n",
        "model = tf.keras.Sequential([\n",
        "                             tf.keras.layers.Dense(1)\n",
        "])\n",
        "\n",
        "model.compile(loss=tf.keras.losses.mae,\n",
        "             optimizer = tf.keras.optimizers.SGD(),\n",
        "             metrics=['mae'])\n",
        "\n",
        "model.fit(X, y, epochs=100)"
      ],
      "execution_count": 9,
      "outputs": [
        {
          "output_type": "stream",
          "text": [
            "Epoch 1/100\n",
            "1/1 [==============================] - 0s 232ms/step - loss: 11.2219 - mae: 11.2219\n",
            "Epoch 2/100\n",
            "1/1 [==============================] - 0s 6ms/step - loss: 11.0894 - mae: 11.0894\n",
            "Epoch 3/100\n",
            "1/1 [==============================] - 0s 11ms/step - loss: 10.9569 - mae: 10.9569\n",
            "Epoch 4/100\n",
            "1/1 [==============================] - 0s 3ms/step - loss: 10.8244 - mae: 10.8244\n",
            "Epoch 5/100\n",
            "1/1 [==============================] - 0s 3ms/step - loss: 10.6919 - mae: 10.6919\n",
            "Epoch 6/100\n",
            "1/1 [==============================] - 0s 3ms/step - loss: 10.5594 - mae: 10.5594\n",
            "Epoch 7/100\n",
            "1/1 [==============================] - 0s 3ms/step - loss: 10.4269 - mae: 10.4269\n",
            "Epoch 8/100\n",
            "1/1 [==============================] - 0s 3ms/step - loss: 10.2944 - mae: 10.2944\n",
            "Epoch 9/100\n",
            "1/1 [==============================] - 0s 3ms/step - loss: 10.1619 - mae: 10.1619\n",
            "Epoch 10/100\n",
            "1/1 [==============================] - 0s 3ms/step - loss: 10.0294 - mae: 10.0294\n",
            "Epoch 11/100\n",
            "1/1 [==============================] - 0s 3ms/step - loss: 9.8969 - mae: 9.8969\n",
            "Epoch 12/100\n",
            "1/1 [==============================] - 0s 3ms/step - loss: 9.7644 - mae: 9.7644\n",
            "Epoch 13/100\n",
            "1/1 [==============================] - 0s 3ms/step - loss: 9.6319 - mae: 9.6319\n",
            "Epoch 14/100\n",
            "1/1 [==============================] - 0s 8ms/step - loss: 9.4994 - mae: 9.4994\n",
            "Epoch 15/100\n",
            "1/1 [==============================] - 0s 3ms/step - loss: 9.3669 - mae: 9.3669\n",
            "Epoch 16/100\n",
            "1/1 [==============================] - 0s 4ms/step - loss: 9.2344 - mae: 9.2344\n",
            "Epoch 17/100\n",
            "1/1 [==============================] - 0s 3ms/step - loss: 9.1019 - mae: 9.1019\n",
            "Epoch 18/100\n",
            "1/1 [==============================] - 0s 2ms/step - loss: 8.9694 - mae: 8.9694\n",
            "Epoch 19/100\n",
            "1/1 [==============================] - 0s 3ms/step - loss: 8.8369 - mae: 8.8369\n",
            "Epoch 20/100\n",
            "1/1 [==============================] - 0s 2ms/step - loss: 8.7044 - mae: 8.7044\n",
            "Epoch 21/100\n",
            "1/1 [==============================] - 0s 3ms/step - loss: 8.5719 - mae: 8.5719\n",
            "Epoch 22/100\n",
            "1/1 [==============================] - 0s 3ms/step - loss: 8.4394 - mae: 8.4394\n",
            "Epoch 23/100\n",
            "1/1 [==============================] - 0s 3ms/step - loss: 8.3069 - mae: 8.3069\n",
            "Epoch 24/100\n",
            "1/1 [==============================] - 0s 3ms/step - loss: 8.1744 - mae: 8.1744\n",
            "Epoch 25/100\n",
            "1/1 [==============================] - 0s 3ms/step - loss: 8.0419 - mae: 8.0419\n",
            "Epoch 26/100\n",
            "1/1 [==============================] - 0s 4ms/step - loss: 7.9094 - mae: 7.9094\n",
            "Epoch 27/100\n",
            "1/1 [==============================] - 0s 10ms/step - loss: 7.7769 - mae: 7.7769\n",
            "Epoch 28/100\n",
            "1/1 [==============================] - 0s 3ms/step - loss: 7.6444 - mae: 7.6444\n",
            "Epoch 29/100\n",
            "1/1 [==============================] - 0s 3ms/step - loss: 7.5119 - mae: 7.5119\n",
            "Epoch 30/100\n",
            "1/1 [==============================] - 0s 3ms/step - loss: 7.3794 - mae: 7.3794\n",
            "Epoch 31/100\n",
            "1/1 [==============================] - 0s 3ms/step - loss: 7.2750 - mae: 7.2750\n",
            "Epoch 32/100\n",
            "1/1 [==============================] - 0s 3ms/step - loss: 7.2694 - mae: 7.2694\n",
            "Epoch 33/100\n",
            "1/1 [==============================] - 0s 3ms/step - loss: 7.2638 - mae: 7.2638\n",
            "Epoch 34/100\n",
            "1/1 [==============================] - 0s 3ms/step - loss: 7.2581 - mae: 7.2581\n",
            "Epoch 35/100\n",
            "1/1 [==============================] - 0s 2ms/step - loss: 7.2525 - mae: 7.2525\n",
            "Epoch 36/100\n",
            "1/1 [==============================] - 0s 4ms/step - loss: 7.2469 - mae: 7.2469\n",
            "Epoch 37/100\n",
            "1/1 [==============================] - 0s 3ms/step - loss: 7.2412 - mae: 7.2412\n",
            "Epoch 38/100\n",
            "1/1 [==============================] - 0s 3ms/step - loss: 7.2356 - mae: 7.2356\n",
            "Epoch 39/100\n",
            "1/1 [==============================] - 0s 4ms/step - loss: 7.2300 - mae: 7.2300\n",
            "Epoch 40/100\n",
            "1/1 [==============================] - 0s 3ms/step - loss: 7.2244 - mae: 7.2244\n",
            "Epoch 41/100\n",
            "1/1 [==============================] - 0s 3ms/step - loss: 7.2188 - mae: 7.2188\n",
            "Epoch 42/100\n",
            "1/1 [==============================] - 0s 4ms/step - loss: 7.2131 - mae: 7.2131\n",
            "Epoch 43/100\n",
            "1/1 [==============================] - 0s 3ms/step - loss: 7.2075 - mae: 7.2075\n",
            "Epoch 44/100\n",
            "1/1 [==============================] - 0s 3ms/step - loss: 7.2019 - mae: 7.2019\n",
            "Epoch 45/100\n",
            "1/1 [==============================] - 0s 4ms/step - loss: 7.1962 - mae: 7.1962\n",
            "Epoch 46/100\n",
            "1/1 [==============================] - 0s 3ms/step - loss: 7.1906 - mae: 7.1906\n",
            "Epoch 47/100\n",
            "1/1 [==============================] - 0s 3ms/step - loss: 7.1850 - mae: 7.1850\n",
            "Epoch 48/100\n",
            "1/1 [==============================] - 0s 3ms/step - loss: 7.1794 - mae: 7.1794\n",
            "Epoch 49/100\n",
            "1/1 [==============================] - 0s 3ms/step - loss: 7.1737 - mae: 7.1737\n",
            "Epoch 50/100\n",
            "1/1 [==============================] - 0s 3ms/step - loss: 7.1681 - mae: 7.1681\n",
            "Epoch 51/100\n",
            "1/1 [==============================] - 0s 3ms/step - loss: 7.1625 - mae: 7.1625\n",
            "Epoch 52/100\n",
            "1/1 [==============================] - 0s 3ms/step - loss: 7.1569 - mae: 7.1569\n",
            "Epoch 53/100\n",
            "1/1 [==============================] - 0s 5ms/step - loss: 7.1512 - mae: 7.1512\n",
            "Epoch 54/100\n",
            "1/1 [==============================] - 0s 4ms/step - loss: 7.1456 - mae: 7.1456\n",
            "Epoch 55/100\n",
            "1/1 [==============================] - 0s 5ms/step - loss: 7.1400 - mae: 7.1400\n",
            "Epoch 56/100\n",
            "1/1 [==============================] - 0s 4ms/step - loss: 7.1344 - mae: 7.1344\n",
            "Epoch 57/100\n",
            "1/1 [==============================] - 0s 4ms/step - loss: 7.1287 - mae: 7.1287\n",
            "Epoch 58/100\n",
            "1/1 [==============================] - 0s 4ms/step - loss: 7.1231 - mae: 7.1231\n",
            "Epoch 59/100\n",
            "1/1 [==============================] - 0s 5ms/step - loss: 7.1175 - mae: 7.1175\n",
            "Epoch 60/100\n",
            "1/1 [==============================] - 0s 3ms/step - loss: 7.1119 - mae: 7.1119\n",
            "Epoch 61/100\n",
            "1/1 [==============================] - 0s 6ms/step - loss: 7.1062 - mae: 7.1062\n",
            "Epoch 62/100\n",
            "1/1 [==============================] - 0s 3ms/step - loss: 7.1006 - mae: 7.1006\n",
            "Epoch 63/100\n",
            "1/1 [==============================] - 0s 4ms/step - loss: 7.0950 - mae: 7.0950\n",
            "Epoch 64/100\n",
            "1/1 [==============================] - 0s 3ms/step - loss: 7.0894 - mae: 7.0894\n",
            "Epoch 65/100\n",
            "1/1 [==============================] - 0s 4ms/step - loss: 7.0838 - mae: 7.0838\n",
            "Epoch 66/100\n",
            "1/1 [==============================] - 0s 3ms/step - loss: 7.0781 - mae: 7.0781\n",
            "Epoch 67/100\n",
            "1/1 [==============================] - 0s 5ms/step - loss: 7.0725 - mae: 7.0725\n",
            "Epoch 68/100\n",
            "1/1 [==============================] - 0s 5ms/step - loss: 7.0669 - mae: 7.0669\n",
            "Epoch 69/100\n",
            "1/1 [==============================] - 0s 4ms/step - loss: 7.0613 - mae: 7.0613\n",
            "Epoch 70/100\n",
            "1/1 [==============================] - 0s 5ms/step - loss: 7.0556 - mae: 7.0556\n",
            "Epoch 71/100\n",
            "1/1 [==============================] - 0s 4ms/step - loss: 7.0500 - mae: 7.0500\n",
            "Epoch 72/100\n",
            "1/1 [==============================] - 0s 4ms/step - loss: 7.0444 - mae: 7.0444\n",
            "Epoch 73/100\n",
            "1/1 [==============================] - 0s 4ms/step - loss: 7.0388 - mae: 7.0388\n",
            "Epoch 74/100\n",
            "1/1 [==============================] - 0s 6ms/step - loss: 7.0331 - mae: 7.0331\n",
            "Epoch 75/100\n",
            "1/1 [==============================] - 0s 3ms/step - loss: 7.0275 - mae: 7.0275\n",
            "Epoch 76/100\n",
            "1/1 [==============================] - 0s 3ms/step - loss: 7.0219 - mae: 7.0219\n",
            "Epoch 77/100\n",
            "1/1 [==============================] - 0s 4ms/step - loss: 7.0163 - mae: 7.0163\n",
            "Epoch 78/100\n",
            "1/1 [==============================] - 0s 3ms/step - loss: 7.0106 - mae: 7.0106\n",
            "Epoch 79/100\n",
            "1/1 [==============================] - 0s 3ms/step - loss: 7.0050 - mae: 7.0050\n",
            "Epoch 80/100\n",
            "1/1 [==============================] - 0s 3ms/step - loss: 6.9994 - mae: 6.9994\n",
            "Epoch 81/100\n",
            "1/1 [==============================] - 0s 4ms/step - loss: 6.9938 - mae: 6.9938\n",
            "Epoch 82/100\n",
            "1/1 [==============================] - 0s 3ms/step - loss: 6.9881 - mae: 6.9881\n",
            "Epoch 83/100\n",
            "1/1 [==============================] - 0s 5ms/step - loss: 6.9825 - mae: 6.9825\n",
            "Epoch 84/100\n",
            "1/1 [==============================] - 0s 3ms/step - loss: 6.9769 - mae: 6.9769\n",
            "Epoch 85/100\n",
            "1/1 [==============================] - 0s 4ms/step - loss: 6.9713 - mae: 6.9713\n",
            "Epoch 86/100\n",
            "1/1 [==============================] - 0s 3ms/step - loss: 6.9656 - mae: 6.9656\n",
            "Epoch 87/100\n",
            "1/1 [==============================] - 0s 4ms/step - loss: 6.9600 - mae: 6.9600\n",
            "Epoch 88/100\n",
            "1/1 [==============================] - 0s 5ms/step - loss: 6.9544 - mae: 6.9544\n",
            "Epoch 89/100\n",
            "1/1 [==============================] - 0s 5ms/step - loss: 6.9488 - mae: 6.9488\n",
            "Epoch 90/100\n",
            "1/1 [==============================] - 0s 5ms/step - loss: 6.9431 - mae: 6.9431\n",
            "Epoch 91/100\n",
            "1/1 [==============================] - 0s 3ms/step - loss: 6.9375 - mae: 6.9375\n",
            "Epoch 92/100\n",
            "1/1 [==============================] - 0s 3ms/step - loss: 6.9319 - mae: 6.9319\n",
            "Epoch 93/100\n",
            "1/1 [==============================] - 0s 4ms/step - loss: 6.9263 - mae: 6.9263\n",
            "Epoch 94/100\n",
            "1/1 [==============================] - 0s 3ms/step - loss: 6.9206 - mae: 6.9206\n",
            "Epoch 95/100\n",
            "1/1 [==============================] - 0s 3ms/step - loss: 6.9150 - mae: 6.9150\n",
            "Epoch 96/100\n",
            "1/1 [==============================] - 0s 5ms/step - loss: 6.9094 - mae: 6.9094\n",
            "Epoch 97/100\n",
            "1/1 [==============================] - 0s 3ms/step - loss: 6.9038 - mae: 6.9038\n",
            "Epoch 98/100\n",
            "1/1 [==============================] - 0s 4ms/step - loss: 6.8981 - mae: 6.8981\n",
            "Epoch 99/100\n",
            "1/1 [==============================] - 0s 7ms/step - loss: 6.8925 - mae: 6.8925\n",
            "Epoch 100/100\n",
            "1/1 [==============================] - 0s 7ms/step - loss: 6.8869 - mae: 6.8869\n"
          ],
          "name": "stdout"
        },
        {
          "output_type": "execute_result",
          "data": {
            "text/plain": [
              "<tensorflow.python.keras.callbacks.History at 0x7f40155e7610>"
            ]
          },
          "metadata": {
            "tags": []
          },
          "execution_count": 9
        }
      ]
    },
    {
      "cell_type": "code",
      "metadata": {
        "colab": {
          "base_uri": "https://localhost:8080/"
        },
        "id": "52s8vd3dvmvO",
        "outputId": "3900044b-1c7f-4fda-ede9-d1dcdbbbbf3b"
      },
      "source": [
        "X,y"
      ],
      "execution_count": 10,
      "outputs": [
        {
          "output_type": "execute_result",
          "data": {
            "text/plain": [
              "(<tf.Tensor: shape=(8,), dtype=float64, numpy=array([-7., -4., -1.,  2.,  5.,  8., 11., 14.])>,\n",
              " <tf.Tensor: shape=(8,), dtype=float64, numpy=array([ 3.,  6.,  9., 12., 15., 18., 21., 24.])>)"
            ]
          },
          "metadata": {
            "tags": []
          },
          "execution_count": 10
        }
      ]
    },
    {
      "cell_type": "code",
      "metadata": {
        "colab": {
          "base_uri": "https://localhost:8080/"
        },
        "id": "1b13Mrr1vulj",
        "outputId": "a388191c-5c33-4739-bbef-11999ba9f5f3"
      },
      "source": [
        "model.predict([17.0])"
      ],
      "execution_count": 11,
      "outputs": [
        {
          "output_type": "execute_result",
          "data": {
            "text/plain": [
              "array([[29.739855]], dtype=float32)"
            ]
          },
          "metadata": {
            "tags": []
          },
          "execution_count": 11
        }
      ]
    },
    {
      "cell_type": "code",
      "metadata": {
        "colab": {
          "base_uri": "https://localhost:8080/"
        },
        "id": "hEiIPngHvyIT",
        "outputId": "4d405187-c5cf-4e4b-f8b7-5038ae9dbfa0"
      },
      "source": [
        "## Rebuild the model with more layers and neurons\n",
        "model = tf.keras.Sequential([\n",
        "    tf.keras.layers.Dense(100, activation=None),\n",
        "    tf.keras.layers.Dense(1)\n",
        "])\n",
        "\n",
        "model.compile(\n",
        "    loss = tf.keras.losses.mae,\n",
        "    optimizer = tf.keras.optimizers.Adam(),\n",
        "    metrics = ['mae']\n",
        ")\n",
        "\n",
        "model.fit(X, y, epochs=55)"
      ],
      "execution_count": 12,
      "outputs": [
        {
          "output_type": "stream",
          "text": [
            "Epoch 1/55\n",
            "1/1 [==============================] - 0s 364ms/step - loss: 12.0109 - mae: 12.0109\n",
            "Epoch 2/55\n",
            "1/1 [==============================] - 0s 6ms/step - loss: 11.9188 - mae: 11.9188\n",
            "Epoch 3/55\n",
            "1/1 [==============================] - 0s 7ms/step - loss: 11.8264 - mae: 11.8264\n",
            "Epoch 4/55\n",
            "1/1 [==============================] - 0s 6ms/step - loss: 11.7340 - mae: 11.7340\n",
            "Epoch 5/55\n",
            "1/1 [==============================] - 0s 10ms/step - loss: 11.6413 - mae: 11.6413\n",
            "Epoch 6/55\n",
            "1/1 [==============================] - 0s 8ms/step - loss: 11.5485 - mae: 11.5485\n",
            "Epoch 7/55\n",
            "1/1 [==============================] - 0s 4ms/step - loss: 11.4555 - mae: 11.4555\n",
            "Epoch 8/55\n",
            "1/1 [==============================] - 0s 6ms/step - loss: 11.3622 - mae: 11.3622\n",
            "Epoch 9/55\n",
            "1/1 [==============================] - 0s 6ms/step - loss: 11.2688 - mae: 11.2688\n",
            "Epoch 10/55\n",
            "1/1 [==============================] - 0s 5ms/step - loss: 11.1752 - mae: 11.1752\n",
            "Epoch 11/55\n",
            "1/1 [==============================] - 0s 5ms/step - loss: 11.0813 - mae: 11.0813\n",
            "Epoch 12/55\n",
            "1/1 [==============================] - 0s 5ms/step - loss: 10.9871 - mae: 10.9871\n",
            "Epoch 13/55\n",
            "1/1 [==============================] - 0s 6ms/step - loss: 10.8927 - mae: 10.8927\n",
            "Epoch 14/55\n",
            "1/1 [==============================] - 0s 6ms/step - loss: 10.7980 - mae: 10.7980\n",
            "Epoch 15/55\n",
            "1/1 [==============================] - 0s 6ms/step - loss: 10.7029 - mae: 10.7029\n",
            "Epoch 16/55\n",
            "1/1 [==============================] - 0s 4ms/step - loss: 10.6076 - mae: 10.6076\n",
            "Epoch 17/55\n",
            "1/1 [==============================] - 0s 5ms/step - loss: 10.5118 - mae: 10.5118\n",
            "Epoch 18/55\n",
            "1/1 [==============================] - 0s 4ms/step - loss: 10.4157 - mae: 10.4157\n",
            "Epoch 19/55\n",
            "1/1 [==============================] - 0s 5ms/step - loss: 10.3192 - mae: 10.3192\n",
            "Epoch 20/55\n",
            "1/1 [==============================] - 0s 5ms/step - loss: 10.2223 - mae: 10.2223\n",
            "Epoch 21/55\n",
            "1/1 [==============================] - 0s 5ms/step - loss: 10.1249 - mae: 10.1249\n",
            "Epoch 22/55\n",
            "1/1 [==============================] - 0s 6ms/step - loss: 10.0271 - mae: 10.0271\n",
            "Epoch 23/55\n",
            "1/1 [==============================] - 0s 4ms/step - loss: 9.9287 - mae: 9.9287\n",
            "Epoch 24/55\n",
            "1/1 [==============================] - 0s 7ms/step - loss: 9.8299 - mae: 9.8299\n",
            "Epoch 25/55\n",
            "1/1 [==============================] - 0s 4ms/step - loss: 9.7304 - mae: 9.7304\n",
            "Epoch 26/55\n",
            "1/1 [==============================] - 0s 4ms/step - loss: 9.6304 - mae: 9.6304\n",
            "Epoch 27/55\n",
            "1/1 [==============================] - 0s 6ms/step - loss: 9.5298 - mae: 9.5298\n",
            "Epoch 28/55\n",
            "1/1 [==============================] - 0s 4ms/step - loss: 9.4286 - mae: 9.4286\n",
            "Epoch 29/55\n",
            "1/1 [==============================] - 0s 5ms/step - loss: 9.3267 - mae: 9.3267\n",
            "Epoch 30/55\n",
            "1/1 [==============================] - 0s 6ms/step - loss: 9.2241 - mae: 9.2241\n",
            "Epoch 31/55\n",
            "1/1 [==============================] - 0s 5ms/step - loss: 9.1208 - mae: 9.1208\n",
            "Epoch 32/55\n",
            "1/1 [==============================] - 0s 4ms/step - loss: 9.0169 - mae: 9.0169\n",
            "Epoch 33/55\n",
            "1/1 [==============================] - 0s 6ms/step - loss: 8.9121 - mae: 8.9121\n",
            "Epoch 34/55\n",
            "1/1 [==============================] - 0s 5ms/step - loss: 8.8066 - mae: 8.8066\n",
            "Epoch 35/55\n",
            "1/1 [==============================] - 0s 6ms/step - loss: 8.7003 - mae: 8.7003\n",
            "Epoch 36/55\n",
            "1/1 [==============================] - 0s 4ms/step - loss: 8.5933 - mae: 8.5933\n",
            "Epoch 37/55\n",
            "1/1 [==============================] - 0s 6ms/step - loss: 8.4853 - mae: 8.4853\n",
            "Epoch 38/55\n",
            "1/1 [==============================] - 0s 4ms/step - loss: 8.3766 - mae: 8.3766\n",
            "Epoch 39/55\n",
            "1/1 [==============================] - 0s 5ms/step - loss: 8.2669 - mae: 8.2669\n",
            "Epoch 40/55\n",
            "1/1 [==============================] - 0s 6ms/step - loss: 8.1564 - mae: 8.1564\n",
            "Epoch 41/55\n",
            "1/1 [==============================] - 0s 5ms/step - loss: 8.0449 - mae: 8.0449\n",
            "Epoch 42/55\n",
            "1/1 [==============================] - 0s 5ms/step - loss: 7.9325 - mae: 7.9325\n",
            "Epoch 43/55\n",
            "1/1 [==============================] - 0s 6ms/step - loss: 7.8191 - mae: 7.8191\n",
            "Epoch 44/55\n",
            "1/1 [==============================] - 0s 4ms/step - loss: 7.7048 - mae: 7.7048\n",
            "Epoch 45/55\n",
            "1/1 [==============================] - 0s 7ms/step - loss: 7.5895 - mae: 7.5895\n",
            "Epoch 46/55\n",
            "1/1 [==============================] - 0s 8ms/step - loss: 7.4731 - mae: 7.4731\n",
            "Epoch 47/55\n",
            "1/1 [==============================] - 0s 7ms/step - loss: 7.3557 - mae: 7.3557\n",
            "Epoch 48/55\n",
            "1/1 [==============================] - 0s 6ms/step - loss: 7.2373 - mae: 7.2373\n",
            "Epoch 49/55\n",
            "1/1 [==============================] - 0s 6ms/step - loss: 7.1178 - mae: 7.1178\n",
            "Epoch 50/55\n",
            "1/1 [==============================] - 0s 11ms/step - loss: 6.9972 - mae: 6.9972\n",
            "Epoch 51/55\n",
            "1/1 [==============================] - 0s 10ms/step - loss: 6.9567 - mae: 6.9567\n",
            "Epoch 52/55\n",
            "1/1 [==============================] - 0s 9ms/step - loss: 6.9429 - mae: 6.9429\n",
            "Epoch 53/55\n",
            "1/1 [==============================] - 0s 8ms/step - loss: 6.9293 - mae: 6.9293\n",
            "Epoch 54/55\n",
            "1/1 [==============================] - 0s 6ms/step - loss: 6.9159 - mae: 6.9159\n",
            "Epoch 55/55\n",
            "1/1 [==============================] - 0s 6ms/step - loss: 6.9028 - mae: 6.9028\n"
          ],
          "name": "stdout"
        },
        {
          "output_type": "execute_result",
          "data": {
            "text/plain": [
              "<tensorflow.python.keras.callbacks.History at 0x7f4016fd95d0>"
            ]
          },
          "metadata": {
            "tags": []
          },
          "execution_count": 12
        }
      ]
    },
    {
      "cell_type": "code",
      "metadata": {
        "colab": {
          "base_uri": "https://localhost:8080/"
        },
        "id": "Vb9R3W25yMNi",
        "outputId": "935f953e-9523-4d45-88ea-d71dce92e383"
      },
      "source": [
        "model.predict([18.0])"
      ],
      "execution_count": 13,
      "outputs": [
        {
          "output_type": "execute_result",
          "data": {
            "text/plain": [
              "array([[33.20948]], dtype=float32)"
            ]
          },
          "metadata": {
            "tags": []
          },
          "execution_count": 13
        }
      ]
    },
    {
      "cell_type": "code",
      "metadata": {
        "id": "hyechxDsyyAx",
        "colab": {
          "base_uri": "https://localhost:8080/"
        },
        "outputId": "30a8de11-8fb0-4d44-da6b-2f00f6fe3cf7"
      },
      "source": [
        "model = tf.keras.Sequential([\n",
        "    tf.keras.layers.Dense(100, activation=None),\n",
        "    tf.keras.layers.Dense(1)\n",
        "])\n",
        "\n",
        "model.compile(\n",
        "    loss = tf.keras.losses.mae,\n",
        "    optimizer = tf.keras.optimizers.Adam(lr=0.01),\n",
        "    metrics = ['mae']\n",
        ")\n",
        "\n",
        "model.fit(X, y, epochs=55)"
      ],
      "execution_count": 14,
      "outputs": [
        {
          "output_type": "stream",
          "text": [
            "/usr/local/lib/python3.7/dist-packages/tensorflow/python/keras/optimizer_v2/optimizer_v2.py:375: UserWarning: The `lr` argument is deprecated, use `learning_rate` instead.\n",
            "  \"The `lr` argument is deprecated, use `learning_rate` instead.\")\n"
          ],
          "name": "stderr"
        },
        {
          "output_type": "stream",
          "text": [
            "Epoch 1/55\n",
            "1/1 [==============================] - 0s 298ms/step - loss: 12.9917 - mae: 12.9917\n",
            "Epoch 2/55\n",
            "1/1 [==============================] - 0s 4ms/step - loss: 12.0062 - mae: 12.0062\n",
            "Epoch 3/55\n",
            "1/1 [==============================] - 0s 6ms/step - loss: 11.0143 - mae: 11.0143\n",
            "Epoch 4/55\n",
            "1/1 [==============================] - 0s 6ms/step - loss: 10.0116 - mae: 10.0116\n",
            "Epoch 5/55\n",
            "1/1 [==============================] - 0s 12ms/step - loss: 8.9926 - mae: 8.9926\n",
            "Epoch 6/55\n",
            "1/1 [==============================] - 0s 4ms/step - loss: 7.9516 - mae: 7.9516\n",
            "Epoch 7/55\n",
            "1/1 [==============================] - 0s 5ms/step - loss: 6.8829 - mae: 6.8829\n",
            "Epoch 8/55\n",
            "1/1 [==============================] - 0s 6ms/step - loss: 7.0003 - mae: 7.0003\n",
            "Epoch 9/55\n",
            "1/1 [==============================] - 0s 5ms/step - loss: 7.4311 - mae: 7.4311\n",
            "Epoch 10/55\n",
            "1/1 [==============================] - 0s 6ms/step - loss: 7.9359 - mae: 7.9359\n",
            "Epoch 11/55\n",
            "1/1 [==============================] - 0s 9ms/step - loss: 8.0257 - mae: 8.0257\n",
            "Epoch 12/55\n",
            "1/1 [==============================] - 0s 5ms/step - loss: 7.8246 - mae: 7.8246\n",
            "Epoch 13/55\n",
            "1/1 [==============================] - 0s 4ms/step - loss: 7.4197 - mae: 7.4197\n",
            "Epoch 14/55\n",
            "1/1 [==============================] - 0s 6ms/step - loss: 6.9100 - mae: 6.9100\n",
            "Epoch 15/55\n",
            "1/1 [==============================] - 0s 5ms/step - loss: 6.5428 - mae: 6.5428\n",
            "Epoch 16/55\n",
            "1/1 [==============================] - 0s 5ms/step - loss: 6.1612 - mae: 6.1612\n",
            "Epoch 17/55\n",
            "1/1 [==============================] - 0s 6ms/step - loss: 6.0252 - mae: 6.0252\n",
            "Epoch 18/55\n",
            "1/1 [==============================] - 0s 6ms/step - loss: 6.1165 - mae: 6.1165\n",
            "Epoch 19/55\n",
            "1/1 [==============================] - 0s 4ms/step - loss: 6.2575 - mae: 6.2575\n",
            "Epoch 20/55\n",
            "1/1 [==============================] - 0s 5ms/step - loss: 6.2538 - mae: 6.2538\n",
            "Epoch 21/55\n",
            "1/1 [==============================] - 0s 6ms/step - loss: 6.1253 - mae: 6.1253\n",
            "Epoch 22/55\n",
            "1/1 [==============================] - 0s 4ms/step - loss: 5.8858 - mae: 5.8858\n",
            "Epoch 23/55\n",
            "1/1 [==============================] - 0s 6ms/step - loss: 5.5444 - mae: 5.5444\n",
            "Epoch 24/55\n",
            "1/1 [==============================] - 0s 5ms/step - loss: 5.2812 - mae: 5.2812\n",
            "Epoch 25/55\n",
            "1/1 [==============================] - 0s 4ms/step - loss: 5.1228 - mae: 5.1228\n",
            "Epoch 26/55\n",
            "1/1 [==============================] - 0s 6ms/step - loss: 5.1721 - mae: 5.1721\n",
            "Epoch 27/55\n",
            "1/1 [==============================] - 0s 4ms/step - loss: 5.1686 - mae: 5.1686\n",
            "Epoch 28/55\n",
            "1/1 [==============================] - 0s 10ms/step - loss: 5.1048 - mae: 5.1048\n",
            "Epoch 29/55\n",
            "1/1 [==============================] - 0s 6ms/step - loss: 4.9844 - mae: 4.9844\n",
            "Epoch 30/55\n",
            "1/1 [==============================] - 0s 5ms/step - loss: 4.8109 - mae: 4.8109\n",
            "Epoch 31/55\n",
            "1/1 [==============================] - 0s 5ms/step - loss: 4.5875 - mae: 4.5875\n",
            "Epoch 32/55\n",
            "1/1 [==============================] - 0s 6ms/step - loss: 4.3176 - mae: 4.3176\n",
            "Epoch 33/55\n",
            "1/1 [==============================] - 0s 4ms/step - loss: 4.0036 - mae: 4.0036\n",
            "Epoch 34/55\n",
            "1/1 [==============================] - 0s 9ms/step - loss: 3.7745 - mae: 3.7745\n",
            "Epoch 35/55\n",
            "1/1 [==============================] - 0s 7ms/step - loss: 3.6834 - mae: 3.6834\n",
            "Epoch 36/55\n",
            "1/1 [==============================] - 0s 4ms/step - loss: 3.5879 - mae: 3.5879\n",
            "Epoch 37/55\n",
            "1/1 [==============================] - 0s 12ms/step - loss: 3.3213 - mae: 3.3213\n",
            "Epoch 38/55\n",
            "1/1 [==============================] - 0s 6ms/step - loss: 2.9549 - mae: 2.9549\n",
            "Epoch 39/55\n",
            "1/1 [==============================] - 0s 4ms/step - loss: 2.6902 - mae: 2.6902\n",
            "Epoch 40/55\n",
            "1/1 [==============================] - 0s 4ms/step - loss: 2.5101 - mae: 2.5101\n",
            "Epoch 41/55\n",
            "1/1 [==============================] - 0s 4ms/step - loss: 2.2532 - mae: 2.2532\n",
            "Epoch 42/55\n",
            "1/1 [==============================] - 0s 6ms/step - loss: 1.9208 - mae: 1.9208\n",
            "Epoch 43/55\n",
            "1/1 [==============================] - 0s 6ms/step - loss: 1.6153 - mae: 1.6153\n",
            "Epoch 44/55\n",
            "1/1 [==============================] - 0s 11ms/step - loss: 1.4712 - mae: 1.4712\n",
            "Epoch 45/55\n",
            "1/1 [==============================] - 0s 5ms/step - loss: 1.1165 - mae: 1.1165\n",
            "Epoch 46/55\n",
            "1/1 [==============================] - 0s 5ms/step - loss: 0.6236 - mae: 0.6236\n",
            "Epoch 47/55\n",
            "1/1 [==============================] - 0s 6ms/step - loss: 0.3776 - mae: 0.3776\n",
            "Epoch 48/55\n",
            "1/1 [==============================] - 0s 5ms/step - loss: 0.1215 - mae: 0.1215\n",
            "Epoch 49/55\n",
            "1/1 [==============================] - 0s 5ms/step - loss: 0.5303 - mae: 0.5303\n",
            "Epoch 50/55\n",
            "1/1 [==============================] - 0s 5ms/step - loss: 0.6418 - mae: 0.6418\n",
            "Epoch 51/55\n",
            "1/1 [==============================] - 0s 5ms/step - loss: 0.8922 - mae: 0.8922\n",
            "Epoch 52/55\n",
            "1/1 [==============================] - 0s 5ms/step - loss: 0.9264 - mae: 0.9264\n",
            "Epoch 53/55\n",
            "1/1 [==============================] - 0s 4ms/step - loss: 0.8816 - mae: 0.8816\n",
            "Epoch 54/55\n",
            "1/1 [==============================] - 0s 4ms/step - loss: 0.9135 - mae: 0.9135\n",
            "Epoch 55/55\n",
            "1/1 [==============================] - 0s 7ms/step - loss: 0.7253 - mae: 0.7253\n"
          ],
          "name": "stdout"
        },
        {
          "output_type": "execute_result",
          "data": {
            "text/plain": [
              "<tensorflow.python.keras.callbacks.History at 0x7f40126e4150>"
            ]
          },
          "metadata": {
            "tags": []
          },
          "execution_count": 14
        }
      ]
    },
    {
      "cell_type": "code",
      "metadata": {
        "colab": {
          "base_uri": "https://localhost:8080/"
        },
        "id": "yXPwcEXzO4sZ",
        "outputId": "b850b9ed-1dfa-411a-e2e3-40388fa3f094"
      },
      "source": [
        "model.predict([18.0])"
      ],
      "execution_count": 15,
      "outputs": [
        {
          "output_type": "execute_result",
          "data": {
            "text/plain": [
              "array([[28.360376]], dtype=float32)"
            ]
          },
          "metadata": {
            "tags": []
          },
          "execution_count": 15
        }
      ]
    },
    {
      "cell_type": "markdown",
      "metadata": {
        "id": "XAyTRObcO7hA"
      },
      "source": [
        "- The learning rate is the most powerful parameter in training a nn"
      ]
    },
    {
      "cell_type": "markdown",
      "metadata": {
        "id": "eoJipyASPoSl"
      },
      "source": [
        "### Improving models\n",
        "- Adding layers\n",
        "- increase the number of hidden units\n",
        "- change the activation functions\n",
        "- change the optimization function\n",
        "- change the learning rate\n",
        "- Fitting on more data\n",
        "- fitting for longer by increasing epochs\n",
        "\n",
        "> these values that we can modify are called HyperParameters\n",
        "\n",
        "- when building the model, experiement more,\n",
        "- when testing the model visualize more"
      ]
    },
    {
      "cell_type": "markdown",
      "metadata": {
        "id": "hjHaZ8SxR-GK"
      },
      "source": [
        "#### Bigger Dataset"
      ]
    },
    {
      "cell_type": "code",
      "metadata": {
        "colab": {
          "base_uri": "https://localhost:8080/"
        },
        "id": "25TB72CpSaW6",
        "outputId": "24f4e5b2-872f-40f4-88c8-18c6c539f1ef"
      },
      "source": [
        "X = tf.constant(range(-100, 100, 4))\n",
        "X"
      ],
      "execution_count": 16,
      "outputs": [
        {
          "output_type": "execute_result",
          "data": {
            "text/plain": [
              "<tf.Tensor: shape=(50,), dtype=int32, numpy=\n",
              "array([-100,  -96,  -92,  -88,  -84,  -80,  -76,  -72,  -68,  -64,  -60,\n",
              "        -56,  -52,  -48,  -44,  -40,  -36,  -32,  -28,  -24,  -20,  -16,\n",
              "        -12,   -8,   -4,    0,    4,    8,   12,   16,   20,   24,   28,\n",
              "         32,   36,   40,   44,   48,   52,   56,   60,   64,   68,   72,\n",
              "         76,   80,   84,   88,   92,   96], dtype=int32)>"
            ]
          },
          "metadata": {
            "tags": []
          },
          "execution_count": 16
        }
      ]
    },
    {
      "cell_type": "code",
      "metadata": {
        "id": "EluIMq4eSgWr"
      },
      "source": [
        "y = X + 10"
      ],
      "execution_count": 17,
      "outputs": []
    },
    {
      "cell_type": "code",
      "metadata": {
        "colab": {
          "base_uri": "https://localhost:8080/",
          "height": 282
        },
        "id": "qmp4YXHfSibM",
        "outputId": "676eb49e-7565-432d-8c01-f80eb73ab0d6"
      },
      "source": [
        "plt.scatter(X, y)"
      ],
      "execution_count": 18,
      "outputs": [
        {
          "output_type": "execute_result",
          "data": {
            "text/plain": [
              "<matplotlib.collections.PathCollection at 0x7f4012f4d290>"
            ]
          },
          "metadata": {
            "tags": []
          },
          "execution_count": 18
        },
        {
          "output_type": "display_data",
          "data": {
            "image/png": "[encoded data removed]",
            "text/plain": [
              "<Figure size 432x288 with 1 Axes>"
            ]
          },
          "metadata": {
            "tags": [],
            "needs_background": "light"
          }
        }
      ]
    },
    {
      "cell_type": "markdown",
      "metadata": {
        "id": "-G4Db-AXSqEz"
      },
      "source": [
        "#### Training testing splitting\n"
      ]
    },
    {
      "cell_type": "code",
      "metadata": {
        "colab": {
          "base_uri": "https://localhost:8080/"
        },
        "id": "NXsSJS_UUX50",
        "outputId": "bde29fac-4a12-4f25-a1d9-821e59a21a3e"
      },
      "source": [
        "len(X)"
      ],
      "execution_count": 19,
      "outputs": [
        {
          "output_type": "execute_result",
          "data": {
            "text/plain": [
              "50"
            ]
          },
          "metadata": {
            "tags": []
          },
          "execution_count": 19
        }
      ]
    },
    {
      "cell_type": "code",
      "metadata": {
        "id": "nEI-77NBTQ9G"
      },
      "source": [
        "# from sklearn.model_selection import train_test_split"
      ],
      "execution_count": 20,
      "outputs": []
    },
    {
      "cell_type": "code",
      "metadata": {
        "colab": {
          "base_uri": "https://localhost:8080/"
        },
        "id": "3w5DdIsmTYc5",
        "outputId": "ddbdb9ed-a7f9-42d5-a3a7-ba6eda2784a1"
      },
      "source": [
        "X_train = X[:40] #First 80per\n",
        "X_test = X[40:]\n",
        "\n",
        "y_train = y[:40]\n",
        "y_test = y[40:]\n",
        "\n",
        "len(X_train), len(X_test), len(y_train), len(y_test)"
      ],
      "execution_count": 21,
      "outputs": [
        {
          "output_type": "execute_result",
          "data": {
            "text/plain": [
              "(40, 10, 40, 10)"
            ]
          },
          "metadata": {
            "tags": []
          },
          "execution_count": 21
        }
      ]
    },
    {
      "cell_type": "markdown",
      "metadata": {
        "id": "OWJ7PAieTaf_"
      },
      "source": [
        "#### visualizing data\n",
        "- Visualizing training and testing data"
      ]
    },
    {
      "cell_type": "code",
      "metadata": {
        "colab": {
          "base_uri": "https://localhost:8080/",
          "height": 445
        },
        "id": "TGvd5oaxVXM_",
        "outputId": "e1afcbd7-2604-4b6d-865c-9b27845764bd"
      },
      "source": [
        "plt.figure(figsize=(10,7))\n",
        "\n",
        "plt.scatter(X_train, y_train, c='b', label='Training Data')\n",
        "plt.scatter(X_test, y_test, c='g', label='Testing Data')\n",
        "plt.legend()"
      ],
      "execution_count": 22,
      "outputs": [
        {
          "output_type": "execute_result",
          "data": {
            "text/plain": [
              "<matplotlib.legend.Legend at 0x7f4011588050>"
            ]
          },
          "metadata": {
            "tags": []
          },
          "execution_count": 22
        },
        {
          "output_type": "display_data",
          "data": {
            "image/png": "[encoded data removed]",
            "text/plain": [
              "<Figure size 720x504 with 1 Axes>"
            ]
          },
          "metadata": {
            "tags": [],
            "needs_background": "light"
          }
        }
      ]
    },
    {
      "cell_type": "markdown",
      "metadata": {
        "id": "X3kGp1jzZ9qm"
      },
      "source": [
        "### Neural network"
      ]
    },
    {
      "cell_type": "code",
      "metadata": {
        "id": "tMDIWBfgeyiK"
      },
      "source": [
        "#1. Create a model\n",
        "model = tf.keras.Sequential([\n",
        "        tf.keras.layers.Dense(1)\n",
        "])\n",
        "# 2. compile the model\n",
        "model.compile(\n",
        "    loss = tf.keras.losses.mae,\n",
        "    optimizer=tf.keras.optimizers.SGD(),\n",
        "    metrics=['mae']\n",
        ")\n"
      ],
      "execution_count": 23,
      "outputs": []
    },
    {
      "cell_type": "code",
      "metadata": {
        "colab": {
          "base_uri": "https://localhost:8080/",
          "height": 311
        },
        "id": "jWCQT6N9fVOh",
        "outputId": "8dda7aef-e325-40df-8783-0dfaf192ea51"
      },
      "source": [
        "model.build()"
      ],
      "execution_count": 25,
      "outputs": [
        {
          "output_type": "error",
          "ename": "ValueError",
          "evalue": "ignored",
          "traceback": [
            "\u001b[0;31m---------------------------------------------------------------------------\u001b[0m",
            "\u001b[0;31mValueError\u001b[0m                                Traceback (most recent call last)",
            "\u001b[0;32m<ipython-input-25-2f52417d930d>\u001b[0m in \u001b[0;36m<module>\u001b[0;34m()\u001b[0m\n\u001b[0;32m----> 1\u001b[0;31m \u001b[0mmodel\u001b[0m\u001b[0;34m.\u001b[0m\u001b[0mbuild\u001b[0m\u001b[0;34m(\u001b[0m\u001b[0;34m)\u001b[0m\u001b[0;34m\u001b[0m\u001b[0;34m\u001b[0m\u001b[0m\n\u001b[0m",
            "\u001b[0;32m/usr/local/lib/python3.7/dist-packages/tensorflow/python/keras/engine/sequential.py\u001b[0m in \u001b[0;36mbuild\u001b[0;34m(self, input_shape)\u001b[0m\n\u001b[1;32m    349\u001b[0m     \u001b[0;32melse\u001b[0m\u001b[0;34m:\u001b[0m\u001b[0;34m\u001b[0m\u001b[0;34m\u001b[0m\u001b[0m\n\u001b[1;32m    350\u001b[0m       \u001b[0;32mif\u001b[0m \u001b[0minput_shape\u001b[0m \u001b[0;32mis\u001b[0m \u001b[0;32mNone\u001b[0m\u001b[0;34m:\u001b[0m\u001b[0;34m\u001b[0m\u001b[0;34m\u001b[0m\u001b[0m\n\u001b[0;32m--> 351\u001b[0;31m         \u001b[0;32mraise\u001b[0m \u001b[0mValueError\u001b[0m\u001b[0;34m(\u001b[0m\u001b[0;34m'You must provide an `input_shape` argument.'\u001b[0m\u001b[0;34m)\u001b[0m\u001b[0;34m\u001b[0m\u001b[0;34m\u001b[0m\u001b[0m\n\u001b[0m\u001b[1;32m    352\u001b[0m       \u001b[0mself\u001b[0m\u001b[0;34m.\u001b[0m\u001b[0m_build_graph_network_for_inferred_shape\u001b[0m\u001b[0;34m(\u001b[0m\u001b[0minput_shape\u001b[0m\u001b[0;34m)\u001b[0m\u001b[0;34m\u001b[0m\u001b[0;34m\u001b[0m\u001b[0m\n\u001b[1;32m    353\u001b[0m       \u001b[0;32mif\u001b[0m \u001b[0;32mnot\u001b[0m \u001b[0mself\u001b[0m\u001b[0;34m.\u001b[0m\u001b[0mbuilt\u001b[0m\u001b[0;34m:\u001b[0m\u001b[0;34m\u001b[0m\u001b[0;34m\u001b[0m\u001b[0m\n",
            "\u001b[0;31mValueError\u001b[0m: You must provide an `input_shape` argument."
          ]
        }
      ]
    },
    {
      "cell_type": "code",
      "metadata": {
        "colab": {
          "base_uri": "https://localhost:8080/"
        },
        "id": "XtBzwsZ0fdTw",
        "outputId": "2dbe171b-7b4a-4d66-bc19-5de934bf6220"
      },
      "source": [
        "# create a model that builds automatically by including input shape\n",
        "tf.random.set_seed(42)\n",
        "#1. Create a model\n",
        "model = tf.keras.Sequential([\n",
        "    tf.keras.layers.Dense(10, input_shape=[1]) # we are using one value to predict one value\n",
        "])\n",
        "\n",
        "# compile the model\n",
        "model.compile(\n",
        "    loss = tf.keras.losses.mae,\n",
        "    optimizer = tf.keras.optimizers.SGD(),\n",
        "    metrics=['mae']\n",
        ")\n",
        "\n",
        "model.summary()"
      ],
      "execution_count": 26,
      "outputs": [
        {
          "output_type": "stream",
          "text": [
            "Model: \"sequential_5\"\n",
            "_________________________________________________________________\n",
            "Layer (type)                 Output Shape              Param #   \n",
            "=================================================================\n",
            "dense_7 (Dense)              (None, 10)                20        \n",
            "=================================================================\n",
            "Total params: 20\n",
            "Trainable params: 20\n",
            "Non-trainable params: 0\n",
            "_________________________________________________________________\n"
          ],
          "name": "stdout"
        }
      ]
    },
    {
      "cell_type": "markdown",
      "metadata": {
        "id": "SYoFYyIBgK9h"
      },
      "source": [
        "- total params - total number of parameters in the model, X and Y\n",
        "- Trainable parameters - there are the paramaeters(patterns) the model can update as it trains\n",
        "- Non-trainable params - which are not updated during training,  when you bring in already learned params from other models\n",
        "\n",
        "- 10 hidden units results in  20 params, 20 trainable params\n",
        "- weight and bias for each hidden unit"
      ]
    },
    {
      "cell_type": "code",
      "metadata": {
        "colab": {
          "base_uri": "https://localhost:8080/"
        },
        "id": "dtNtfYu-glkY",
        "outputId": "1faa10b6-e853-4177-eaf8-b963aeecf1e8"
      },
      "source": [
        "model.fit(X_train, y_train, epochs=100, verbose=0)"
      ],
      "execution_count": 27,
      "outputs": [
        {
          "output_type": "execute_result",
          "data": {
            "text/plain": [
              "<tensorflow.python.keras.callbacks.History at 0x7f40113e19d0>"
            ]
          },
          "metadata": {
            "tags": []
          },
          "execution_count": 27
        }
      ]
    },
    {
      "cell_type": "code",
      "metadata": {
        "colab": {
          "base_uri": "https://localhost:8080/"
        },
        "id": "KKGTjp0RBZjV",
        "outputId": "5fdda91f-97ed-4852-cc3a-6ff7ef2ddaf4"
      },
      "source": [
        "model.summary()"
      ],
      "execution_count": 28,
      "outputs": [
        {
          "output_type": "stream",
          "text": [
            "Model: \"sequential_5\"\n",
            "_________________________________________________________________\n",
            "Layer (type)                 Output Shape              Param #   \n",
            "=================================================================\n",
            "dense_7 (Dense)              (None, 10)                20        \n",
            "=================================================================\n",
            "Total params: 20\n",
            "Trainable params: 20\n",
            "Non-trainable params: 0\n",
            "_________________________________________________________________\n"
          ],
          "name": "stdout"
        }
      ]
    },
    {
      "cell_type": "code",
      "metadata": {
        "id": "tMKLtb8mBcyJ"
      },
      "source": [
        "from tensorflow.keras.utils import plot_model\n"
      ],
      "execution_count": 29,
      "outputs": []
    },
    {
      "cell_type": "code",
      "metadata": {
        "colab": {
          "base_uri": "https://localhost:8080/",
          "height": 201
        },
        "id": "Mi44015_CYCc",
        "outputId": "c579e362-6f80-4f25-a521-cf74744d4e60"
      },
      "source": [
        "plot_model(model=model, show_shapes=True)"
      ],
      "execution_count": 30,
      "outputs": [
        {
          "output_type": "execute_result",
          "data": {
            "image/png": "[encoded data removed]",
            "text/plain": [
              "<IPython.core.display.Image object>"
            ]
          },
          "metadata": {
            "tags": []
          },
          "execution_count": 30
        }
      ]
    },
    {
      "cell_type": "code",
      "metadata": {
        "colab": {
          "base_uri": "https://localhost:8080/"
        },
        "id": "VyOsGMBnCad6",
        "outputId": "c7a396e8-5691-4c5b-a58f-20f81eec2269"
      },
      "source": [
        "tf.random.set_seed(42)\n",
        "model = tf.keras.Sequential(\n",
        "    [\n",
        "     tf.keras.layers.Dense(10, input_shape=[1], name='input_layer'),\n",
        "     tf.keras.layers.Dense(1, name=\"output_layer\")\n",
        "    ],\n",
        "    name=\"model2\"\n",
        ")\n",
        "\n",
        "model.compile(\n",
        "    loss = tf.keras.losses.mae,\n",
        "    optimizer = tf.keras.optimizers.Adam(lr=0.01),\n",
        "    metrics=['mae']\n",
        ")"
      ],
      "execution_count": 31,
      "outputs": [
        {
          "output_type": "stream",
          "text": [
            "/usr/local/lib/python3.7/dist-packages/tensorflow/python/keras/optimizer_v2/optimizer_v2.py:375: UserWarning: The `lr` argument is deprecated, use `learning_rate` instead.\n",
            "  \"The `lr` argument is deprecated, use `learning_rate` instead.\")\n"
          ],
          "name": "stderr"
        }
      ]
    },
    {
      "cell_type": "code",
      "metadata": {
        "colab": {
          "base_uri": "https://localhost:8080/"
        },
        "id": "Z55BOoEQDKSR",
        "outputId": "f55f9a5e-2bf0-4281-bc6e-4a2e36b4e407"
      },
      "source": [
        "model.summary()"
      ],
      "execution_count": 32,
      "outputs": [
        {
          "output_type": "stream",
          "text": [
            "Model: \"model2\"\n",
            "_________________________________________________________________\n",
            "Layer (type)                 Output Shape              Param #   \n",
            "=================================================================\n",
            "input_layer (Dense)          (None, 10)                20        \n",
            "_________________________________________________________________\n",
            "output_layer (Dense)         (None, 1)                 11        \n",
            "=================================================================\n",
            "Total params: 31\n",
            "Trainable params: 31\n",
            "Non-trainable params: 0\n",
            "_________________________________________________________________\n"
          ],
          "name": "stdout"
        }
      ]
    },
    {
      "cell_type": "code",
      "metadata": {
        "colab": {
          "base_uri": "https://localhost:8080/",
          "height": 272
        },
        "id": "I_tGI__rDP61",
        "outputId": "5623815f-eeaf-4609-b151-eaed56803a67"
      },
      "source": [
        "plot_model(model)"
      ],
      "execution_count": 33,
      "outputs": [
        {
          "output_type": "execute_result",
          "data": {
            "image/png": "[encoded data removed]",
            "text/plain": [
              "<IPython.core.display.Image object>"
            ]
          },
          "metadata": {
            "tags": []
          },
          "execution_count": 33
        }
      ]
    },
    {
      "cell_type": "markdown",
      "metadata": {
        "id": "fnaYlFHyDhUS"
      },
      "source": [
        "### visualizing model predictions\n",
        "\n",
        "- to visualize predictions its good to plot them against the ground truth labels\n"
      ]
    },
    {
      "cell_type": "code",
      "metadata": {
        "colab": {
          "base_uri": "https://localhost:8080/"
        },
        "id": "rq_VYq5NHhiP",
        "outputId": "4e65ca95-90ad-41fe-ca47-9489dc935444"
      },
      "source": [
        "model.fit(X_train, y_train, epochs=100, verbose=0)"
      ],
      "execution_count": 34,
      "outputs": [
        {
          "output_type": "execute_result",
          "data": {
            "text/plain": [
              "<tensorflow.python.keras.callbacks.History at 0x7f4016d8d690>"
            ]
          },
          "metadata": {
            "tags": []
          },
          "execution_count": 34
        }
      ]
    },
    {
      "cell_type": "code",
      "metadata": {
        "colab": {
          "base_uri": "https://localhost:8080/"
        },
        "id": "_HRijxY0Ep8E",
        "outputId": "8d543687-be28-45f8-991e-606fcc310352"
      },
      "source": [
        "y_pred = model.predict(X_test)\n",
        "y_pred, y_test"
      ],
      "execution_count": 35,
      "outputs": [
        {
          "output_type": "stream",
          "text": [
            "WARNING:tensorflow:5 out of the last 5 calls to <function Model.make_predict_function.<locals>.predict_function at 0x7f4016ddd560> triggered tf.function retracing. Tracing is expensive and the excessive number of tracings could be due to (1) creating @tf.function repeatedly in a loop, (2) passing tensors with different shapes, (3) passing Python objects instead of tensors. For (1), please define your @tf.function outside of the loop. For (2), @tf.function has experimental_relax_shapes=True option that relaxes argument shapes that can avoid unnecessary retracing. For (3), please refer to https://www.tensorflow.org/guide/function#controlling_retracing and https://www.tensorflow.org/api_docs/python/tf/function for  more details.\n"
          ],
          "name": "stdout"
        },
        {
          "output_type": "execute_result",
          "data": {
            "text/plain": [
              "(array([[ 72.42797 ],\n",
              "        [ 76.58641 ],\n",
              "        [ 80.74485 ],\n",
              "        [ 84.90329 ],\n",
              "        [ 89.06173 ],\n",
              "        [ 93.22018 ],\n",
              "        [ 97.378624],\n",
              "        [101.537056],\n",
              "        [105.695496],\n",
              "        [109.853935]], dtype=float32),\n",
              " <tf.Tensor: shape=(10,), dtype=int32, numpy=array([ 70,  74,  78,  82,  86,  90,  94,  98, 102, 106], dtype=int32)>)"
            ]
          },
          "metadata": {
            "tags": []
          },
          "execution_count": 35
        }
      ]
    },
    {
      "cell_type": "markdown",
      "metadata": {
        "id": "QFJVScHpFOk-"
      },
      "source": [
        "#### Creating a plotting function"
      ]
    },
    {
      "cell_type": "code",
      "metadata": {
        "id": "ZUJ-rjB2GVSB"
      },
      "source": [
        ""
      ],
      "execution_count": 35,
      "outputs": []
    },
    {
      "cell_type": "code",
      "metadata": {
        "id": "DJ2CJ2lkFgX5"
      },
      "source": [
        "def plot_predictions(train_data=X_train,\n",
        "                     train_labels=y_train,\n",
        "                     test_data=X_test,\n",
        "                     test_labels=y_test,\n",
        "                     predictions=y_pred):\n",
        "  '''\n",
        "  Plots training data, test data and compares predictions to ground truth labels\n",
        "  '''\n",
        "  plt.figure(figsize=(10,7))\n",
        "  # plot training data in blue\n",
        "  plt.scatter(train_data, train_labels, c='b', label=\"Training data\")\n",
        "  \n",
        "  #plot testing data in green\n",
        "  plt.scatter(test_data, test_labels, c='g', label=\"Testing data\")\n",
        "\n",
        "  #plot predictions in red\n",
        "  plt.scatter(test_data, predictions, c=\"r\", label=\"predictions\")\n",
        "  plt.legend()"
      ],
      "execution_count": 36,
      "outputs": []
    },
    {
      "cell_type": "code",
      "metadata": {
        "colab": {
          "base_uri": "https://localhost:8080/",
          "height": 427
        },
        "id": "0DcbVrl-G0DM",
        "outputId": "2bc5a42c-54ed-4b3c-d8bd-d88d1f34e384"
      },
      "source": [
        "plot_predictions()"
      ],
      "execution_count": 37,
      "outputs": [
        {
          "output_type": "display_data",
          "data": {
            "image/png": "[encoded data removed]",
            "text/plain": [
              "<Figure size 720x504 with 1 Axes>"
            ]
          },
          "metadata": {
            "tags": [],
            "needs_background": "light"
          }
        }
      ]
    },
    {
      "cell_type": "markdown",
      "metadata": {
        "id": "SlQobIIIG4Tt"
      },
      "source": [
        "### Evaluation Metrics\n",
        "for regression: \n",
        "- **MAE**: mean absolute error get abs and find mean\n",
        "- **MSE**: mean square error, get squares and find mean- when larger errors are more significant than smaller onese\n",
        "- Huber: less sensitive to  outliers\n",
        "\n",
        "\n",
        "\n",
        "\n"
      ]
    },
    {
      "cell_type": "code",
      "metadata": {
        "colab": {
          "base_uri": "https://localhost:8080/"
        },
        "id": "Qb5NiqHoOElh",
        "outputId": "8d0d7bb2-7f45-40d7-f883-65e8b8f89dab"
      },
      "source": [
        "#Evaluate the model\n",
        "model.evaluate(X_test, y_test)"
      ],
      "execution_count": 38,
      "outputs": [
        {
          "output_type": "stream",
          "text": [
            "1/1 [==============================] - 0s 107ms/step - loss: 3.1410 - mae: 3.1410\n"
          ],
          "name": "stdout"
        },
        {
          "output_type": "execute_result",
          "data": {
            "text/plain": [
              "[3.1409544944763184, 3.1409544944763184]"
            ]
          },
          "metadata": {
            "tags": []
          },
          "execution_count": 38
        }
      ]
    },
    {
      "cell_type": "code",
      "metadata": {
        "colab": {
          "base_uri": "https://localhost:8080/"
        },
        "id": "JVZTWUpAPJYv",
        "outputId": "051984b4-c4e2-4af9-a890-2cffc08e07b5"
      },
      "source": [
        "tf.metrics.mean_absolute_error(y_test,y_pred)"
      ],
      "execution_count": 39,
      "outputs": [
        {
          "output_type": "execute_result",
          "data": {
            "text/plain": [
              "<tf.Tensor: shape=(10,), dtype=float32, numpy=\n",
              "array([16.057623, 13.248154, 11.30206 , 10.219342, 10.      , 10.644035,\n",
              "       12.151449, 14.522234, 17.756397, 21.853935], dtype=float32)>"
            ]
          },
          "metadata": {
            "tags": []
          },
          "execution_count": 39
        }
      ]
    },
    {
      "cell_type": "markdown",
      "metadata": {
        "id": "zAP7NcHPRPSj"
      },
      "source": [
        "### Problem\n",
        "- We are dealing with tensors and we should ensure that the two values have idential shapes"
      ]
    },
    {
      "cell_type": "code",
      "metadata": {
        "colab": {
          "base_uri": "https://localhost:8080/"
        },
        "id": "9gZDZLuMVxkh",
        "outputId": "3a2347a0-060f-43a2-8c37-dec4d270be3f"
      },
      "source": [
        "y_test.shape"
      ],
      "execution_count": 40,
      "outputs": [
        {
          "output_type": "execute_result",
          "data": {
            "text/plain": [
              "TensorShape([10])"
            ]
          },
          "metadata": {
            "tags": []
          },
          "execution_count": 40
        }
      ]
    },
    {
      "cell_type": "code",
      "metadata": {
        "colab": {
          "base_uri": "https://localhost:8080/"
        },
        "id": "S4ifTVyyV0BT",
        "outputId": "437aa1a6-2db7-42c6-ff8e-c47da30c3ee5"
      },
      "source": [
        "y_pred.shape"
      ],
      "execution_count": 41,
      "outputs": [
        {
          "output_type": "execute_result",
          "data": {
            "text/plain": [
              "(10, 1)"
            ]
          },
          "metadata": {
            "tags": []
          },
          "execution_count": 41
        }
      ]
    },
    {
      "cell_type": "code",
      "metadata": {
        "id": "7IkAIHUSV1ox"
      },
      "source": [
        "mae =  tf.metrics.mean_absolute_error(y_test, tf.squeeze(y_pred))"
      ],
      "execution_count": 42,
      "outputs": []
    },
    {
      "cell_type": "code",
      "metadata": {
        "colab": {
          "base_uri": "https://localhost:8080/"
        },
        "id": "vIb-JCCsWAbh",
        "outputId": "92f14fe3-16d2-447f-a13b-335b0b2b0011"
      },
      "source": [
        "mae"
      ],
      "execution_count": 43,
      "outputs": [
        {
          "output_type": "execute_result",
          "data": {
            "text/plain": [
              "<tf.Tensor: shape=(), dtype=float32, numpy=3.1409538>"
            ]
          },
          "metadata": {
            "tags": []
          },
          "execution_count": 43
        }
      ]
    },
    {
      "cell_type": "code",
      "metadata": {
        "colab": {
          "base_uri": "https://localhost:8080/"
        },
        "id": "b5Dbl3n4WFRC",
        "outputId": "b3130020-dc50-45b6-c00b-63cb07118655"
      },
      "source": [
        "# Mean square error\n",
        "mse = tf.metrics.mean_squared_error(y_test, tf.squeeze(y_pred))\n",
        "mse"
      ],
      "execution_count": 44,
      "outputs": [
        {
          "output_type": "execute_result",
          "data": {
            "text/plain": [
              "<tf.Tensor: shape=(), dtype=float32, numpy=10.072696>"
            ]
          },
          "metadata": {
            "tags": []
          },
          "execution_count": 44
        }
      ]
    },
    {
      "cell_type": "code",
      "metadata": {
        "id": "r-Nz7eDNXAUW"
      },
      "source": [
        "def mae(y_true, y_pred):\n",
        "  return tf.metrics.mean_absolute_error(y_true=y_true, y_pred= tf.squeeze(y_pred))\n",
        "\n",
        "def mse(y_true, y_pred):\n",
        "  return tf.metrics.mean_squared_error(y_true= y_true, y_pred=tf.squeeze(y_pred))"
      ],
      "execution_count": 45,
      "outputs": []
    },
    {
      "cell_type": "markdown",
      "metadata": {
        "id": "T4G3oEoOYRXo"
      },
      "source": [
        "### Improving model. Modeling Experiments\n",
        "- improve the results and fit the red dots to the green dots\n",
        "\n",
        "1. one layer train for 100 epochs\n",
        "2. 2 layers trained for 100 epochs\n",
        "3. 2 layers trained for 500 epochs\n",
        "4. 3 layers trained for 100 epochs\n",
        "5. 3 layers trained for 500 epochs"
      ]
    },
    {
      "cell_type": "code",
      "metadata": {
        "id": "O3qcSzo6Vms7"
      },
      "source": [
        "model1_desc = 'one layer(1), 100 epochs'\n",
        "model2_desc = '2 layers(100,1), 100 epochs'\n",
        "model3_desc = '2 layers(100,1), 500 epochs'"
      ],
      "execution_count": 84,
      "outputs": []
    },
    {
      "cell_type": "markdown",
      "metadata": {
        "id": "t_GLsMyGY-RZ"
      },
      "source": [
        "#### Model 1"
      ]
    },
    {
      "cell_type": "code",
      "metadata": {
        "colab": {
          "base_uri": "https://localhost:8080/"
        },
        "id": "gAp82O9jZl5-",
        "outputId": "5a6c8814-67e0-4a29-b664-322693cf509b"
      },
      "source": [
        "tf.random.set_seed(42)\n",
        "\n",
        "model_1 = tf.keras.Sequential(\n",
        "    [\n",
        "     tf.keras.layers.Dense(1)\n",
        "    ]\n",
        ")\n",
        "model_1.compile(\n",
        "    loss = tf.keras.losses.mae,\n",
        "    optimizer = tf.keras.optimizers.Adam(),\n",
        "    metrics = ['mae']\n",
        ")\n",
        "model_1.fit(X_train, y_train, epochs=100, verbose=0)"
      ],
      "execution_count": 46,
      "outputs": [
        {
          "output_type": "execute_result",
          "data": {
            "text/plain": [
              "<tensorflow.python.keras.callbacks.History at 0x7f40163e9d10>"
            ]
          },
          "metadata": {
            "tags": []
          },
          "execution_count": 46
        }
      ]
    },
    {
      "cell_type": "code",
      "metadata": {
        "colab": {
          "base_uri": "https://localhost:8080/"
        },
        "id": "gjgLGZa9aErJ",
        "outputId": "e393c04b-7e55-47e5-ded7-17a2e69b98a1"
      },
      "source": [
        "y_pred1 = model_1.predict(X_test)"
      ],
      "execution_count": 47,
      "outputs": [
        {
          "output_type": "stream",
          "text": [
            "WARNING:tensorflow:6 out of the last 6 calls to <function Model.make_predict_function.<locals>.predict_function at 0x7f40115b7e60> triggered tf.function retracing. Tracing is expensive and the excessive number of tracings could be due to (1) creating @tf.function repeatedly in a loop, (2) passing tensors with different shapes, (3) passing Python objects instead of tensors. For (1), please define your @tf.function outside of the loop. For (2), @tf.function has experimental_relax_shapes=True option that relaxes argument shapes that can avoid unnecessary retracing. For (3), please refer to https://www.tensorflow.org/guide/function#controlling_retracing and https://www.tensorflow.org/api_docs/python/tf/function for  more details.\n"
          ],
          "name": "stdout"
        }
      ]
    },
    {
      "cell_type": "code",
      "metadata": {
        "colab": {
          "base_uri": "https://localhost:8080/",
          "height": 427
        },
        "id": "jbJAVEKIao9p",
        "outputId": "fb0af53f-686b-4f34-bb31-edde9c0f164f"
      },
      "source": [
        "plot_predictions(train_data=X_train,\n",
        "                     train_labels=y_train,\n",
        "                     test_data=X_test,\n",
        "                     test_labels=y_test,\n",
        "                     predictions=y_pred1)"
      ],
      "execution_count": 48,
      "outputs": [
        {
          "output_type": "display_data",
          "data": {
            "image/png": "[encoded data removed]",
            "text/plain": [
              "<Figure size 720x504 with 1 Axes>"
            ]
          },
          "metadata": {
            "tags": [],
            "needs_background": "light"
          }
        }
      ]
    },
    {
      "cell_type": "code",
      "metadata": {
        "colab": {
          "base_uri": "https://localhost:8080/"
        },
        "id": "Hll7oqZxg8Bc",
        "outputId": "e9248bf3-2df6-4a7a-ce31-538eaf35b3e7"
      },
      "source": [
        "mae1 = mae(y_test, y_pred1)\n",
        "mse1 = mse(y_test,y_pred1)\n",
        "mae1, mse1"
      ],
      "execution_count": 49,
      "outputs": [
        {
          "output_type": "execute_result",
          "data": {
            "text/plain": [
              "(<tf.Tensor: shape=(), dtype=float32, numpy=28.659399>,\n",
              " <tf.Tensor: shape=(), dtype=float32, numpy=828.96497>)"
            ]
          },
          "metadata": {
            "tags": []
          },
          "execution_count": 49
        }
      ]
    },
    {
      "cell_type": "markdown",
      "metadata": {
        "id": "a-wFn_19cSek"
      },
      "source": [
        "#### model 2"
      ]
    },
    {
      "cell_type": "code",
      "metadata": {
        "colab": {
          "base_uri": "https://localhost:8080/"
        },
        "id": "31WbUqrxczOy",
        "outputId": "7d828747-3704-444d-8fd9-36c95a1a4114"
      },
      "source": [
        "model_2 = tf.keras.Sequential(\n",
        "    [\n",
        "     tf.keras.layers.Dense(100),\n",
        "     tf.keras.layers.Dense(1)\n",
        "    ]\n",
        ")\n",
        "model_2.compile(\n",
        "    loss = tf.keras.losses.mae,\n",
        "    optimizer = tf.keras.optimizers.SGD(),\n",
        "    metrics = ['mae']\n",
        ")\n",
        "model_2.fit(X_train, y_train, epochs=100, verbose=0)"
      ],
      "execution_count": 68,
      "outputs": [
        {
          "output_type": "execute_result",
          "data": {
            "text/plain": [
              "<tensorflow.python.keras.callbacks.History at 0x7f406165e150>"
            ]
          },
          "metadata": {
            "tags": []
          },
          "execution_count": 68
        }
      ]
    },
    {
      "cell_type": "code",
      "metadata": {
        "id": "oNXo5pbCecZp"
      },
      "source": [
        "y_pred2 = model_2.predict(X_test)\n"
      ],
      "execution_count": 69,
      "outputs": []
    },
    {
      "cell_type": "code",
      "metadata": {
        "colab": {
          "base_uri": "https://localhost:8080/"
        },
        "id": "gSBuEvwngLkH",
        "outputId": "a17589ea-643e-4db0-dcde-5a6ba5efa978"
      },
      "source": [
        "y_pred2.shape"
      ],
      "execution_count": 70,
      "outputs": [
        {
          "output_type": "execute_result",
          "data": {
            "text/plain": [
              "(10, 1)"
            ]
          },
          "metadata": {
            "tags": []
          },
          "execution_count": 70
        }
      ]
    },
    {
      "cell_type": "code",
      "metadata": {
        "colab": {
          "base_uri": "https://localhost:8080/",
          "height": 427
        },
        "id": "Tygz8735eyHn",
        "outputId": "f04bef44-3901-486d-dea7-419984a2dee4"
      },
      "source": [
        "plot_predictions(predictions=y_pred2)"
      ],
      "execution_count": 71,
      "outputs": [
        {
          "output_type": "display_data",
          "data": {
            "image/png": "[encoded data removed]",
            "text/plain": [
              "<Figure size 720x504 with 1 Axes>"
            ]
          },
          "metadata": {
            "tags": [],
            "needs_background": "light"
          }
        }
      ]
    },
    {
      "cell_type": "code",
      "metadata": {
        "colab": {
          "base_uri": "https://localhost:8080/"
        },
        "id": "zk5qTiRxfZlc",
        "outputId": "4e2255bb-c58d-442a-83aa-7e21168213c5"
      },
      "source": [
        "mae2 = mae(y_test, y_pred2)\n",
        "mse2 = mse(y_test,y_pred2)\n",
        "mae2, mse2"
      ],
      "execution_count": 72,
      "outputs": [
        {
          "output_type": "execute_result",
          "data": {
            "text/plain": [
              "(<tf.Tensor: shape=(), dtype=float32, numpy=2.914009>,\n",
              " <tf.Tensor: shape=(), dtype=float32, numpy=11.215452>)"
            ]
          },
          "metadata": {
            "tags": []
          },
          "execution_count": 72
        }
      ]
    },
    {
      "cell_type": "markdown",
      "metadata": {
        "id": "P3ESbxMshbKc"
      },
      "source": [
        "#### model 3"
      ]
    },
    {
      "cell_type": "code",
      "metadata": {
        "colab": {
          "base_uri": "https://localhost:8080/"
        },
        "id": "h0u711rJSPot",
        "outputId": "8445780c-f489-4314-88e2-a139746ef53d"
      },
      "source": [
        "tf.random.set_seed(42)\n",
        "model_3 = tf.keras.Sequential([\n",
        "      tf.keras.layers.Dense(100),\n",
        "      tf.keras.layers.Dense(1)                        \n",
        "])\n",
        "\n",
        "model_3.compile(\n",
        "    loss = tf.keras.losses.mae,\n",
        "    optimizer = tf.keras.optimizers.SGD(),\n",
        "    metrics = ['mse']\n",
        ")\n",
        "\n",
        "model_3.fit(X_train, y_train, epochs=500, verbose=0)"
      ],
      "execution_count": 79,
      "outputs": [
        {
          "output_type": "execute_result",
          "data": {
            "text/plain": [
              "<tensorflow.python.keras.callbacks.History at 0x7f4061a50910>"
            ]
          },
          "metadata": {
            "tags": []
          },
          "execution_count": 79
        }
      ]
    },
    {
      "cell_type": "code",
      "metadata": {
        "id": "2llL2OGOS76E"
      },
      "source": [
        "y_pred3 = model_3.predict(X_test)"
      ],
      "execution_count": 80,
      "outputs": []
    },
    {
      "cell_type": "code",
      "metadata": {
        "colab": {
          "base_uri": "https://localhost:8080/"
        },
        "id": "0QMO4DofTFVU",
        "outputId": "30c96a42-26b3-4da2-bdfb-baa57969746f"
      },
      "source": [
        "mse3 = mse(y_pred=y_pred3, y_true=y_test)\n",
        "mae3 = mae(y_true=y_test, y_pred=y_pred3)\n",
        "mae3, mse3"
      ],
      "execution_count": 81,
      "outputs": [
        {
          "output_type": "execute_result",
          "data": {
            "text/plain": [
              "(<tf.Tensor: shape=(), dtype=float32, numpy=67.21916>,\n",
              " <tf.Tensor: shape=(), dtype=float32, numpy=4601.0557>)"
            ]
          },
          "metadata": {
            "tags": []
          },
          "execution_count": 81
        }
      ]
    },
    {
      "cell_type": "code",
      "metadata": {
        "colab": {
          "base_uri": "https://localhost:8080/",
          "height": 427
        },
        "id": "sPe8zETATVli",
        "outputId": "3632c6f5-68c2-4363-e91d-e5048a3f4e8f"
      },
      "source": [
        "plot_predictions(predictions=y_pred3)"
      ],
      "execution_count": 82,
      "outputs": [
        {
          "output_type": "display_data",
          "data": {
            "image/png": "[encoded data removed]",
            "text/plain": [
              "<Figure size 720x504 with 1 Axes>"
            ]
          },
          "metadata": {
            "tags": [],
            "needs_background": "light"
          }
        }
      ]
    },
    {
      "cell_type": "markdown",
      "metadata": {
        "id": "2a_mZQ_4TdFj"
      },
      "source": [
        "### Start will smaller models and increase if necessary,  to minimize time between experiements\n",
        "\n"
      ]
    },
    {
      "cell_type": "markdown",
      "metadata": {
        "id": "fIjwNPtOUwJu"
      },
      "source": [
        "### Comparing experiements"
      ]
    },
    {
      "cell_type": "code",
      "metadata": {
        "colab": {
          "base_uri": "https://localhost:8080/",
          "height": 137
        },
        "id": "5B67dcYUU0T1",
        "outputId": "75b3ab49-4390-43a5-b4e9-b97823ac2827"
      },
      "source": [
        "import pandas as pd\n",
        "\n",
        "model_results = [[\"model_1\", mae1.numpy(), mse1.numpy(), model1_desc],\n",
        "                 [\"model_2\", mae2.numpy(), mse2.numpy(), model2_desc],\n",
        "                 [\"model_3\", mae3.numpy(), mse3.numpy(), model3_desc]]\n",
        "results =pd.DataFrame(model_results, columns=['models', 'mae', 'mse', \"description\"])\n",
        "results"
      ],
      "execution_count": 85,
      "outputs": [
        {
          "output_type": "execute_result",
          "data": {
            "text/html": [
              "<div>\n",
              "<style scoped>\n",
              "    .dataframe tbody tr th:only-of-type {\n",
              "        vertical-align: middle;\n",
              "    }\n",
              "\n",
              "    .dataframe tbody tr th {\n",
              "        vertical-align: top;\n",
              "    }\n",
              "\n",
              "    .dataframe thead th {\n",
              "        text-align: right;\n",
              "    }\n",
              "</style>\n",
              "<table border=\"1\" class=\"dataframe\">\n",
              "  <thead>\n",
              "    <tr style=\"text-align: right;\">\n",
              "      <th></th>\n",
              "      <th>models</th>\n",
              "      <th>mae</th>\n",
              "      <th>mse</th>\n",
              "      <th>description</th>\n",
              "    </tr>\n",
              "  </thead>\n",
              "  <tbody>\n",
              "    <tr>\n",
              "      <th>0</th>\n",
              "      <td>model_1</td>\n",
              "      <td>28.659399</td>\n",
              "      <td>828.964966</td>\n",
              "      <td>one layer(1), 100 epochs</td>\n",
              "    </tr>\n",
              "    <tr>\n",
              "      <th>1</th>\n",
              "      <td>model_2</td>\n",
              "      <td>2.914009</td>\n",
              "      <td>11.215452</td>\n",
              "      <td>2 layers(100,1), 100 epochs</td>\n",
              "    </tr>\n",
              "    <tr>\n",
              "      <th>2</th>\n",
              "      <td>model_3</td>\n",
              "      <td>67.219162</td>\n",
              "      <td>4601.055664</td>\n",
              "      <td>2 layers(100,1), 500 epochs</td>\n",
              "    </tr>\n",
              "  </tbody>\n",
              "</table>\n",
              "</div>"
            ],
            "text/plain": [
              "    models        mae          mse                  description\n",
              "0  model_1  28.659399   828.964966     one layer(1), 100 epochs\n",
              "1  model_2   2.914009    11.215452  2 layers(100,1), 100 epochs\n",
              "2  model_3  67.219162  4601.055664  2 layers(100,1), 500 epochs"
            ]
          },
          "metadata": {
            "tags": []
          },
          "execution_count": 85
        }
      ]
    },
    {
      "cell_type": "code",
      "metadata": {
        "colab": {
          "base_uri": "https://localhost:8080/"
        },
        "id": "z1yzvs2JVcek",
        "outputId": "97e0c95b-0fbe-455b-af45-b32dbc1c3706"
      },
      "source": [
        "model_2.summary()"
      ],
      "execution_count": 86,
      "outputs": [
        {
          "output_type": "stream",
          "text": [
            "Model: \"sequential_11\"\n",
            "_________________________________________________________________\n",
            "Layer (type)                 Output Shape              Param #   \n",
            "=================================================================\n",
            "dense_18 (Dense)             (None, 100)               200       \n",
            "_________________________________________________________________\n",
            "dense_19 (Dense)             (None, 1)                 101       \n",
            "=================================================================\n",
            "Total params: 301\n",
            "Trainable params: 301\n",
            "Non-trainable params: 0\n",
            "_________________________________________________________________\n"
          ],
          "name": "stdout"
        }
      ]
    },
    {
      "cell_type": "markdown",
      "metadata": {
        "id": "ta84ME2sWWCs"
      },
      "source": [
        "### Tracking your experiments\n",
        "- **TensorBoard** -  component of the tf library to help track modelling experiments\n",
        "- **Weight & biases**"
      ]
    },
    {
      "cell_type": "markdown",
      "metadata": {
        "id": "FXY9oGXKXPBV"
      },
      "source": [
        "### Saving models"
      ]
    },
    {
      "cell_type": "code",
      "metadata": {
        "colab": {
          "base_uri": "https://localhost:8080/"
        },
        "id": "LjhWsLqBdLJ_",
        "outputId": "635c8937-0182-463f-ba06-d447898b6509"
      },
      "source": [
        "## Default SavedModel format\n",
        "model_2.save(\"best_model_saved\")"
      ],
      "execution_count": 92,
      "outputs": [
        {
          "output_type": "stream",
          "text": [
            "INFO:tensorflow:Assets written to: best_model_saved/assets\n"
          ],
          "name": "stdout"
        }
      ]
    },
    {
      "cell_type": "code",
      "metadata": {
        "id": "qIKmMAh7e3Yl"
      },
      "source": [
        "## saving .hdf5 format(hierachical data format)\n",
        "model_2.save('best_model_saved.h5')"
      ],
      "execution_count": 93,
      "outputs": []
    },
    {
      "cell_type": "code",
      "metadata": {
        "id": "ZVjdlny2dR2p"
      },
      "source": [
        "model_2.save_weights(\"model2_weights\")"
      ],
      "execution_count": 88,
      "outputs": []
    },
    {
      "cell_type": "markdown",
      "metadata": {
        "id": "KTJ0-CSjoBbE"
      },
      "source": [
        "### Loading a model"
      ]
    },
    {
      "cell_type": "code",
      "metadata": {
        "id": "e39ZLdDDd4Tl"
      },
      "source": [
        "my_model = tf.keras.models.load_model('best_model_saved.h5')"
      ],
      "execution_count": 94,
      "outputs": []
    },
    {
      "cell_type": "code",
      "metadata": {
        "colab": {
          "base_uri": "https://localhost:8080/"
        },
        "id": "oTXfAlg9eg5_",
        "outputId": "95df8908-fc3a-4d01-bd89-28077e346cb5"
      },
      "source": [
        "mypred = my_model.predict(y_test)\n",
        "my_model.evaluate(X_test, y_test)"
      ],
      "execution_count": 96,
      "outputs": [
        {
          "output_type": "stream",
          "text": [
            "1/1 [==============================] - 0s 81ms/step - loss: 2.9140 - mae: 2.9140\n"
          ],
          "name": "stdout"
        },
        {
          "output_type": "execute_result",
          "data": {
            "text/plain": [
              "[2.914008378982544, 2.914008378982544]"
            ]
          },
          "metadata": {
            "tags": []
          },
          "execution_count": 96
        }
      ]
    },
    {
      "cell_type": "code",
      "metadata": {
        "colab": {
          "base_uri": "https://localhost:8080/"
        },
        "id": "TZY-dCfLepn_",
        "outputId": "0fee7430-96a0-4663-9f7a-7672881da0c6"
      },
      "source": [
        "model_2.evaluate(X_test, y_test)"
      ],
      "execution_count": 98,
      "outputs": [
        {
          "output_type": "stream",
          "text": [
            "1/1 [==============================] - 0s 82ms/step - loss: 2.9140 - mae: 2.9140\n"
          ],
          "name": "stdout"
        },
        {
          "output_type": "execute_result",
          "data": {
            "text/plain": [
              "[2.914008378982544, 2.914008378982544]"
            ]
          },
          "metadata": {
            "tags": []
          },
          "execution_count": 98
        }
      ]
    },
    {
      "cell_type": "code",
      "metadata": {
        "colab": {
          "base_uri": "https://localhost:8080/"
        },
        "id": "fD3AGKpTfjvW",
        "outputId": "26c010f4-baeb-41ec-fbea-caefc2b94b78"
      },
      "source": [
        "h5_model = tf.keras.models.load_model('best_model_saved.h5')\n",
        "h5_model_preds = h5_model.evaluate(X_test, y_test)"
      ],
      "execution_count": 99,
      "outputs": [
        {
          "output_type": "stream",
          "text": [
            "1/1 [==============================] - 0s 77ms/step - loss: 2.9140 - mae: 2.9140\n"
          ],
          "name": "stdout"
        }
      ]
    },
    {
      "cell_type": "markdown",
      "metadata": {
        "id": "2GaAmM6Gnvx6"
      },
      "source": [
        "### Download files from Colab"
      ]
    },
    {
      "cell_type": "markdown",
      "metadata": {
        "id": "5mPR16kloI72"
      },
      "source": [
        "- Right click the file and download\n",
        "- using code like below\n",
        "- connect to google drive"
      ]
    },
    {
      "cell_type": "code",
      "metadata": {
        "id": "MWkxcZgWoWmf"
      },
      "source": [
        "from google.colab import files"
      ],
      "execution_count": 101,
      "outputs": []
    },
    {
      "cell_type": "code",
      "metadata": {
        "colab": {
          "base_uri": "https://localhost:8080/",
          "height": 16
        },
        "id": "LQFPitTaobjo",
        "outputId": "5afb2b53-0df3-402f-dcca-7e52b402d454"
      },
      "source": [
        "files.download('/content/best_model_saved.h5')"
      ],
      "execution_count": 102,
      "outputs": [
        {
          "output_type": "display_data",
          "data": {
            "application/javascript": [
              "\n",
              "    async function download(id, filename, size) {\n",
              "      if (!google.colab.kernel.accessAllowed) {\n",
              "        return;\n",
              "      }\n",
              "      const div = document.createElement('div');\n",
              "      const label = document.createElement('label');\n",
              "      label.textContent = `Downloading \"${filename}\": `;\n",
              "      div.appendChild(label);\n",
              "      const progress = document.createElement('progress');\n",
              "      progress.max = size;\n",
              "      div.appendChild(progress);\n",
              "      document.body.appendChild(div);\n",
              "\n",
              "      const buffers = [];\n",
              "      let downloaded = 0;\n",
              "\n",
              "      const channel = await google.colab.kernel.comms.open(id);\n",
              "      // Send a message to notify the kernel that we're ready.\n",
              "      channel.send({})\n",
              "\n",
              "      for await (const message of channel.messages) {\n",
              "        // Send a message to notify the kernel that we're ready.\n",
              "        channel.send({})\n",
              "        if (message.buffers) {\n",
              "          for (const buffer of message.buffers) {\n",
              "            buffers.push(buffer);\n",
              "            downloaded += buffer.byteLength;\n",
              "            progress.value = downloaded;\n",
              "          }\n",
              "        }\n",
              "      }\n",
              "      const blob = new Blob(buffers, {type: 'application/binary'});\n",
              "      const a = document.createElement('a');\n",
              "      a.href = window.URL.createObjectURL(blob);\n",
              "      a.download = filename;\n",
              "      div.appendChild(a);\n",
              "      a.click();\n",
              "      div.remove();\n",
              "    }\n",
              "  "
            ],
            "text/plain": [
              "<IPython.core.display.Javascript object>"
            ]
          },
          "metadata": {
            "tags": []
          }
        },
        {
          "output_type": "display_data",
          "data": {
            "application/javascript": [
              "download(\"download_defa3659-e129-4e0c-ac66-489d59887d65\", \"best_model_saved.h5\", 17040)"
            ],
            "text/plain": [
              "<IPython.core.display.Javascript object>"
            ]
          },
          "metadata": {
            "tags": []
          }
        }
      ]
    },
    {
      "cell_type": "markdown",
      "metadata": {
        "id": "mmlhQSEXoisg"
      },
      "source": [
        "### A Larger Example"
      ]
    },
    {
      "cell_type": "code",
      "metadata": {
        "id": "EXAxoHVYpfWP"
      },
      "source": [
        "import tensorflow as tf\n",
        "import pandas as pd\n",
        "import matplotlib.pyplot as plt"
      ],
      "execution_count": 104,
      "outputs": []
    },
    {
      "cell_type": "code",
      "metadata": {
        "id": "kfWCaAtIpcZB"
      },
      "source": [
        "insurance = pd.read_csv('https://raw.githubusercontent.com/stedy/Machine-Learning-with-R-datasets/master/insurance.csv')"
      ],
      "execution_count": 105,
      "outputs": []
    },
    {
      "cell_type": "code",
      "metadata": {
        "colab": {
          "base_uri": "https://localhost:8080/",
          "height": 197
        },
        "id": "Fi5VdcKQq1Sb",
        "outputId": "29464d33-ca4c-4609-f5f2-ec97b39b44f4"
      },
      "source": [
        "insurance.head()"
      ],
      "execution_count": 106,
      "outputs": [
        {
          "output_type": "execute_result",
          "data": {
            "text/html": [
              "<div>\n",
              "<style scoped>\n",
              "    .dataframe tbody tr th:only-of-type {\n",
              "        vertical-align: middle;\n",
              "    }\n",
              "\n",
              "    .dataframe tbody tr th {\n",
              "        vertical-align: top;\n",
              "    }\n",
              "\n",
              "    .dataframe thead th {\n",
              "        text-align: right;\n",
              "    }\n",
              "</style>\n",
              "<table border=\"1\" class=\"dataframe\">\n",
              "  <thead>\n",
              "    <tr style=\"text-align: right;\">\n",
              "      <th></th>\n",
              "      <th>age</th>\n",
              "      <th>sex</th>\n",
              "      <th>bmi</th>\n",
              "      <th>children</th>\n",
              "      <th>smoker</th>\n",
              "      <th>region</th>\n",
              "      <th>charges</th>\n",
              "    </tr>\n",
              "  </thead>\n",
              "  <tbody>\n",
              "    <tr>\n",
              "      <th>0</th>\n",
              "      <td>19</td>\n",
              "      <td>female</td>\n",
              "      <td>27.900</td>\n",
              "      <td>0</td>\n",
              "      <td>yes</td>\n",
              "      <td>southwest</td>\n",
              "      <td>16884.92400</td>\n",
              "    </tr>\n",
              "    <tr>\n",
              "      <th>1</th>\n",
              "      <td>18</td>\n",
              "      <td>male</td>\n",
              "      <td>33.770</td>\n",
              "      <td>1</td>\n",
              "      <td>no</td>\n",
              "      <td>southeast</td>\n",
              "      <td>1725.55230</td>\n",
              "    </tr>\n",
              "    <tr>\n",
              "      <th>2</th>\n",
              "      <td>28</td>\n",
              "      <td>male</td>\n",
              "      <td>33.000</td>\n",
              "      <td>3</td>\n",
              "      <td>no</td>\n",
              "      <td>southeast</td>\n",
              "      <td>4449.46200</td>\n",
              "    </tr>\n",
              "    <tr>\n",
              "      <th>3</th>\n",
              "      <td>33</td>\n",
              "      <td>male</td>\n",
              "      <td>22.705</td>\n",
              "      <td>0</td>\n",
              "      <td>no</td>\n",
              "      <td>northwest</td>\n",
              "      <td>21984.47061</td>\n",
              "    </tr>\n",
              "    <tr>\n",
              "      <th>4</th>\n",
              "      <td>32</td>\n",
              "      <td>male</td>\n",
              "      <td>28.880</td>\n",
              "      <td>0</td>\n",
              "      <td>no</td>\n",
              "      <td>northwest</td>\n",
              "      <td>3866.85520</td>\n",
              "    </tr>\n",
              "  </tbody>\n",
              "</table>\n",
              "</div>"
            ],
            "text/plain": [
              "   age     sex     bmi  children smoker     region      charges\n",
              "0   19  female  27.900         0    yes  southwest  16884.92400\n",
              "1   18    male  33.770         1     no  southeast   1725.55230\n",
              "2   28    male  33.000         3     no  southeast   4449.46200\n",
              "3   33    male  22.705         0     no  northwest  21984.47061\n",
              "4   32    male  28.880         0     no  northwest   3866.85520"
            ]
          },
          "metadata": {
            "tags": []
          },
          "execution_count": 106
        }
      ]
    },
    {
      "cell_type": "markdown",
      "metadata": {
        "id": "qblEEiusq3bP"
      },
      "source": [
        "### Handling object datatypes"
      ]
    },
    {
      "cell_type": "code",
      "metadata": {
        "colab": {
          "base_uri": "https://localhost:8080/",
          "height": 217
        },
        "id": "FYD7es-stvcH",
        "outputId": "2f293a28-1efd-4189-bf34-fa5ad34c6ecb"
      },
      "source": [
        "# converting df into all numbers\n",
        "insurance_one_hot  = pd.get_dummies(insurance)\n",
        "insurance_one_hot.tail()"
      ],
      "execution_count": 108,
      "outputs": [
        {
          "output_type": "execute_result",
          "data": {
            "text/html": [
              "<div>\n",
              "<style scoped>\n",
              "    .dataframe tbody tr th:only-of-type {\n",
              "        vertical-align: middle;\n",
              "    }\n",
              "\n",
              "    .dataframe tbody tr th {\n",
              "        vertical-align: top;\n",
              "    }\n",
              "\n",
              "    .dataframe thead th {\n",
              "        text-align: right;\n",
              "    }\n",
              "</style>\n",
              "<table border=\"1\" class=\"dataframe\">\n",
              "  <thead>\n",
              "    <tr style=\"text-align: right;\">\n",
              "      <th></th>\n",
              "      <th>age</th>\n",
              "      <th>bmi</th>\n",
              "      <th>children</th>\n",
              "      <th>charges</th>\n",
              "      <th>sex_female</th>\n",
              "      <th>sex_male</th>\n",
              "      <th>smoker_no</th>\n",
              "      <th>smoker_yes</th>\n",
              "      <th>region_northeast</th>\n",
              "      <th>region_northwest</th>\n",
              "      <th>region_southeast</th>\n",
              "      <th>region_southwest</th>\n",
              "    </tr>\n",
              "  </thead>\n",
              "  <tbody>\n",
              "    <tr>\n",
              "      <th>1333</th>\n",
              "      <td>50</td>\n",
              "      <td>30.97</td>\n",
              "      <td>3</td>\n",
              "      <td>10600.5483</td>\n",
              "      <td>0</td>\n",
              "      <td>1</td>\n",
              "      <td>1</td>\n",
              "      <td>0</td>\n",
              "      <td>0</td>\n",
              "      <td>1</td>\n",
              "      <td>0</td>\n",
              "      <td>0</td>\n",
              "    </tr>\n",
              "    <tr>\n",
              "      <th>1334</th>\n",
              "      <td>18</td>\n",
              "      <td>31.92</td>\n",
              "      <td>0</td>\n",
              "      <td>2205.9808</td>\n",
              "      <td>1</td>\n",
              "      <td>0</td>\n",
              "      <td>1</td>\n",
              "      <td>0</td>\n",
              "      <td>1</td>\n",
              "      <td>0</td>\n",
              "      <td>0</td>\n",
              "      <td>0</td>\n",
              "    </tr>\n",
              "    <tr>\n",
              "      <th>1335</th>\n",
              "      <td>18</td>\n",
              "      <td>36.85</td>\n",
              "      <td>0</td>\n",
              "      <td>1629.8335</td>\n",
              "      <td>1</td>\n",
              "      <td>0</td>\n",
              "      <td>1</td>\n",
              "      <td>0</td>\n",
              "      <td>0</td>\n",
              "      <td>0</td>\n",
              "      <td>1</td>\n",
              "      <td>0</td>\n",
              "    </tr>\n",
              "    <tr>\n",
              "      <th>1336</th>\n",
              "      <td>21</td>\n",
              "      <td>25.80</td>\n",
              "      <td>0</td>\n",
              "      <td>2007.9450</td>\n",
              "      <td>1</td>\n",
              "      <td>0</td>\n",
              "      <td>1</td>\n",
              "      <td>0</td>\n",
              "      <td>0</td>\n",
              "      <td>0</td>\n",
              "      <td>0</td>\n",
              "      <td>1</td>\n",
              "    </tr>\n",
              "    <tr>\n",
              "      <th>1337</th>\n",
              "      <td>61</td>\n",
              "      <td>29.07</td>\n",
              "      <td>0</td>\n",
              "      <td>29141.3603</td>\n",
              "      <td>1</td>\n",
              "      <td>0</td>\n",
              "      <td>0</td>\n",
              "      <td>1</td>\n",
              "      <td>0</td>\n",
              "      <td>1</td>\n",
              "      <td>0</td>\n",
              "      <td>0</td>\n",
              "    </tr>\n",
              "  </tbody>\n",
              "</table>\n",
              "</div>"
            ],
            "text/plain": [
              "      age    bmi  ...  region_southeast  region_southwest\n",
              "1333   50  30.97  ...                 0                 0\n",
              "1334   18  31.92  ...                 0                 0\n",
              "1335   18  36.85  ...                 1                 0\n",
              "1336   21  25.80  ...                 0                 1\n",
              "1337   61  29.07  ...                 0                 0\n",
              "\n",
              "[5 rows x 12 columns]"
            ]
          },
          "metadata": {
            "tags": []
          },
          "execution_count": 108
        }
      ]
    },
    {
      "cell_type": "code",
      "metadata": {
        "colab": {
          "base_uri": "https://localhost:8080/",
          "height": 217
        },
        "id": "sqNyq4Kgt5BX",
        "outputId": "3c0517ed-a6f9-4c0b-e368-ed55fb7bb980"
      },
      "source": [
        "## Create X and Y values\n",
        "y = insurance_one_hot.charges\n",
        "X = insurance_one_hot.drop(['charges'], axis=1)\n",
        "X.head()"
      ],
      "execution_count": 112,
      "outputs": [
        {
          "output_type": "execute_result",
          "data": {
            "text/html": [
              "<div>\n",
              "<style scoped>\n",
              "    .dataframe tbody tr th:only-of-type {\n",
              "        vertical-align: middle;\n",
              "    }\n",
              "\n",
              "    .dataframe tbody tr th {\n",
              "        vertical-align: top;\n",
              "    }\n",
              "\n",
              "    .dataframe thead th {\n",
              "        text-align: right;\n",
              "    }\n",
              "</style>\n",
              "<table border=\"1\" class=\"dataframe\">\n",
              "  <thead>\n",
              "    <tr style=\"text-align: right;\">\n",
              "      <th></th>\n",
              "      <th>age</th>\n",
              "      <th>bmi</th>\n",
              "      <th>children</th>\n",
              "      <th>sex_female</th>\n",
              "      <th>sex_male</th>\n",
              "      <th>smoker_no</th>\n",
              "      <th>smoker_yes</th>\n",
              "      <th>region_northeast</th>\n",
              "      <th>region_northwest</th>\n",
              "      <th>region_southeast</th>\n",
              "      <th>region_southwest</th>\n",
              "    </tr>\n",
              "  </thead>\n",
              "  <tbody>\n",
              "    <tr>\n",
              "      <th>0</th>\n",
              "      <td>19</td>\n",
              "      <td>27.900</td>\n",
              "      <td>0</td>\n",
              "      <td>1</td>\n",
              "      <td>0</td>\n",
              "      <td>0</td>\n",
              "      <td>1</td>\n",
              "      <td>0</td>\n",
              "      <td>0</td>\n",
              "      <td>0</td>\n",
              "      <td>1</td>\n",
              "    </tr>\n",
              "    <tr>\n",
              "      <th>1</th>\n",
              "      <td>18</td>\n",
              "      <td>33.770</td>\n",
              "      <td>1</td>\n",
              "      <td>0</td>\n",
              "      <td>1</td>\n",
              "      <td>1</td>\n",
              "      <td>0</td>\n",
              "      <td>0</td>\n",
              "      <td>0</td>\n",
              "      <td>1</td>\n",
              "      <td>0</td>\n",
              "    </tr>\n",
              "    <tr>\n",
              "      <th>2</th>\n",
              "      <td>28</td>\n",
              "      <td>33.000</td>\n",
              "      <td>3</td>\n",
              "      <td>0</td>\n",
              "      <td>1</td>\n",
              "      <td>1</td>\n",
              "      <td>0</td>\n",
              "      <td>0</td>\n",
              "      <td>0</td>\n",
              "      <td>1</td>\n",
              "      <td>0</td>\n",
              "    </tr>\n",
              "    <tr>\n",
              "      <th>3</th>\n",
              "      <td>33</td>\n",
              "      <td>22.705</td>\n",
              "      <td>0</td>\n",
              "      <td>0</td>\n",
              "      <td>1</td>\n",
              "      <td>1</td>\n",
              "      <td>0</td>\n",
              "      <td>0</td>\n",
              "      <td>1</td>\n",
              "      <td>0</td>\n",
              "      <td>0</td>\n",
              "    </tr>\n",
              "    <tr>\n",
              "      <th>4</th>\n",
              "      <td>32</td>\n",
              "      <td>28.880</td>\n",
              "      <td>0</td>\n",
              "      <td>0</td>\n",
              "      <td>1</td>\n",
              "      <td>1</td>\n",
              "      <td>0</td>\n",
              "      <td>0</td>\n",
              "      <td>1</td>\n",
              "      <td>0</td>\n",
              "      <td>0</td>\n",
              "    </tr>\n",
              "  </tbody>\n",
              "</table>\n",
              "</div>"
            ],
            "text/plain": [
              "   age     bmi  children  ...  region_northwest  region_southeast  region_southwest\n",
              "0   19  27.900         0  ...                 0                 0                 1\n",
              "1   18  33.770         1  ...                 0                 1                 0\n",
              "2   28  33.000         3  ...                 0                 1                 0\n",
              "3   33  22.705         0  ...                 1                 0                 0\n",
              "4   32  28.880         0  ...                 1                 0                 0\n",
              "\n",
              "[5 rows x 11 columns]"
            ]
          },
          "metadata": {
            "tags": []
          },
          "execution_count": 112
        }
      ]
    },
    {
      "cell_type": "code",
      "metadata": {
        "colab": {
          "base_uri": "https://localhost:8080/"
        },
        "id": "R8FIGmR-uOnY",
        "outputId": "6a640cb8-e273-47e3-8bcd-8c9dab2c2ba9"
      },
      "source": [
        "## Our label\n",
        "y.head()"
      ],
      "execution_count": 119,
      "outputs": [
        {
          "output_type": "execute_result",
          "data": {
            "text/plain": [
              "0    16884.92400\n",
              "1     1725.55230\n",
              "2     4449.46200\n",
              "3    21984.47061\n",
              "4     3866.85520\n",
              "Name: charges, dtype: float64"
            ]
          },
          "metadata": {
            "tags": []
          },
          "execution_count": 119
        }
      ]
    },
    {
      "cell_type": "code",
      "metadata": {
        "id": "u-KEA01ius_P"
      },
      "source": [
        "from sklearn.model_selection import train_test_split"
      ],
      "execution_count": 114,
      "outputs": []
    },
    {
      "cell_type": "code",
      "metadata": {
        "id": "WApbYkFTui5d"
      },
      "source": [
        "X_train, X_test, y_train, y_test = train_test_split(X, y, test_size=0.2, random_state=42)"
      ],
      "execution_count": 120,
      "outputs": []
    },
    {
      "cell_type": "code",
      "metadata": {
        "colab": {
          "base_uri": "https://localhost:8080/"
        },
        "id": "aeLBJqXFu2MK",
        "outputId": "50918d22-b913-42e8-e8c0-b61aa15ecf89"
      },
      "source": [
        "X.shape , X_train.shape, y.shape, y_train.shape"
      ],
      "execution_count": 121,
      "outputs": [
        {
          "output_type": "execute_result",
          "data": {
            "text/plain": [
              "((1338, 11), (1070, 11), (1338,), (1070,))"
            ]
          },
          "metadata": {
            "tags": []
          },
          "execution_count": 121
        }
      ]
    },
    {
      "cell_type": "code",
      "metadata": {
        "colab": {
          "base_uri": "https://localhost:8080/"
        },
        "id": "ZIBcLTpAu5h2",
        "outputId": "d9bc78be-0afd-4c40-a70c-5c134d649807"
      },
      "source": [
        "## Creating model\n",
        "\n",
        "tf.random.set_seed(42)\n",
        "\n",
        "# 1.Model\n",
        "\n",
        "insurance_model = tf.keras.Sequential(\n",
        "    [\n",
        "     tf.keras.layers.Dense(10),\n",
        "     tf.keras.layers.Dense(1)\n",
        "    ]\n",
        ")\n",
        "\n",
        "#2.compile the model\n",
        "insurance_model.compile(\n",
        "    loss = tf.keras.losses.mae,\n",
        "    optimizer = tf.keras.optimizers.SGD(),\n",
        "    metrics = ['mae']\n",
        ")\n",
        "\n",
        "#3. Fit the model\n",
        "insurance_model.fit(X_train, y_train, epochs=100)"
      ],
      "execution_count": 122,
      "outputs": [
        {
          "output_type": "stream",
          "text": [
            "Epoch 1/100\n",
            "34/34 [==============================] - 0s 1ms/step - loss: 8637.1006 - mae: 8637.1006\n",
            "Epoch 2/100\n",
            "34/34 [==============================] - 0s 1ms/step - loss: 7886.7759 - mae: 7886.7759\n",
            "Epoch 3/100\n",
            "34/34 [==============================] - 0s 1ms/step - loss: 7558.1470 - mae: 7558.1470\n",
            "Epoch 4/100\n",
            "34/34 [==============================] - 0s 2ms/step - loss: 7792.0225 - mae: 7792.0225\n",
            "Epoch 5/100\n",
            "34/34 [==============================] - 0s 1ms/step - loss: 7748.3887 - mae: 7748.3887\n",
            "Epoch 6/100\n",
            "34/34 [==============================] - 0s 1ms/step - loss: 7595.3940 - mae: 7595.3940\n",
            "Epoch 7/100\n",
            "34/34 [==============================] - 0s 1ms/step - loss: 7589.9849 - mae: 7589.9849\n",
            "Epoch 8/100\n",
            "34/34 [==============================] - 0s 1ms/step - loss: 7698.5591 - mae: 7698.5591\n",
            "Epoch 9/100\n",
            "34/34 [==============================] - 0s 1ms/step - loss: 7496.7783 - mae: 7496.7783\n",
            "Epoch 10/100\n",
            "34/34 [==============================] - 0s 1ms/step - loss: 7493.1743 - mae: 7493.1743\n",
            "Epoch 11/100\n",
            "34/34 [==============================] - 0s 1ms/step - loss: 7769.7310 - mae: 7769.7310\n",
            "Epoch 12/100\n",
            "34/34 [==============================] - 0s 1ms/step - loss: 7706.9048 - mae: 7706.9048\n",
            "Epoch 13/100\n",
            "34/34 [==============================] - 0s 1ms/step - loss: 7687.7227 - mae: 7687.7227\n",
            "Epoch 14/100\n",
            "34/34 [==============================] - 0s 1ms/step - loss: 7689.8999 - mae: 7689.8999\n",
            "Epoch 15/100\n",
            "34/34 [==============================] - 0s 1ms/step - loss: 7393.5332 - mae: 7393.5332\n",
            "Epoch 16/100\n",
            "34/34 [==============================] - 0s 1ms/step - loss: 7780.6982 - mae: 7780.6982\n",
            "Epoch 17/100\n",
            "34/34 [==============================] - 0s 1ms/step - loss: 7578.5112 - mae: 7578.5112\n",
            "Epoch 18/100\n",
            "34/34 [==============================] - 0s 1ms/step - loss: 7750.8354 - mae: 7750.8354\n",
            "Epoch 19/100\n",
            "34/34 [==============================] - 0s 1ms/step - loss: 7739.2148 - mae: 7739.2148\n",
            "Epoch 20/100\n",
            "34/34 [==============================] - 0s 1ms/step - loss: 7875.0654 - mae: 7875.0654\n",
            "Epoch 21/100\n",
            "34/34 [==============================] - 0s 1ms/step - loss: 7466.6772 - mae: 7466.6772\n",
            "Epoch 22/100\n",
            "34/34 [==============================] - 0s 1ms/step - loss: 7941.2319 - mae: 7941.2319\n",
            "Epoch 23/100\n",
            "34/34 [==============================] - 0s 1ms/step - loss: 7640.2725 - mae: 7640.2725\n",
            "Epoch 24/100\n",
            "34/34 [==============================] - 0s 1ms/step - loss: 7539.2666 - mae: 7539.2666\n",
            "Epoch 25/100\n",
            "34/34 [==============================] - 0s 1ms/step - loss: 7619.9663 - mae: 7619.9663\n",
            "Epoch 26/100\n",
            "34/34 [==============================] - 0s 1ms/step - loss: 7644.1719 - mae: 7644.1719\n",
            "Epoch 27/100\n",
            "34/34 [==============================] - 0s 1ms/step - loss: 7709.0376 - mae: 7709.0376\n",
            "Epoch 28/100\n",
            "34/34 [==============================] - 0s 1ms/step - loss: 7366.8662 - mae: 7366.8662\n",
            "Epoch 29/100\n",
            "34/34 [==============================] - 0s 1ms/step - loss: 7444.3159 - mae: 7444.3159\n",
            "Epoch 30/100\n",
            "34/34 [==============================] - 0s 1ms/step - loss: 7616.4097 - mae: 7616.4097\n",
            "Epoch 31/100\n",
            "34/34 [==============================] - 0s 1ms/step - loss: 7686.3853 - mae: 7686.3853\n",
            "Epoch 32/100\n",
            "34/34 [==============================] - 0s 1ms/step - loss: 7548.0991 - mae: 7548.0991\n",
            "Epoch 33/100\n",
            "34/34 [==============================] - 0s 1ms/step - loss: 7501.5537 - mae: 7501.5537\n",
            "Epoch 34/100\n",
            "34/34 [==============================] - 0s 1ms/step - loss: 7363.4155 - mae: 7363.4155\n",
            "Epoch 35/100\n",
            "34/34 [==============================] - 0s 2ms/step - loss: 7295.4473 - mae: 7295.4473\n",
            "Epoch 36/100\n",
            "34/34 [==============================] - 0s 1ms/step - loss: 7569.8818 - mae: 7569.8818\n",
            "Epoch 37/100\n",
            "34/34 [==============================] - 0s 1ms/step - loss: 7548.1997 - mae: 7548.1997\n",
            "Epoch 38/100\n",
            "34/34 [==============================] - 0s 995us/step - loss: 7424.3979 - mae: 7424.3979\n",
            "Epoch 39/100\n",
            "34/34 [==============================] - 0s 1ms/step - loss: 7529.7734 - mae: 7529.7734\n",
            "Epoch 40/100\n",
            "34/34 [==============================] - 0s 1ms/step - loss: 7467.3237 - mae: 7467.3237\n",
            "Epoch 41/100\n",
            "34/34 [==============================] - 0s 1ms/step - loss: 7635.9292 - mae: 7635.9292\n",
            "Epoch 42/100\n",
            "34/34 [==============================] - 0s 1ms/step - loss: 7536.8394 - mae: 7536.8394\n",
            "Epoch 43/100\n",
            "34/34 [==============================] - 0s 1ms/step - loss: 7616.5854 - mae: 7616.5854\n",
            "Epoch 44/100\n",
            "34/34 [==============================] - 0s 1ms/step - loss: 7439.4941 - mae: 7439.4941\n",
            "Epoch 45/100\n",
            "34/34 [==============================] - 0s 1ms/step - loss: 7538.0161 - mae: 7538.0161\n",
            "Epoch 46/100\n",
            "34/34 [==============================] - 0s 1ms/step - loss: 7415.1465 - mae: 7415.1465\n",
            "Epoch 47/100\n",
            "34/34 [==============================] - 0s 1ms/step - loss: 7420.6938 - mae: 7420.6938\n",
            "Epoch 48/100\n",
            "34/34 [==============================] - 0s 1ms/step - loss: 7509.9844 - mae: 7509.9844\n",
            "Epoch 49/100\n",
            "34/34 [==============================] - 0s 1ms/step - loss: 7541.1128 - mae: 7541.1128\n",
            "Epoch 50/100\n",
            "34/34 [==============================] - 0s 1ms/step - loss: 7467.8638 - mae: 7467.8638\n",
            "Epoch 51/100\n",
            "34/34 [==============================] - 0s 1ms/step - loss: 7389.3550 - mae: 7389.3550\n",
            "Epoch 52/100\n",
            "34/34 [==============================] - 0s 1ms/step - loss: 7499.7754 - mae: 7499.7754\n",
            "Epoch 53/100\n",
            "34/34 [==============================] - 0s 1ms/step - loss: 7523.9282 - mae: 7523.9282\n",
            "Epoch 54/100\n",
            "34/34 [==============================] - 0s 1ms/step - loss: 7243.3120 - mae: 7243.3120\n",
            "Epoch 55/100\n",
            "34/34 [==============================] - 0s 1ms/step - loss: 7429.5859 - mae: 7429.5859\n",
            "Epoch 56/100\n",
            "34/34 [==============================] - 0s 1ms/step - loss: 7313.4004 - mae: 7313.4004\n",
            "Epoch 57/100\n",
            "34/34 [==============================] - 0s 1ms/step - loss: 7526.3887 - mae: 7526.3887\n",
            "Epoch 58/100\n",
            "34/34 [==============================] - 0s 1ms/step - loss: 7542.2666 - mae: 7542.2666\n",
            "Epoch 59/100\n",
            "34/34 [==============================] - 0s 1ms/step - loss: 7576.9282 - mae: 7576.9282\n",
            "Epoch 60/100\n",
            "34/34 [==============================] - 0s 1ms/step - loss: 7546.4058 - mae: 7546.4058\n",
            "Epoch 61/100\n",
            "34/34 [==============================] - 0s 1ms/step - loss: 7351.2275 - mae: 7351.2275\n",
            "Epoch 62/100\n",
            "34/34 [==============================] - 0s 1ms/step - loss: 7302.1440 - mae: 7302.1440\n",
            "Epoch 63/100\n",
            "34/34 [==============================] - 0s 1ms/step - loss: 7393.0884 - mae: 7393.0884\n",
            "Epoch 64/100\n",
            "34/34 [==============================] - 0s 1ms/step - loss: 7442.2886 - mae: 7442.2886\n",
            "Epoch 65/100\n",
            "34/34 [==============================] - 0s 1ms/step - loss: 7492.6792 - mae: 7492.6792\n",
            "Epoch 66/100\n",
            "34/34 [==============================] - 0s 1ms/step - loss: 7561.9170 - mae: 7561.9170\n",
            "Epoch 67/100\n",
            "34/34 [==============================] - 0s 1ms/step - loss: 7340.5142 - mae: 7340.5142\n",
            "Epoch 68/100\n",
            "34/34 [==============================] - 0s 1ms/step - loss: 7496.0859 - mae: 7496.0859\n",
            "Epoch 69/100\n",
            "34/34 [==============================] - 0s 1ms/step - loss: 7617.0322 - mae: 7617.0322\n",
            "Epoch 70/100\n",
            "34/34 [==============================] - 0s 1ms/step - loss: 7641.1953 - mae: 7641.1953\n",
            "Epoch 71/100\n",
            "34/34 [==============================] - 0s 1ms/step - loss: 7084.2749 - mae: 7084.2749\n",
            "Epoch 72/100\n",
            "34/34 [==============================] - 0s 1ms/step - loss: 7240.4907 - mae: 7240.4907\n",
            "Epoch 73/100\n",
            "34/34 [==============================] - 0s 1ms/step - loss: 7283.4888 - mae: 7283.4888\n",
            "Epoch 74/100\n",
            "34/34 [==============================] - 0s 1ms/step - loss: 7335.5078 - mae: 7335.5078\n",
            "Epoch 75/100\n",
            "34/34 [==============================] - 0s 1ms/step - loss: 7275.6396 - mae: 7275.6396\n",
            "Epoch 76/100\n",
            "34/34 [==============================] - 0s 1ms/step - loss: 7313.1855 - mae: 7313.1855\n",
            "Epoch 77/100\n",
            "34/34 [==============================] - 0s 1ms/step - loss: 7485.7598 - mae: 7485.7598\n",
            "Epoch 78/100\n",
            "34/34 [==============================] - 0s 1ms/step - loss: 7352.2798 - mae: 7352.2798\n",
            "Epoch 79/100\n",
            "34/34 [==============================] - 0s 1ms/step - loss: 7520.5708 - mae: 7520.5708\n",
            "Epoch 80/100\n",
            "34/34 [==============================] - 0s 1ms/step - loss: 7279.3779 - mae: 7279.3779\n",
            "Epoch 81/100\n",
            "34/34 [==============================] - 0s 1ms/step - loss: 7273.8472 - mae: 7273.8472\n",
            "Epoch 82/100\n",
            "34/34 [==============================] - 0s 1ms/step - loss: 7176.5215 - mae: 7176.5215\n",
            "Epoch 83/100\n",
            "34/34 [==============================] - 0s 1ms/step - loss: 7425.6304 - mae: 7425.6304\n",
            "Epoch 84/100\n",
            "34/34 [==============================] - 0s 1ms/step - loss: 7403.1294 - mae: 7403.1294\n",
            "Epoch 85/100\n",
            "34/34 [==============================] - 0s 1ms/step - loss: 7356.0078 - mae: 7356.0078\n",
            "Epoch 86/100\n",
            "34/34 [==============================] - 0s 1ms/step - loss: 7484.7271 - mae: 7484.7271\n",
            "Epoch 87/100\n",
            "34/34 [==============================] - 0s 1ms/step - loss: 7217.6079 - mae: 7217.6079\n",
            "Epoch 88/100\n",
            "34/34 [==============================] - 0s 1ms/step - loss: 7261.0000 - mae: 7261.0000\n",
            "Epoch 89/100\n",
            "34/34 [==============================] - 0s 1ms/step - loss: 7134.1562 - mae: 7134.1562\n",
            "Epoch 90/100\n",
            "34/34 [==============================] - 0s 1ms/step - loss: 7083.4360 - mae: 7083.4360\n",
            "Epoch 91/100\n",
            "34/34 [==============================] - 0s 1ms/step - loss: 7254.1782 - mae: 7254.1782\n",
            "Epoch 92/100\n",
            "34/34 [==============================] - 0s 1ms/step - loss: 7268.7456 - mae: 7268.7456\n",
            "Epoch 93/100\n",
            "34/34 [==============================] - 0s 1ms/step - loss: 7470.5215 - mae: 7470.5215\n",
            "Epoch 94/100\n",
            "34/34 [==============================] - 0s 1ms/step - loss: 7210.9536 - mae: 7210.9536\n",
            "Epoch 95/100\n",
            "34/34 [==============================] - 0s 1ms/step - loss: 7395.6816 - mae: 7395.6816\n",
            "Epoch 96/100\n",
            "34/34 [==============================] - 0s 1ms/step - loss: 7328.0874 - mae: 7328.0874\n",
            "Epoch 97/100\n",
            "34/34 [==============================] - 0s 1ms/step - loss: 7230.4395 - mae: 7230.4395\n",
            "Epoch 98/100\n",
            "34/34 [==============================] - 0s 1ms/step - loss: 7261.3940 - mae: 7261.3940\n",
            "Epoch 99/100\n",
            "34/34 [==============================] - 0s 1ms/step - loss: 7342.5679 - mae: 7342.5679\n",
            "Epoch 100/100\n",
            "34/34 [==============================] - 0s 1ms/step - loss: 7106.1714 - mae: 7106.1714\n"
          ],
          "name": "stdout"
        },
        {
          "output_type": "execute_result",
          "data": {
            "text/plain": [
              "<tensorflow.python.keras.callbacks.History at 0x7f4014526490>"
            ]
          },
          "metadata": {
            "tags": []
          },
          "execution_count": 122
        }
      ]
    },
    {
      "cell_type": "code",
      "metadata": {
        "colab": {
          "base_uri": "https://localhost:8080/"
        },
        "id": "IzR-zdnFzd7J",
        "outputId": "47e7e041-a6d0-44ba-a91a-c1defc870039"
      },
      "source": [
        "# Check the results of insurance model on test data\n",
        "insurance_model.evaluate(X_test,y_test)"
      ],
      "execution_count": 123,
      "outputs": [
        {
          "output_type": "stream",
          "text": [
            "WARNING:tensorflow:5 out of the last 5 calls to <function Model.make_test_function.<locals>.test_function at 0x7f400b464e60> triggered tf.function retracing. Tracing is expensive and the excessive number of tracings could be due to (1) creating @tf.function repeatedly in a loop, (2) passing tensors with different shapes, (3) passing Python objects instead of tensors. For (1), please define your @tf.function outside of the loop. For (2), @tf.function has experimental_relax_shapes=True option that relaxes argument shapes that can avoid unnecessary retracing. For (3), please refer to https://www.tensorflow.org/guide/function#controlling_retracing and https://www.tensorflow.org/api_docs/python/tf/function for  more details.\n",
            "9/9 [==============================] - 0s 2ms/step - loss: 7023.3291 - mae: 7023.3291\n"
          ],
          "name": "stdout"
        },
        {
          "output_type": "execute_result",
          "data": {
            "text/plain": [
              "[7023.3291015625, 7023.3291015625]"
            ]
          },
          "metadata": {
            "tags": []
          },
          "execution_count": 123
        }
      ]
    },
    {
      "cell_type": "code",
      "metadata": {
        "colab": {
          "base_uri": "https://localhost:8080/"
        },
        "id": "d_VBiw1yz6_h",
        "outputId": "27618020-8df2-4a42-c918-517f62a9beb2"
      },
      "source": [
        "y_train.median(), y_train.mean()"
      ],
      "execution_count": 124,
      "outputs": [
        {
          "output_type": "execute_result",
          "data": {
            "text/plain": [
              "(9575.4421, 13346.089736364489)"
            ]
          },
          "metadata": {
            "tags": []
          },
          "execution_count": 124
        }
      ]
    },
    {
      "cell_type": "markdown",
      "metadata": {
        "id": "27bcdAVS0KD7"
      },
      "source": [
        "-  The model performs poorly"
      ]
    },
    {
      "cell_type": "code",
      "metadata": {
        "colab": {
          "base_uri": "https://localhost:8080/"
        },
        "id": "EFMD_yqe0Y-Y",
        "outputId": "efd1c159-d833-476c-8c4e-46fc60ba82ed"
      },
      "source": [
        "# random seed\n",
        "tf.random.set_seed(42)\n",
        "\n",
        "insurance_model_2 = tf.keras.Sequential(\n",
        "    [\n",
        "     tf.keras.layers.Dense(100),\n",
        "     tf.keras.layers.Dense(10),\n",
        "     tf.keras.layers.Dense(1)\n",
        "    ]\n",
        ")\n",
        "insurance_model_2.compile(\n",
        "    loss = tf.keras.losses.mae,\n",
        "    optimizer = tf.keras.optimizers.Adam(lr=0.01),\n",
        "    metrics=['mae']\n",
        ")\n",
        "history = insurance_model_2.fit(X_train, y_train, epochs=100)"
      ],
      "execution_count": 147,
      "outputs": [
        {
          "output_type": "stream",
          "text": [
            "/usr/local/lib/python3.7/dist-packages/tensorflow/python/keras/optimizer_v2/optimizer_v2.py:375: UserWarning: The `lr` argument is deprecated, use `learning_rate` instead.\n",
            "  \"The `lr` argument is deprecated, use `learning_rate` instead.\")\n"
          ],
          "name": "stderr"
        },
        {
          "output_type": "stream",
          "text": [
            "Epoch 1/100\n",
            "34/34 [==============================] - 0s 1ms/step - loss: 11434.4707 - mae: 11434.4707\n",
            "Epoch 2/100\n",
            "34/34 [==============================] - 0s 1ms/step - loss: 7504.8159 - mae: 7504.8159\n",
            "Epoch 3/100\n",
            "34/34 [==============================] - 0s 1ms/step - loss: 7289.5015 - mae: 7289.5015\n",
            "Epoch 4/100\n",
            "34/34 [==============================] - 0s 1ms/step - loss: 7064.4624 - mae: 7064.4624\n",
            "Epoch 5/100\n",
            "34/34 [==============================] - 0s 2ms/step - loss: 6825.5918 - mae: 6825.5918\n",
            "Epoch 6/100\n",
            "34/34 [==============================] - 0s 1ms/step - loss: 6569.6001 - mae: 6569.6001\n",
            "Epoch 7/100\n",
            "34/34 [==============================] - 0s 1ms/step - loss: 6442.8633 - mae: 6442.8633\n",
            "Epoch 8/100\n",
            "34/34 [==============================] - 0s 1ms/step - loss: 6254.7837 - mae: 6254.7837\n",
            "Epoch 9/100\n",
            "34/34 [==============================] - 0s 1ms/step - loss: 6121.5996 - mae: 6121.5996\n",
            "Epoch 10/100\n",
            "34/34 [==============================] - 0s 1ms/step - loss: 5940.2451 - mae: 5940.2451\n",
            "Epoch 11/100\n",
            "34/34 [==============================] - 0s 1ms/step - loss: 5689.8647 - mae: 5689.8647\n",
            "Epoch 12/100\n",
            "34/34 [==============================] - 0s 1ms/step - loss: 5351.7480 - mae: 5351.7480\n",
            "Epoch 13/100\n",
            "34/34 [==============================] - 0s 1ms/step - loss: 4868.8071 - mae: 4868.8071\n",
            "Epoch 14/100\n",
            "34/34 [==============================] - 0s 1ms/step - loss: 4225.0649 - mae: 4225.0649\n",
            "Epoch 15/100\n",
            "34/34 [==============================] - 0s 1ms/step - loss: 4050.5950 - mae: 4050.5950\n",
            "Epoch 16/100\n",
            "34/34 [==============================] - 0s 1ms/step - loss: 3840.3181 - mae: 3840.3181\n",
            "Epoch 17/100\n",
            "34/34 [==============================] - 0s 1ms/step - loss: 3802.4246 - mae: 3802.4246\n",
            "Epoch 18/100\n",
            "34/34 [==============================] - 0s 2ms/step - loss: 3795.2795 - mae: 3795.2795\n",
            "Epoch 19/100\n",
            "34/34 [==============================] - 0s 1ms/step - loss: 3756.2024 - mae: 3756.2024\n",
            "Epoch 20/100\n",
            "34/34 [==============================] - 0s 1ms/step - loss: 3792.3674 - mae: 3792.3674\n",
            "Epoch 21/100\n",
            "34/34 [==============================] - 0s 1ms/step - loss: 3797.9548 - mae: 3797.9548\n",
            "Epoch 22/100\n",
            "34/34 [==============================] - 0s 1ms/step - loss: 3806.4893 - mae: 3806.4893\n",
            "Epoch 23/100\n",
            "34/34 [==============================] - 0s 1ms/step - loss: 3742.5574 - mae: 3742.5574\n",
            "Epoch 24/100\n",
            "34/34 [==============================] - 0s 2ms/step - loss: 3708.5198 - mae: 3708.5198\n",
            "Epoch 25/100\n",
            "34/34 [==============================] - 0s 2ms/step - loss: 3728.8145 - mae: 3728.8145\n",
            "Epoch 26/100\n",
            "34/34 [==============================] - 0s 1ms/step - loss: 3698.3137 - mae: 3698.3137\n",
            "Epoch 27/100\n",
            "34/34 [==============================] - 0s 1ms/step - loss: 3707.6013 - mae: 3707.6013\n",
            "Epoch 28/100\n",
            "34/34 [==============================] - 0s 1ms/step - loss: 3692.9580 - mae: 3692.9580\n",
            "Epoch 29/100\n",
            "34/34 [==============================] - 0s 1ms/step - loss: 3694.4250 - mae: 3694.4250\n",
            "Epoch 30/100\n",
            "34/34 [==============================] - 0s 1ms/step - loss: 3675.4292 - mae: 3675.4292\n",
            "Epoch 31/100\n",
            "34/34 [==============================] - 0s 1ms/step - loss: 3696.4055 - mae: 3696.4055\n",
            "Epoch 32/100\n",
            "34/34 [==============================] - 0s 1ms/step - loss: 3623.0684 - mae: 3623.0684\n",
            "Epoch 33/100\n",
            "34/34 [==============================] - 0s 1ms/step - loss: 3637.3293 - mae: 3637.3293\n",
            "Epoch 34/100\n",
            "34/34 [==============================] - 0s 1ms/step - loss: 3681.0012 - mae: 3681.0012\n",
            "Epoch 35/100\n",
            "34/34 [==============================] - 0s 1ms/step - loss: 3591.9485 - mae: 3591.9485\n",
            "Epoch 36/100\n",
            "34/34 [==============================] - 0s 2ms/step - loss: 3601.7756 - mae: 3601.7756\n",
            "Epoch 37/100\n",
            "34/34 [==============================] - 0s 1ms/step - loss: 3580.9307 - mae: 3580.9307\n",
            "Epoch 38/100\n",
            "34/34 [==============================] - 0s 1ms/step - loss: 3558.8557 - mae: 3558.8557\n",
            "Epoch 39/100\n",
            "34/34 [==============================] - 0s 1ms/step - loss: 3604.4268 - mae: 3604.4268\n",
            "Epoch 40/100\n",
            "34/34 [==============================] - 0s 1ms/step - loss: 3573.4529 - mae: 3573.4529\n",
            "Epoch 41/100\n",
            "34/34 [==============================] - 0s 2ms/step - loss: 3558.3743 - mae: 3558.3743\n",
            "Epoch 42/100\n",
            "34/34 [==============================] - 0s 1ms/step - loss: 3550.3489 - mae: 3550.3489\n",
            "Epoch 43/100\n",
            "34/34 [==============================] - 0s 1ms/step - loss: 3571.1655 - mae: 3571.1655\n",
            "Epoch 44/100\n",
            "34/34 [==============================] - 0s 1ms/step - loss: 3558.7820 - mae: 3558.7820\n",
            "Epoch 45/100\n",
            "34/34 [==============================] - 0s 1ms/step - loss: 3533.3618 - mae: 3533.3618\n",
            "Epoch 46/100\n",
            "34/34 [==============================] - 0s 1ms/step - loss: 3520.8992 - mae: 3520.8992\n",
            "Epoch 47/100\n",
            "34/34 [==============================] - 0s 2ms/step - loss: 3565.4756 - mae: 3565.4756\n",
            "Epoch 48/100\n",
            "34/34 [==============================] - 0s 2ms/step - loss: 3527.2285 - mae: 3527.2285\n",
            "Epoch 49/100\n",
            "34/34 [==============================] - 0s 2ms/step - loss: 3591.1528 - mae: 3591.1528\n",
            "Epoch 50/100\n",
            "34/34 [==============================] - 0s 1ms/step - loss: 3596.1494 - mae: 3596.1494\n",
            "Epoch 51/100\n",
            "34/34 [==============================] - 0s 1ms/step - loss: 3506.1565 - mae: 3506.1565\n",
            "Epoch 52/100\n",
            "34/34 [==============================] - 0s 2ms/step - loss: 3503.9604 - mae: 3503.9604\n",
            "Epoch 53/100\n",
            "34/34 [==============================] - 0s 1ms/step - loss: 3497.7795 - mae: 3497.7795\n",
            "Epoch 54/100\n",
            "34/34 [==============================] - 0s 1ms/step - loss: 3541.8821 - mae: 3541.8821\n",
            "Epoch 55/100\n",
            "34/34 [==============================] - 0s 1ms/step - loss: 3533.5676 - mae: 3533.5676\n",
            "Epoch 56/100\n",
            "34/34 [==============================] - 0s 2ms/step - loss: 3538.5320 - mae: 3538.5320\n",
            "Epoch 57/100\n",
            "34/34 [==============================] - 0s 1ms/step - loss: 3501.6963 - mae: 3501.6963\n",
            "Epoch 58/100\n",
            "34/34 [==============================] - 0s 1ms/step - loss: 3660.3994 - mae: 3660.3994\n",
            "Epoch 59/100\n",
            "34/34 [==============================] - 0s 1ms/step - loss: 3524.0496 - mae: 3524.0496\n",
            "Epoch 60/100\n",
            "34/34 [==============================] - 0s 2ms/step - loss: 3534.5562 - mae: 3534.5562\n",
            "Epoch 61/100\n",
            "34/34 [==============================] - 0s 1ms/step - loss: 3543.9214 - mae: 3543.9214\n",
            "Epoch 62/100\n",
            "34/34 [==============================] - 0s 1ms/step - loss: 3575.7256 - mae: 3575.7256\n",
            "Epoch 63/100\n",
            "34/34 [==============================] - 0s 1ms/step - loss: 3515.1013 - mae: 3515.1013\n",
            "Epoch 64/100\n",
            "34/34 [==============================] - 0s 1ms/step - loss: 3508.0159 - mae: 3508.0159\n",
            "Epoch 65/100\n",
            "34/34 [==============================] - 0s 1ms/step - loss: 3513.5461 - mae: 3513.5461\n",
            "Epoch 66/100\n",
            "34/34 [==============================] - 0s 1ms/step - loss: 3638.5474 - mae: 3638.5474\n",
            "Epoch 67/100\n",
            "34/34 [==============================] - 0s 1ms/step - loss: 3548.7737 - mae: 3548.7737\n",
            "Epoch 68/100\n",
            "34/34 [==============================] - 0s 2ms/step - loss: 3527.3784 - mae: 3527.3784\n",
            "Epoch 69/100\n",
            "34/34 [==============================] - 0s 1ms/step - loss: 3500.2761 - mae: 3500.2761\n",
            "Epoch 70/100\n",
            "34/34 [==============================] - 0s 1ms/step - loss: 3500.8105 - mae: 3500.8105\n",
            "Epoch 71/100\n",
            "34/34 [==============================] - 0s 1ms/step - loss: 3517.2708 - mae: 3517.2708\n",
            "Epoch 72/100\n",
            "34/34 [==============================] - 0s 1ms/step - loss: 3550.8833 - mae: 3550.8833\n",
            "Epoch 73/100\n",
            "34/34 [==============================] - 0s 1ms/step - loss: 3516.9297 - mae: 3516.9297\n",
            "Epoch 74/100\n",
            "34/34 [==============================] - 0s 2ms/step - loss: 3534.0627 - mae: 3534.0627\n",
            "Epoch 75/100\n",
            "34/34 [==============================] - 0s 1ms/step - loss: 3531.4092 - mae: 3531.4092\n",
            "Epoch 76/100\n",
            "34/34 [==============================] - 0s 1ms/step - loss: 3529.5178 - mae: 3529.5178\n",
            "Epoch 77/100\n",
            "34/34 [==============================] - 0s 2ms/step - loss: 3581.6047 - mae: 3581.6047\n",
            "Epoch 78/100\n",
            "34/34 [==============================] - 0s 2ms/step - loss: 3626.9429 - mae: 3626.9429\n",
            "Epoch 79/100\n",
            "34/34 [==============================] - 0s 2ms/step - loss: 3536.0530 - mae: 3536.0530\n",
            "Epoch 80/100\n",
            "34/34 [==============================] - 0s 1ms/step - loss: 3501.3208 - mae: 3501.3208\n",
            "Epoch 81/100\n",
            "34/34 [==============================] - 0s 1ms/step - loss: 3546.2808 - mae: 3546.2808\n",
            "Epoch 82/100\n",
            "34/34 [==============================] - 0s 2ms/step - loss: 3605.1340 - mae: 3605.1340\n",
            "Epoch 83/100\n",
            "34/34 [==============================] - 0s 1ms/step - loss: 3528.7466 - mae: 3528.7466\n",
            "Epoch 84/100\n",
            "34/34 [==============================] - 0s 2ms/step - loss: 3511.8567 - mae: 3511.8567\n",
            "Epoch 85/100\n",
            "34/34 [==============================] - 0s 1ms/step - loss: 3511.5803 - mae: 3511.5803\n",
            "Epoch 86/100\n",
            "34/34 [==============================] - 0s 1ms/step - loss: 3511.0947 - mae: 3511.0947\n",
            "Epoch 87/100\n",
            "34/34 [==============================] - 0s 1ms/step - loss: 3542.2146 - mae: 3542.2146\n",
            "Epoch 88/100\n",
            "34/34 [==============================] - 0s 1ms/step - loss: 3600.3108 - mae: 3600.3108\n",
            "Epoch 89/100\n",
            "34/34 [==============================] - 0s 1ms/step - loss: 3550.5190 - mae: 3550.5190\n",
            "Epoch 90/100\n",
            "34/34 [==============================] - 0s 1ms/step - loss: 3520.4001 - mae: 3520.4001\n",
            "Epoch 91/100\n",
            "34/34 [==============================] - 0s 2ms/step - loss: 3511.6477 - mae: 3511.6477\n",
            "Epoch 92/100\n",
            "34/34 [==============================] - 0s 1ms/step - loss: 3550.6265 - mae: 3550.6265\n",
            "Epoch 93/100\n",
            "34/34 [==============================] - 0s 1ms/step - loss: 3579.8030 - mae: 3579.8030\n",
            "Epoch 94/100\n",
            "34/34 [==============================] - 0s 2ms/step - loss: 3604.3975 - mae: 3604.3975\n",
            "Epoch 95/100\n",
            "34/34 [==============================] - 0s 1ms/step - loss: 3517.5330 - mae: 3517.5330\n",
            "Epoch 96/100\n",
            "34/34 [==============================] - 0s 2ms/step - loss: 3526.8093 - mae: 3526.8093\n",
            "Epoch 97/100\n",
            "34/34 [==============================] - 0s 1ms/step - loss: 3596.7485 - mae: 3596.7485\n",
            "Epoch 98/100\n",
            "34/34 [==============================] - 0s 1ms/step - loss: 3528.6768 - mae: 3528.6768\n",
            "Epoch 99/100\n",
            "34/34 [==============================] - 0s 1ms/step - loss: 3513.6899 - mae: 3513.6899\n",
            "Epoch 100/100\n",
            "34/34 [==============================] - 0s 1ms/step - loss: 3505.9749 - mae: 3505.9749\n"
          ],
          "name": "stdout"
        }
      ]
    },
    {
      "cell_type": "code",
      "metadata": {
        "colab": {
          "base_uri": "https://localhost:8080/"
        },
        "id": "tOonhIhe2M8E",
        "outputId": "e7f25616-f7e3-41b4-da97-c009a7ac10a0"
      },
      "source": [
        "insurance_model_2.evaluate(X_test, y_test)"
      ],
      "execution_count": 148,
      "outputs": [
        {
          "output_type": "stream",
          "text": [
            "9/9 [==============================] - 0s 2ms/step - loss: 3167.3215 - mae: 3167.3215\n"
          ],
          "name": "stdout"
        },
        {
          "output_type": "execute_result",
          "data": {
            "text/plain": [
              "[3167.321533203125, 3167.321533203125]"
            ]
          },
          "metadata": {
            "tags": []
          },
          "execution_count": 148
        }
      ]
    },
    {
      "cell_type": "code",
      "metadata": {
        "id": "V2Lo86wM7I3H"
      },
      "source": [
        "history.history"
      ],
      "execution_count": null,
      "outputs": []
    },
    {
      "cell_type": "code",
      "metadata": {
        "colab": {
          "base_uri": "https://localhost:8080/",
          "height": 296
        },
        "id": "_atNEfsB3e5d",
        "outputId": "7463c520-acff-4d26-9f42-397ab851fe79"
      },
      "source": [
        "## Plotting the learning curve\n",
        "pd.DataFrame(history.history).plot()\n",
        "plt.ylabel('Loss')\n",
        "plt.xlabel('Epochs')"
      ],
      "execution_count": 154,
      "outputs": [
        {
          "output_type": "execute_result",
          "data": {
            "text/plain": [
              "Text(0.5, 0, 'Epochs')"
            ]
          },
          "metadata": {
            "tags": []
          },
          "execution_count": 154
        },
        {
          "output_type": "display_data",
          "data": {
            "image/png": "[encoded data removed]",
            "text/plain": [
              "<Figure size 432x288 with 1 Axes>"
            ]
          },
          "metadata": {
            "tags": [],
            "needs_background": "light"
          }
        }
      ]
    },
    {
      "cell_type": "markdown",
      "metadata": {
        "id": "ZETLlMHm6sj8"
      },
      "source": [
        "## How long do you train for"
      ]
    },
    {
      "cell_type": "markdown",
      "metadata": {
        "id": "fpiSpWDZ7uyS"
      },
      "source": [
        "- It depends on the problem\n",
        "- Tensorflow provides a callback to stop training when certain metrics are met"
      ]
    },
    {
      "cell_type": "code",
      "metadata": {
        "colab": {
          "base_uri": "https://localhost:8080/"
        },
        "id": "TsoKTm6B72wI",
        "outputId": "bdcbfd61-7c0a-40a4-fe34-146fc943ce92"
      },
      "source": [
        "callback = tf.keras.callbacks.EarlyStopping(\n",
        "    monitor = 'loss',\n",
        "    patience = 5,\n",
        "    min_delta = 0.01,\n",
        "    restore_best_weights=True\n",
        ")\n",
        "\n",
        "insurance_model_2.fit(X_train, y_train, callbacks=[callback], epochs=100)"
      ],
      "execution_count": 163,
      "outputs": [
        {
          "output_type": "stream",
          "text": [
            "Epoch 1/100\n",
            "34/34 [==============================] - 0s 1ms/step - loss: 3524.5081 - mae: 3524.5081\n",
            "Epoch 2/100\n",
            "34/34 [==============================] - 0s 1ms/step - loss: 3541.1106 - mae: 3541.1106\n",
            "Epoch 3/100\n",
            "34/34 [==============================] - 0s 1ms/step - loss: 3535.0889 - mae: 3535.0889\n",
            "Epoch 4/100\n",
            "34/34 [==============================] - 0s 1ms/step - loss: 3521.2251 - mae: 3521.2251\n",
            "Epoch 5/100\n",
            "34/34 [==============================] - 0s 1ms/step - loss: 3519.4839 - mae: 3519.4839\n",
            "Epoch 6/100\n",
            "34/34 [==============================] - 0s 1ms/step - loss: 3586.7666 - mae: 3586.7666\n",
            "Epoch 7/100\n",
            "34/34 [==============================] - 0s 2ms/step - loss: 3510.5273 - mae: 3510.5273\n",
            "Epoch 8/100\n",
            "34/34 [==============================] - 0s 1ms/step - loss: 3531.8000 - mae: 3531.8000\n",
            "Epoch 9/100\n",
            "34/34 [==============================] - 0s 1ms/step - loss: 3505.3474 - mae: 3505.3474\n",
            "Epoch 10/100\n",
            "34/34 [==============================] - 0s 1ms/step - loss: 3642.5254 - mae: 3642.5254\n",
            "Epoch 11/100\n",
            "34/34 [==============================] - 0s 1ms/step - loss: 3547.9219 - mae: 3547.9219\n",
            "Epoch 12/100\n",
            "34/34 [==============================] - 0s 1ms/step - loss: 3495.9927 - mae: 3495.9927\n",
            "Epoch 13/100\n",
            "34/34 [==============================] - 0s 1ms/step - loss: 3509.5391 - mae: 3509.5391\n",
            "Epoch 14/100\n",
            "34/34 [==============================] - 0s 1ms/step - loss: 3550.4939 - mae: 3550.4939\n",
            "Epoch 15/100\n",
            "34/34 [==============================] - 0s 1ms/step - loss: 3626.7864 - mae: 3626.7864\n",
            "Epoch 16/100\n",
            "34/34 [==============================] - 0s 1ms/step - loss: 3523.6069 - mae: 3523.6069\n",
            "Epoch 17/100\n",
            "34/34 [==============================] - 0s 2ms/step - loss: 3521.6372 - mae: 3521.6372\n"
          ],
          "name": "stdout"
        },
        {
          "output_type": "execute_result",
          "data": {
            "text/plain": [
              "<tensorflow.python.keras.callbacks.History at 0x7f40149825d0>"
            ]
          },
          "metadata": {
            "tags": []
          },
          "execution_count": 163
        }
      ]
    },
    {
      "cell_type": "markdown",
      "metadata": {
        "id": "62NgMkx890wI"
      },
      "source": [
        "## Data Preprocessing\n",
        "### Standardization and normalization\n",
        "- put data on a common scale.\n",
        "- The age, children, dmi in our data set are all on their own scales"
      ]
    },
    {
      "cell_type": "code",
      "metadata": {
        "colab": {
          "base_uri": "https://localhost:8080/",
          "height": 282
        },
        "id": "lYEcgWvV-96U",
        "outputId": "50a497a0-5533-4811-ebe8-933591eb9f61"
      },
      "source": [
        "X.age.plot(kind=\"hist\")"
      ],
      "execution_count": 157,
      "outputs": [
        {
          "output_type": "execute_result",
          "data": {
            "text/plain": [
              "<matplotlib.axes._subplots.AxesSubplot at 0x7f4014b9e350>"
            ]
          },
          "metadata": {
            "tags": []
          },
          "execution_count": 157
        },
        {
          "output_type": "display_data",
          "data": {
            "image/png": "[encoded data removed]",
            "text/plain": [
              "<Figure size 432x288 with 1 Axes>"
            ]
          },
          "metadata": {
            "tags": [],
            "needs_background": "light"
          }
        }
      ]
    },
    {
      "cell_type": "code",
      "metadata": {
        "colab": {
          "base_uri": "https://localhost:8080/",
          "height": 285
        },
        "id": "PcPGqhwq_BDU",
        "outputId": "1c4a9683-e560-4f58-c82a-71d75127a98f"
      },
      "source": [
        "X.children.plot(kind='hist')"
      ],
      "execution_count": 159,
      "outputs": [
        {
          "output_type": "execute_result",
          "data": {
            "text/plain": [
              "<matplotlib.axes._subplots.AxesSubplot at 0x7f4014c3c850>"
            ]
          },
          "metadata": {
            "tags": []
          },
          "execution_count": 159
        },
        {
          "output_type": "display_data",
          "data": {
            "image/png": "[encoded data removed]",
            "text/plain": [
              "<Figure size 432x288 with 1 Axes>"
            ]
          },
          "metadata": {
            "tags": [],
            "needs_background": "light"
          }
        }
      ]
    },
    {
      "cell_type": "code",
      "metadata": {
        "colab": {
          "base_uri": "https://localhost:8080/",
          "height": 282
        },
        "id": "qSeI7s_9_bcF",
        "outputId": "d889e58c-33d3-4521-cc71-35d2ceab4e29"
      },
      "source": [
        "X.bmi.plot(kind='hist')"
      ],
      "execution_count": 162,
      "outputs": [
        {
          "output_type": "execute_result",
          "data": {
            "text/plain": [
              "<matplotlib.axes._subplots.AxesSubplot at 0x7f4014a765d0>"
            ]
          },
          "metadata": {
            "tags": []
          },
          "execution_count": 162
        },
        {
          "output_type": "display_data",
          "data": {
            "image/png": "[encoded data removed]",
            "text/plain": [
              "<Figure size 432x288 with 1 Axes>"
            ]
          },
          "metadata": {
            "tags": [],
            "needs_background": "light"
          }
        }
      ]
    },
    {
      "cell_type": "markdown",
      "metadata": {
        "id": "0HI69EtJAEzX"
      },
      "source": [
        "- Normalization - convert the values between 0 and 1 while maintainng the original distribution\n",
        "- in terms of scaling values, nn prefer normalization"
      ]
    },
    {
      "cell_type": "code",
      "metadata": {
        "id": "RRt6W0CjB_ZO"
      },
      "source": [
        "import pandas as pd\n",
        "import matplotlib.pyplot as plt\n",
        "import tensorflow as tf"
      ],
      "execution_count": 164,
      "outputs": []
    },
    {
      "cell_type": "code",
      "metadata": {
        "id": "9p8zjW6ECFU7"
      },
      "source": [
        "insurance_norm = pd.read_csv('https://raw.githubusercontent.com/stedy/Machine-Learning-with-R-datasets/master/insurance.csv')"
      ],
      "execution_count": 165,
      "outputs": []
    },
    {
      "cell_type": "code",
      "metadata": {
        "id": "UqawyDPACMkZ"
      },
      "source": [
        "## use sklearn to transform data\n",
        "from sklearn.compose import make_column_transformer\n",
        "from sklearn.preprocessing import MinMaxScaler, OneHotEncoder"
      ],
      "execution_count": 166,
      "outputs": []
    },
    {
      "cell_type": "code",
      "metadata": {
        "id": "cYScP3KwCigp"
      },
      "source": [
        "## We scale numerical features and one hot encode no numerical ones\n",
        "ct = make_column_transformer(\n",
        "    (MinMaxScaler(), ['age', 'bmi', 'children']),\n",
        "    (OneHotEncoder(handle_unknown='ignore'), ['sex', 'smoker', 'region'])\n",
        ")"
      ],
      "execution_count": 167,
      "outputs": []
    },
    {
      "cell_type": "code",
      "metadata": {
        "id": "7bCI-_dqDHPL"
      },
      "source": [
        "# Create features and labels\n",
        "X = insurance_norm.drop('charges', axis=1)\n",
        "y = insurance_norm.charges"
      ],
      "execution_count": 168,
      "outputs": []
    },
    {
      "cell_type": "code",
      "metadata": {
        "id": "0YE12wavDQ04"
      },
      "source": [
        "X_train, X_test, y_train, y_test = train_test_split(X, y, test_size=0.2, random_state=42)"
      ],
      "execution_count": 169,
      "outputs": []
    },
    {
      "cell_type": "code",
      "metadata": {
        "colab": {
          "base_uri": "https://localhost:8080/"
        },
        "id": "U4YBGXyaELdB",
        "outputId": "922ec884-9e23-4cca-8383-ada68a914e17"
      },
      "source": [
        "# fit the transform\n",
        "ct.fit(X_train)"
      ],
      "execution_count": 170,
      "outputs": [
        {
          "output_type": "execute_result",
          "data": {
            "text/plain": [
              "ColumnTransformer(n_jobs=None, remainder='drop', sparse_threshold=0.3,\n",
              "                  transformer_weights=None,\n",
              "                  transformers=[('minmaxscaler',\n",
              "                                 MinMaxScaler(copy=True, feature_range=(0, 1)),\n",
              "                                 ['age', 'bmi', 'children']),\n",
              "                                ('onehotencoder',\n",
              "                                 OneHotEncoder(categories='auto', drop=None,\n",
              "                                               dtype=<class 'numpy.float64'>,\n",
              "                                               handle_unknown='ignore',\n",
              "                                               sparse=True),\n",
              "                                 ['sex', 'smoker', 'region'])],\n",
              "                  verbose=False)"
            ]
          },
          "metadata": {
            "tags": []
          },
          "execution_count": 170
        }
      ]
    },
    {
      "cell_type": "code",
      "metadata": {
        "id": "1ZXcF8mjETWl"
      },
      "source": [
        "# Convert the features into the transformed format\n",
        "X_train_normal = ct.transform(X_train)\n",
        "X_test_normal = ct.transform(X_test)"
      ],
      "execution_count": 172,
      "outputs": []
    },
    {
      "cell_type": "code",
      "metadata": {
        "colab": {
          "base_uri": "https://localhost:8080/"
        },
        "id": "EARpgPUrEcgn",
        "outputId": "8686c88e-350b-49b4-dd71-19fcca460db2"
      },
      "source": [
        "X_test_normal[9]"
      ],
      "execution_count": 176,
      "outputs": [
        {
          "output_type": "execute_result",
          "data": {
            "text/plain": [
              "array([0.67391304, 0.3424805 , 0.6       , 0.        , 1.        ,\n",
              "       1.        , 0.        , 0.        , 1.        , 0.        ,\n",
              "       0.        ])"
            ]
          },
          "metadata": {
            "tags": []
          },
          "execution_count": 176
        }
      ]
    },
    {
      "cell_type": "markdown",
      "metadata": {
        "id": "8fPJKbNXEg-r"
      },
      "source": [
        "### NN for the normalized data\n"
      ]
    },
    {
      "cell_type": "code",
      "metadata": {
        "colab": {
          "base_uri": "https://localhost:8080/"
        },
        "id": "cX4YE0wwF32w",
        "outputId": "d30c1d94-cbcf-4094-e436-270033cc2f0a"
      },
      "source": [
        "insurance_model_2.summary()"
      ],
      "execution_count": 178,
      "outputs": [
        {
          "output_type": "stream",
          "text": [
            "Model: \"sequential_30\"\n",
            "_________________________________________________________________\n",
            "Layer (type)                 Output Shape              Param #   \n",
            "=================================================================\n",
            "dense_69 (Dense)             (None, 100)               1200      \n",
            "_________________________________________________________________\n",
            "dense_70 (Dense)             (None, 10)                1010      \n",
            "_________________________________________________________________\n",
            "dense_71 (Dense)             (None, 1)                 11        \n",
            "=================================================================\n",
            "Total params: 2,221\n",
            "Trainable params: 2,221\n",
            "Non-trainable params: 0\n",
            "_________________________________________________________________\n"
          ],
          "name": "stdout"
        }
      ]
    },
    {
      "cell_type": "code",
      "metadata": {
        "id": "3gB2y-MeF8rV"
      },
      "source": [
        "# replicate the best model\n",
        "tf.random.set_seed(42)\n",
        "\n",
        "insurance_model_3 = tf.keras.Sequential(\n",
        "    [\n",
        "     tf.keras.layers.Dense(100),\n",
        "     tf.keras.layers.Dense(10),\n",
        "     tf.keras.layers.Dense(1)\n",
        "    ]\n",
        ")\n",
        "\n",
        "insurance_model_3.compile(\n",
        "    loss = tf.keras.losses.mae,\n",
        "    optimizer = tf.keras.optimizers.Adam(lr=0.01),\n",
        "    metrics=['mae']\n",
        ")\n",
        "insurance_model_3.fit(X_train_normal, y_train, epochs=100, callbacks=[callback])"
      ],
      "execution_count": null,
      "outputs": []
    },
    {
      "cell_type": "code",
      "metadata": {
        "colab": {
          "base_uri": "https://localhost:8080/"
        },
        "id": "PvAbuD_UKPXv",
        "outputId": "e7235778-621d-4d92-8613-b0b89b16718f"
      },
      "source": [
        "insurance_model_3.evaluate(X_test_normal, y_test)"
      ],
      "execution_count": 185,
      "outputs": [
        {
          "output_type": "stream",
          "text": [
            "9/9 [==============================] - 0s 1ms/step - loss: 3168.5432 - mae: 3168.5432\n"
          ],
          "name": "stdout"
        },
        {
          "output_type": "execute_result",
          "data": {
            "text/plain": [
              "[3168.543212890625, 3168.543212890625]"
            ]
          },
          "metadata": {
            "tags": []
          },
          "execution_count": 185
        }
      ]
    },
    {
      "cell_type": "markdown",
      "metadata": {
        "id": "rKNWXMOEL1VU"
      },
      "source": [
        "# Exercises"
      ]
    },
    {
      "cell_type": "markdown",
      "metadata": {
        "id": "T9yJnXdLMCaM"
      },
      "source": [
        "1. Create your own regresson dataset  and fit a model\n"
      ]
    },
    {
      "cell_type": "code",
      "metadata": {
        "id": "WkIG7Uj1OPW-"
      },
      "source": [
        "X_e = tf.constant(tf.range(1,1000, 12))\n",
        "y_e = 2.76 * tf.cast(X_e, dtype=tf.float16) + 8"
      ],
      "execution_count": 212,
      "outputs": []
    },
    {
      "cell_type": "code",
      "metadata": {
        "colab": {
          "base_uri": "https://localhost:8080/"
        },
        "id": "tgwkqlVIOxHC",
        "outputId": "36d3781c-6fe1-4be4-f855-0cd725d5d567"
      },
      "source": [
        "X_e, y_e"
      ],
      "execution_count": 213,
      "outputs": [
        {
          "output_type": "execute_result",
          "data": {
            "text/plain": [
              "(<tf.Tensor: shape=(84,), dtype=int32, numpy=\n",
              " array([  1,  13,  25,  37,  49,  61,  73,  85,  97, 109, 121, 133, 145,\n",
              "        157, 169, 181, 193, 205, 217, 229, 241, 253, 265, 277, 289, 301,\n",
              "        313, 325, 337, 349, 361, 373, 385, 397, 409, 421, 433, 445, 457,\n",
              "        469, 481, 493, 505, 517, 529, 541, 553, 565, 577, 589, 601, 613,\n",
              "        625, 637, 649, 661, 673, 685, 697, 709, 721, 733, 745, 757, 769,\n",
              "        781, 793, 805, 817, 829, 841, 853, 865, 877, 889, 901, 913, 925,\n",
              "        937, 949, 961, 973, 985, 997], dtype=int32)>,\n",
              " <tf.Tensor: shape=(84,), dtype=float16, numpy=\n",
              " array([  10.76,   43.88,   77.  ,  110.1 ,  143.2 ,  176.4 ,  209.5 ,\n",
              "         242.6 ,  275.8 ,  308.8 ,  342.  ,  375.  ,  408.2 ,  441.2 ,\n",
              "         474.5 ,  507.5 ,  540.5 ,  574.  ,  607.  ,  640.  ,  673.  ,\n",
              "         706.  ,  739.5 ,  772.5 ,  805.5 ,  838.5 ,  872.  ,  905.  ,\n",
              "         938.  ,  971.  , 1004.5 , 1037.  , 1071.  , 1104.  , 1137.  ,\n",
              "        1170.  , 1203.  , 1236.  , 1269.  , 1302.  , 1335.  , 1369.  ,\n",
              "        1402.  , 1435.  , 1468.  , 1501.  , 1534.  , 1567.  , 1600.  ,\n",
              "        1634.  , 1667.  , 1700.  , 1733.  , 1766.  , 1799.  , 1832.  ,\n",
              "        1865.  , 1898.  , 1932.  , 1965.  , 1998.  , 2031.  , 2064.  ,\n",
              "        2098.  , 2130.  , 2164.  , 2196.  , 2230.  , 2262.  , 2296.  ,\n",
              "        2328.  , 2362.  , 2396.  , 2428.  , 2462.  , 2494.  , 2528.  ,\n",
              "        2560.  , 2594.  , 2628.  , 2660.  , 2694.  , 2726.  , 2760.  ],\n",
              "       dtype=float16)>)"
            ]
          },
          "metadata": {
            "tags": []
          },
          "execution_count": 213
        }
      ]
    },
    {
      "cell_type": "code",
      "metadata": {
        "colab": {
          "base_uri": "https://localhost:8080/",
          "height": 282
        },
        "id": "ippdcGkKPI0F",
        "outputId": "d6ef2dce-6f2c-48a6-c28e-14b8a2e92904"
      },
      "source": [
        "plt.scatter(X_e, y_e)"
      ],
      "execution_count": 214,
      "outputs": [
        {
          "output_type": "execute_result",
          "data": {
            "text/plain": [
              "<matplotlib.collections.PathCollection at 0x7f4014e70150>"
            ]
          },
          "metadata": {
            "tags": []
          },
          "execution_count": 214
        },
        {
          "output_type": "display_data",
          "data": {
            "image/png": "[encoded data removed]",
            "text/plain": [
              "<Figure size 432x288 with 1 Axes>"
            ]
          },
          "metadata": {
            "tags": [],
            "needs_background": "light"
          }
        }
      ]
    },
    {
      "cell_type": "code",
      "metadata": {
        "colab": {
          "base_uri": "https://localhost:8080/"
        },
        "id": "aHw49u5eTvrP",
        "outputId": "cf45755d-de89-4822-8317-445d957a7d9d"
      },
      "source": [
        "X_e.shape"
      ],
      "execution_count": 222,
      "outputs": [
        {
          "output_type": "execute_result",
          "data": {
            "text/plain": [
              "TensorShape([84])"
            ]
          },
          "metadata": {
            "tags": []
          },
          "execution_count": 222
        }
      ]
    },
    {
      "cell_type": "code",
      "metadata": {
        "id": "vWvROza2RYrf"
      },
      "source": [
        "X_e_train, X_e_test, y_e_train, y_e_test = X_e[:64], X_e[64:], y_e[:64], y_e[64:]"
      ],
      "execution_count": 223,
      "outputs": []
    },
    {
      "cell_type": "code",
      "metadata": {
        "colab": {
          "base_uri": "https://localhost:8080/"
        },
        "id": "KTXDPkgNSu6u",
        "outputId": "03987d4b-8606-4b85-cd95-51fa6d9ceeea"
      },
      "source": [
        "X_e_train, X_e_test"
      ],
      "execution_count": 224,
      "outputs": [
        {
          "output_type": "execute_result",
          "data": {
            "text/plain": [
              "(<tf.Tensor: shape=(64,), dtype=int32, numpy=\n",
              " array([  1,  13,  25,  37,  49,  61,  73,  85,  97, 109, 121, 133, 145,\n",
              "        157, 169, 181, 193, 205, 217, 229, 241, 253, 265, 277, 289, 301,\n",
              "        313, 325, 337, 349, 361, 373, 385, 397, 409, 421, 433, 445, 457,\n",
              "        469, 481, 493, 505, 517, 529, 541, 553, 565, 577, 589, 601, 613,\n",
              "        625, 637, 649, 661, 673, 685, 697, 709, 721, 733, 745, 757],\n",
              "       dtype=int32)>, <tf.Tensor: shape=(20,), dtype=int32, numpy=\n",
              " array([769, 781, 793, 805, 817, 829, 841, 853, 865, 877, 889, 901, 913,\n",
              "        925, 937, 949, 961, 973, 985, 997], dtype=int32)>)"
            ]
          },
          "metadata": {
            "tags": []
          },
          "execution_count": 224
        }
      ]
    },
    {
      "cell_type": "code",
      "metadata": {
        "id": "RLJokw9vPTKh"
      },
      "source": [
        "# model \n",
        "tf.random.set_seed(42)\n",
        "\n",
        "e_model = tf.keras.Sequential(\n",
        "    [\n",
        "     tf.keras.layers.Dense(10),\n",
        "     tf.keras.layers.Dense(1)\n",
        "    ]\n",
        ")\n",
        "\n",
        "e_model.compile(\n",
        "    loss = tf.keras.losses.mae,\n",
        "    optimizer = tf.keras.optimizers.Adam(),\n",
        "    metrics = ['mae']\n",
        ")\n",
        "history = e_model.fit(X_e_train, y_e_train, epochs=200, verbose=0)"
      ],
      "execution_count": 236,
      "outputs": []
    },
    {
      "cell_type": "code",
      "metadata": {
        "colab": {
          "base_uri": "https://localhost:8080/",
          "height": 282
        },
        "id": "QIeax43dXtWL",
        "outputId": "b2597830-77a2-4713-d559-350ea5dea654"
      },
      "source": [
        "pd.DataFrame(history.history).plot()"
      ],
      "execution_count": 237,
      "outputs": [
        {
          "output_type": "execute_result",
          "data": {
            "text/plain": [
              "<matplotlib.axes._subplots.AxesSubplot at 0x7f40174b99d0>"
            ]
          },
          "metadata": {
            "tags": []
          },
          "execution_count": 237
        },
        {
          "output_type": "display_data",
          "data": {
            "image/png": "[encoded data removed]",
            "text/plain": [
              "<Figure size 432x288 with 1 Axes>"
            ]
          },
          "metadata": {
            "tags": [],
            "needs_background": "light"
          }
        }
      ]
    },
    {
      "cell_type": "code",
      "metadata": {
        "colab": {
          "base_uri": "https://localhost:8080/"
        },
        "id": "YRIe1UBzX88Z",
        "outputId": "aca37674-f089-4d89-f312-291ce37a5f95"
      },
      "source": [
        "e_model.evaluate(X_e_test, y_e_test)"
      ],
      "execution_count": 251,
      "outputs": [
        {
          "output_type": "stream",
          "text": [
            "1/1 [==============================] - 0s 94ms/step - loss: 3.0879 - mae: 3.0879\n"
          ],
          "name": "stdout"
        },
        {
          "output_type": "execute_result",
          "data": {
            "text/plain": [
              "[3.087939500808716, 3.087939500808716]"
            ]
          },
          "metadata": {
            "tags": []
          },
          "execution_count": 251
        }
      ]
    },
    {
      "cell_type": "code",
      "metadata": {
        "id": "TE62DpLJSGFo"
      },
      "source": [
        "e_model_2 = tf.keras.Sequential(\n",
        "    [\n",
        "     tf.keras.layers.Dense(100),\n",
        "     tf.keras.layers.Dense(1)\n",
        "    ]\n",
        ")\n",
        "\n",
        "e_model_2.compile(\n",
        "    loss = tf.keras.losses.mae,\n",
        "    optimizer = tf.keras.optimizers.Adam(learning_rate=0.01),\n",
        "    metrics = ['mae']\n",
        ")\n",
        "\n",
        "history = e_model_2.fit(X_e_train, y_e_train, epochs=100, verbose = 0)"
      ],
      "execution_count": 261,
      "outputs": []
    },
    {
      "cell_type": "code",
      "metadata": {
        "colab": {
          "base_uri": "https://localhost:8080/",
          "height": 282
        },
        "id": "U_P26pylXSAd",
        "outputId": "f4dee49c-8c83-49aa-edb3-f01de7b5e713"
      },
      "source": [
        "pd.DataFrame(history.history).plot()"
      ],
      "execution_count": 262,
      "outputs": [
        {
          "output_type": "execute_result",
          "data": {
            "text/plain": [
              "<matplotlib.axes._subplots.AxesSubplot at 0x7f3ffe426f10>"
            ]
          },
          "metadata": {
            "tags": []
          },
          "execution_count": 262
        },
        {
          "output_type": "display_data",
          "data": {
            "image/png": "[encoded data removed]",
            "text/plain": [
              "<Figure size 432x288 with 1 Axes>"
            ]
          },
          "metadata": {
            "tags": [],
            "needs_background": "light"
          }
        }
      ]
    },
    {
      "cell_type": "code",
      "metadata": {
        "colab": {
          "base_uri": "https://localhost:8080/"
        },
        "id": "ncSoCQKUXc4h",
        "outputId": "514351af-8ddd-4cb5-846a-b78c678376f9"
      },
      "source": [
        "e_model_2.evaluate(X_e_test, y_e_test)"
      ],
      "execution_count": 263,
      "outputs": [
        {
          "output_type": "stream",
          "text": [
            "1/1 [==============================] - 0s 91ms/step - loss: 1.9160 - mae: 1.9160\n"
          ],
          "name": "stdout"
        },
        {
          "output_type": "execute_result",
          "data": {
            "text/plain": [
              "[1.9160277843475342, 1.9160277843475342]"
            ]
          },
          "metadata": {
            "tags": []
          },
          "execution_count": 263
        }
      ]
    },
    {
      "cell_type": "markdown",
      "metadata": {
        "id": "_iLv1k0BYdxS"
      },
      "source": [
        "### Boston Dataset"
      ]
    },
    {
      "cell_type": "code",
      "metadata": {
        "id": "kBUhJXgKZPMT"
      },
      "source": [
        "(x_train, y_train), (x_test, y_test) = tf.keras.datasets.boston_housing.load_data(\n",
        "    path='boston_housing.npz', test_split=0.2, seed=113\n",
        ")"
      ],
      "execution_count": 267,
      "outputs": []
    },
    {
      "cell_type": "code",
      "metadata": {
        "colab": {
          "base_uri": "https://localhost:8080/"
        },
        "id": "xa5qafWYbC5y",
        "outputId": "8047ed6e-5872-4aa5-eee6-484bcbc82147"
      },
      "source": [
        "x_train.shape, y_train.shape, X_test.shape"
      ],
      "execution_count": 270,
      "outputs": [
        {
          "output_type": "execute_result",
          "data": {
            "text/plain": [
              "((404, 13), (404,), (268, 6))"
            ]
          },
          "metadata": {
            "tags": []
          },
          "execution_count": 270
        }
      ]
    },
    {
      "cell_type": "code",
      "metadata": {
        "colab": {
          "base_uri": "https://localhost:8080/"
        },
        "id": "JeUH3nRXcv5D",
        "outputId": "8cfe6fb8-0383-48b6-a2f9-cdc35b2b2eba"
      },
      "source": [
        "x_train.dtype"
      ],
      "execution_count": 273,
      "outputs": [
        {
          "output_type": "execute_result",
          "data": {
            "text/plain": [
              "dtype('float64')"
            ]
          },
          "metadata": {
            "tags": []
          },
          "execution_count": 273
        }
      ]
    },
    {
      "cell_type": "code",
      "metadata": {
        "id": "rVPyBR8Mbbco"
      },
      "source": [
        "boston_model = tf.keras.Sequential(\n",
        "    [\n",
        "     tf.keras.layers.Dense(10),\n",
        "     tf.keras.layers.Dense(1)\n",
        "    ]\n",
        ")\n",
        "\n",
        "boston_model.compile(\n",
        "    loss = tf.keras.losses.mse,\n",
        "    optimizer = tf.keras.optimizers.Adam(),\n",
        "    metrics = ['mae']\n",
        ")\n",
        "\n",
        "history = boston_model.fit(x_train, y_train, epochs=100)\n"
      ],
      "execution_count": null,
      "outputs": []
    },
    {
      "cell_type": "code",
      "metadata": {
        "colab": {
          "base_uri": "https://localhost:8080/",
          "height": 282
        },
        "id": "_BijTFW9dtdX",
        "outputId": "7918a98b-5331-4687-91fd-f03108a620b6"
      },
      "source": [
        "pd.DataFrame(history.history).plot()"
      ],
      "execution_count": 285,
      "outputs": [
        {
          "output_type": "execute_result",
          "data": {
            "text/plain": [
              "<matplotlib.axes._subplots.AxesSubplot at 0x7f3ffeca8c90>"
            ]
          },
          "metadata": {
            "tags": []
          },
          "execution_count": 285
        },
        {
          "output_type": "display_data",
          "data": {
            "image/png": "[encoded data removed]",
            "text/plain": [
              "<Figure size 432x288 with 1 Axes>"
            ]
          },
          "metadata": {
            "tags": [],
            "needs_background": "light"
          }
        }
      ]
    },
    {
      "cell_type": "code",
      "metadata": {
        "colab": {
          "base_uri": "https://localhost:8080/"
        },
        "id": "-oC9T7HweBtx",
        "outputId": "acab5a5d-c421-4fad-f779-1c02f5296a98"
      },
      "source": [
        "boston_model.evaluate(x_test, y_test)"
      ],
      "execution_count": 286,
      "outputs": [
        {
          "output_type": "stream",
          "text": [
            "4/4 [==============================] - 0s 2ms/step - loss: 46.4542 - mae: 4.9603\n"
          ],
          "name": "stdout"
        },
        {
          "output_type": "execute_result",
          "data": {
            "text/plain": [
              "[46.45423126220703, 4.960337162017822]"
            ]
          },
          "metadata": {
            "tags": []
          },
          "execution_count": 286
        }
      ]
    },
    {
      "cell_type": "code",
      "metadata": {
        "colab": {
          "base_uri": "https://localhost:8080/"
        },
        "id": "kBtc-Z35e3Te",
        "outputId": "c16d147e-1b35-45fd-a79a-983db546d8c3"
      },
      "source": [
        "boston_model.save(\"boston_model_saved\")"
      ],
      "execution_count": 289,
      "outputs": [
        {
          "output_type": "stream",
          "text": [
            "INFO:tensorflow:Assets written to: boston_model_saved/assets\n"
          ],
          "name": "stdout"
        }
      ]
    },
    {
      "cell_type": "code",
      "metadata": {
        "id": "fZ6CU7-7i3w_"
      },
      "source": [
        "boston_model.save(\"\")"
      ],
      "execution_count": null,
      "outputs": []
    }
  ]
}