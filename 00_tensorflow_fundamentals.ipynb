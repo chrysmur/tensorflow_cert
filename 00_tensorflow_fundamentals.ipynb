{
  "nbformat": 4,
  "nbformat_minor": 0,
  "metadata": {
    "colab": {
      "name": "00_tensorflow_fundamentals.ipynb",
      "provenance": [],
      "collapsed_sections": []
    },
    "kernelspec": {
      "name": "python3",
      "display_name": "Python 3"
    },
    "language_info": {
      "name": "python"
    },
    "accelerator": "GPU"
  },
  "cells": [
    {
      "cell_type": "markdown",
      "metadata": {
        "id": "Bm-x9GJz2zRk"
      },
      "source": [
        "## Fundamental of tensorflow "
      ]
    },
    {
      "cell_type": "markdown",
      "metadata": {
        "id": "kpwLsxrU4r87"
      },
      "source": [
        "### Introduction to Tensors"
      ]
    },
    {
      "cell_type": "code",
      "metadata": {
        "colab": {
          "base_uri": "https://localhost:8080/"
        },
        "id": "PBcrViRA5hcu",
        "outputId": "38d645f1-5ebe-448b-c98a-15be59dd9676"
      },
      "source": [
        "# import Tensorflow\n",
        "import tensorflow as tf\n",
        "print(tf.__version__)"
      ],
      "execution_count": 2,
      "outputs": [
        {
          "output_type": "stream",
          "text": [
            "2.5.0\n"
          ],
          "name": "stdout"
        }
      ]
    },
    {
      "cell_type": "code",
      "metadata": {
        "colab": {
          "base_uri": "https://localhost:8080/"
        },
        "id": "Uea6dp9357BK",
        "outputId": "8c4ee6b8-89ce-4dac-a4d1-4d2b511757b0"
      },
      "source": [
        "# Create tensors\n",
        "scalar = tf.constant(9)\n",
        "scalar"
      ],
      "execution_count": 3,
      "outputs": [
        {
          "output_type": "execute_result",
          "data": {
            "text/plain": [
              "<tf.Tensor: shape=(), dtype=int32, numpy=9>"
            ]
          },
          "metadata": {
            "tags": []
          },
          "execution_count": 3
        }
      ]
    },
    {
      "cell_type": "code",
      "metadata": {
        "colab": {
          "base_uri": "https://localhost:8080/"
        },
        "id": "AqqP2vd66EFZ",
        "outputId": "d4e2d843-a3e5-4040-8def-5e347e2430b0"
      },
      "source": [
        "# check the number of dimensions of a tensor\n",
        "scalar.ndim"
      ],
      "execution_count": 4,
      "outputs": [
        {
          "output_type": "execute_result",
          "data": {
            "text/plain": [
              "0"
            ]
          },
          "metadata": {
            "tags": []
          },
          "execution_count": 4
        }
      ]
    },
    {
      "cell_type": "code",
      "metadata": {
        "colab": {
          "base_uri": "https://localhost:8080/"
        },
        "id": "XzzATyIh6RoJ",
        "outputId": "1c875d38-4a34-4007-c937-76c8af7c5439"
      },
      "source": [
        "# create a vector\n",
        "vector = tf.constant([1,2,3])\n",
        "vector "
      ],
      "execution_count": 5,
      "outputs": [
        {
          "output_type": "execute_result",
          "data": {
            "text/plain": [
              "<tf.Tensor: shape=(3,), dtype=int32, numpy=array([1, 2, 3], dtype=int32)>"
            ]
          },
          "metadata": {
            "tags": []
          },
          "execution_count": 5
        }
      ]
    },
    {
      "cell_type": "code",
      "metadata": {
        "colab": {
          "base_uri": "https://localhost:8080/"
        },
        "id": "4JNOpGSa6aML",
        "outputId": "dd65660d-6732-4ede-e47e-33f919072434"
      },
      "source": [
        "# check dimensions of vector\n",
        "vector.ndim"
      ],
      "execution_count": 6,
      "outputs": [
        {
          "output_type": "execute_result",
          "data": {
            "text/plain": [
              "1"
            ]
          },
          "metadata": {
            "tags": []
          },
          "execution_count": 6
        }
      ]
    },
    {
      "cell_type": "code",
      "metadata": {
        "colab": {
          "base_uri": "https://localhost:8080/"
        },
        "id": "TckByXdD6hI4",
        "outputId": "6ab71bd5-b1a8-45fb-a9c0-9339dabeaa41"
      },
      "source": [
        "## create a matrix\n",
        "matrix = tf.constant([[18,2],\n",
        "                      [4,5]])\n",
        "matrix"
      ],
      "execution_count": 7,
      "outputs": [
        {
          "output_type": "execute_result",
          "data": {
            "text/plain": [
              "<tf.Tensor: shape=(2, 2), dtype=int32, numpy=\n",
              "array([[18,  2],\n",
              "       [ 4,  5]], dtype=int32)>"
            ]
          },
          "metadata": {
            "tags": []
          },
          "execution_count": 7
        }
      ]
    },
    {
      "cell_type": "code",
      "metadata": {
        "colab": {
          "base_uri": "https://localhost:8080/"
        },
        "id": "PMLQBv786v8-",
        "outputId": "1d0145c8-cfbf-4ea5-93f8-a71ccd930d17"
      },
      "source": [
        "# check the dimensions of matrix\n",
        "matrix.ndim"
      ],
      "execution_count": 8,
      "outputs": [
        {
          "output_type": "execute_result",
          "data": {
            "text/plain": [
              "2"
            ]
          },
          "metadata": {
            "tags": []
          },
          "execution_count": 8
        }
      ]
    },
    {
      "cell_type": "code",
      "metadata": {
        "colab": {
          "base_uri": "https://localhost:8080/"
        },
        "id": "KWiKmGUd61wy",
        "outputId": "b10ff347-9c92-4f9f-8c01-5abcbffbea56"
      },
      "source": [
        "matrix2 = tf.constant([[10., 7.],\n",
        "                       [6., 8.],\n",
        "                       [9., 3.]], dtype = tf.float16) # data type specification less precision than 32 so needs less memory to store\n",
        "matrix2"
      ],
      "execution_count": 9,
      "outputs": [
        {
          "output_type": "execute_result",
          "data": {
            "text/plain": [
              "<tf.Tensor: shape=(3, 2), dtype=float16, numpy=\n",
              "array([[10.,  7.],\n",
              "       [ 6.,  8.],\n",
              "       [ 9.,  3.]], dtype=float16)>"
            ]
          },
          "metadata": {
            "tags": []
          },
          "execution_count": 9
        }
      ]
    },
    {
      "cell_type": "code",
      "metadata": {
        "colab": {
          "base_uri": "https://localhost:8080/"
        },
        "id": "atTJZtqa7M1k",
        "outputId": "1c5fa5e5-5c5b-40b7-f8d4-5c5f21151c12"
      },
      "source": [
        "# Creating a tensor\n",
        "tensor = tf.constant([[[1,2,3],\n",
        "                      [4,5,6]],\n",
        "                     [[7,8,9],\n",
        "                      [10,11,12]],\n",
        "                     [[13,14,15],\n",
        "                      [16,17,18]]])\n",
        "tensor            "
      ],
      "execution_count": 10,
      "outputs": [
        {
          "output_type": "execute_result",
          "data": {
            "text/plain": [
              "<tf.Tensor: shape=(3, 2, 3), dtype=int32, numpy=\n",
              "array([[[ 1,  2,  3],\n",
              "        [ 4,  5,  6]],\n",
              "\n",
              "       [[ 7,  8,  9],\n",
              "        [10, 11, 12]],\n",
              "\n",
              "       [[13, 14, 15],\n",
              "        [16, 17, 18]]], dtype=int32)>"
            ]
          },
          "metadata": {
            "tags": []
          },
          "execution_count": 10
        }
      ]
    },
    {
      "cell_type": "code",
      "metadata": {
        "colab": {
          "base_uri": "https://localhost:8080/"
        },
        "id": "o2qkMDp99CbK",
        "outputId": "e9589cd2-c52d-48c5-b3d1-76006ac32c22"
      },
      "source": [
        "# dimensions\n",
        "tensor.ndim"
      ],
      "execution_count": 11,
      "outputs": [
        {
          "output_type": "execute_result",
          "data": {
            "text/plain": [
              "3"
            ]
          },
          "metadata": {
            "tags": []
          },
          "execution_count": 11
        }
      ]
    },
    {
      "cell_type": "markdown",
      "metadata": {
        "id": "9NAjkA_F9LrX"
      },
      "source": [
        "## Definitions\n",
        "- Scalar -   a single number\n",
        "- Vector -  a number with direction\n",
        "- matrix -  a 2 dimension array of numbers\n",
        "- a tensor -  an n-dimension array of numbers, vector is a 1-dim tensor"
      ]
    },
    {
      "cell_type": "markdown",
      "metadata": {
        "id": "-kpFwa7k9gN3"
      },
      "source": [
        "## Creating tensors with tf.Variable"
      ]
    },
    {
      "cell_type": "code",
      "metadata": {
        "colab": {
          "base_uri": "https://localhost:8080/"
        },
        "id": "tvIu3Hmr9riO",
        "outputId": "fb3f638a-3f17-4837-f32d-a64aa4664fc9"
      },
      "source": [
        "# These a rea changeable tensors\n",
        "changeable_tensor = tf.Variable([10,7])\n",
        "unchangeable_tensor = tf.constant([10,7] )\n",
        "changeable_tensor, unchangeable_tensor"
      ],
      "execution_count": 12,
      "outputs": [
        {
          "output_type": "execute_result",
          "data": {
            "text/plain": [
              "(<tf.Variable 'Variable:0' shape=(2,) dtype=int32, numpy=array([10,  7], dtype=int32)>,\n",
              " <tf.Tensor: shape=(2,), dtype=int32, numpy=array([10,  7], dtype=int32)>)"
            ]
          },
          "metadata": {
            "tags": []
          },
          "execution_count": 12
        }
      ]
    },
    {
      "cell_type": "code",
      "metadata": {
        "colab": {
          "base_uri": "https://localhost:8080/"
        },
        "id": "v8iOncKC-GbU",
        "outputId": "776785d8-1814-43b6-c13b-62e9f39dde54"
      },
      "source": [
        "# Modifying elements of the changeable tensor\n",
        "changeable_tensor[0].assign(9)"
      ],
      "execution_count": 13,
      "outputs": [
        {
          "output_type": "execute_result",
          "data": {
            "text/plain": [
              "<tf.Variable 'UnreadVariable' shape=(2,) dtype=int32, numpy=array([9, 7], dtype=int32)>"
            ]
          },
          "metadata": {
            "tags": []
          },
          "execution_count": 13
        }
      ]
    },
    {
      "cell_type": "markdown",
      "metadata": {
        "id": "Mr7MaR2p-ONw"
      },
      "source": [
        "## Creating Random Tensors\n",
        "- random tensors are often used to initialize weights. they contain random numbers and have arbitrary size"
      ]
    },
    {
      "cell_type": "code",
      "metadata": {
        "colab": {
          "base_uri": "https://localhost:8080/"
        },
        "id": "mFYqf5cx-r-l",
        "outputId": "9c9d15e0-c4a5-4114-f151-e4b95a2c9c7c"
      },
      "source": [
        "# Create two random tensors\n",
        "random_1 = tf.random.Generator.from_seed(42) # random_seed for reproducibility\n",
        "random_1 = random_1.normal(shape=(3,2))\n",
        "random_2 = tf.random.Generator.from_seed(42)\n",
        "random_2 = random_2.normal(shape=(3,2))\n",
        "\n",
        "#Are the two distributions equal\n",
        "random_1, random_2, random_2 == random_1"
      ],
      "execution_count": 14,
      "outputs": [
        {
          "output_type": "execute_result",
          "data": {
            "text/plain": [
              "(<tf.Tensor: shape=(3, 2), dtype=float32, numpy=\n",
              " array([[-0.7565803 , -0.06854702],\n",
              "        [ 0.07595026, -1.2573844 ],\n",
              "        [-0.23193765, -1.8107855 ]], dtype=float32)>,\n",
              " <tf.Tensor: shape=(3, 2), dtype=float32, numpy=\n",
              " array([[-0.7565803 , -0.06854702],\n",
              "        [ 0.07595026, -1.2573844 ],\n",
              "        [-0.23193765, -1.8107855 ]], dtype=float32)>,\n",
              " <tf.Tensor: shape=(3, 2), dtype=bool, numpy=\n",
              " array([[ True,  True],\n",
              "        [ True,  True],\n",
              "        [ True,  True]])>)"
            ]
          },
          "metadata": {
            "tags": []
          },
          "execution_count": 14
        }
      ]
    },
    {
      "cell_type": "markdown",
      "metadata": {
        "id": "uk2JxaoBCi72"
      },
      "source": [
        "### Shuffling the order of tensors\n",
        "- if we have data that is ordered, such that the NN would learn about one element before the other.\n"
      ]
    },
    {
      "cell_type": "code",
      "metadata": {
        "colab": {
          "base_uri": "https://localhost:8080/"
        },
        "id": "oK3_ZTfumWk4",
        "outputId": "79eb788e-9b82-40c7-da9b-c97662fc73c6"
      },
      "source": [
        "not_shuffled = tf.constant([[7,10],\n",
        "                            [6,5],\n",
        "                            [4,2]])\n",
        "not_shuffled.ndim"
      ],
      "execution_count": 15,
      "outputs": [
        {
          "output_type": "execute_result",
          "data": {
            "text/plain": [
              "2"
            ]
          },
          "metadata": {
            "tags": []
          },
          "execution_count": 15
        }
      ]
    },
    {
      "cell_type": "code",
      "metadata": {
        "colab": {
          "base_uri": "https://localhost:8080/"
        },
        "id": "eS1K-G_Em4Dl",
        "outputId": "c24a6c48-f0be-409e-dc51-13fb8e723f17"
      },
      "source": [
        "# shuffling  the not_shuffled\n",
        "##. shuffles the \"rows\"\n",
        "tf.random.shuffle(not_shuffled)"
      ],
      "execution_count": 16,
      "outputs": [
        {
          "output_type": "execute_result",
          "data": {
            "text/plain": [
              "<tf.Tensor: shape=(3, 2), dtype=int32, numpy=\n",
              "array([[ 6,  5],\n",
              "       [ 7, 10],\n",
              "       [ 4,  2]], dtype=int32)>"
            ]
          },
          "metadata": {
            "tags": []
          },
          "execution_count": 16
        }
      ]
    },
    {
      "cell_type": "code",
      "metadata": {
        "colab": {
          "base_uri": "https://localhost:8080/"
        },
        "id": "cw-2hTdnnH1x",
        "outputId": "4fc13257-b7b5-4cd8-cd6f-7634d90af853"
      },
      "source": [
        "# using operational level seed >> we get random shuffles\n",
        "tf.random.shuffle(not_shuffled, seed=42)"
      ],
      "execution_count": 17,
      "outputs": [
        {
          "output_type": "execute_result",
          "data": {
            "text/plain": [
              "<tf.Tensor: shape=(3, 2), dtype=int32, numpy=\n",
              "array([[ 4,  2],\n",
              "       [ 6,  5],\n",
              "       [ 7, 10]], dtype=int32)>"
            ]
          },
          "metadata": {
            "tags": []
          },
          "execution_count": 17
        }
      ]
    },
    {
      "cell_type": "code",
      "metadata": {
        "colab": {
          "base_uri": "https://localhost:8080/"
        },
        "id": "35DWBnE2nfx7",
        "outputId": "216b2ee6-8c8a-453b-9a38-5898d91a4c67"
      },
      "source": [
        "## using global level set_seed >> we get same order\n",
        "tf.random.set_seed(42)\n",
        "tf.random.shuffle(not_shuffled)"
      ],
      "execution_count": 18,
      "outputs": [
        {
          "output_type": "execute_result",
          "data": {
            "text/plain": [
              "<tf.Tensor: shape=(3, 2), dtype=int32, numpy=\n",
              "array([[ 6,  5],\n",
              "       [ 4,  2],\n",
              "       [ 7, 10]], dtype=int32)>"
            ]
          },
          "metadata": {
            "tags": []
          },
          "execution_count": 18
        }
      ]
    },
    {
      "cell_type": "markdown",
      "metadata": {
        "id": "uPqfqxvdnub1"
      },
      "source": [
        "To make the shuffled data to reproduce the same order, use both global and operation level seeds\n",
        "4. If both the global and the operation seed are set: Both seeds are used in conjunction to determine the random sequence.\n"
      ]
    },
    {
      "cell_type": "markdown",
      "metadata": {
        "id": "jpbkuW5XpXQL"
      },
      "source": [
        "### Tensor of all ones"
      ]
    },
    {
      "cell_type": "code",
      "metadata": {
        "colab": {
          "base_uri": "https://localhost:8080/"
        },
        "id": "U8HIzOHQpcn2",
        "outputId": "a2c734c0-8a61-4359-e6c8-70f9a44d2727"
      },
      "source": [
        "tf.ones([5,4])"
      ],
      "execution_count": 19,
      "outputs": [
        {
          "output_type": "execute_result",
          "data": {
            "text/plain": [
              "<tf.Tensor: shape=(5, 4), dtype=float32, numpy=\n",
              "array([[1., 1., 1., 1.],\n",
              "       [1., 1., 1., 1.],\n",
              "       [1., 1., 1., 1.],\n",
              "       [1., 1., 1., 1.],\n",
              "       [1., 1., 1., 1.]], dtype=float32)>"
            ]
          },
          "metadata": {
            "tags": []
          },
          "execution_count": 19
        }
      ]
    },
    {
      "cell_type": "markdown",
      "metadata": {
        "id": "7R4WtI-HphWz"
      },
      "source": [
        "### Tensor of all zeroes\n"
      ]
    },
    {
      "cell_type": "code",
      "metadata": {
        "colab": {
          "base_uri": "https://localhost:8080/"
        },
        "id": "3SB2-cZepoqi",
        "outputId": "78d356d8-a16c-47d3-94a1-e697f0b2665a"
      },
      "source": [
        "tf.zeros([5,4])"
      ],
      "execution_count": 20,
      "outputs": [
        {
          "output_type": "execute_result",
          "data": {
            "text/plain": [
              "<tf.Tensor: shape=(5, 4), dtype=float32, numpy=\n",
              "array([[0., 0., 0., 0.],\n",
              "       [0., 0., 0., 0.],\n",
              "       [0., 0., 0., 0.],\n",
              "       [0., 0., 0., 0.],\n",
              "       [0., 0., 0., 0.]], dtype=float32)>"
            ]
          },
          "metadata": {
            "tags": []
          },
          "execution_count": 20
        }
      ]
    },
    {
      "cell_type": "code",
      "metadata": {
        "colab": {
          "base_uri": "https://localhost:8080/"
        },
        "id": "zbjKlX0MpsNW",
        "outputId": "7e241e46-35af-43f7-c792-69999ffd9c72"
      },
      "source": [
        "tf.ones(shape=[5,4])"
      ],
      "execution_count": 21,
      "outputs": [
        {
          "output_type": "execute_result",
          "data": {
            "text/plain": [
              "<tf.Tensor: shape=(5, 4), dtype=float32, numpy=\n",
              "array([[1., 1., 1., 1.],\n",
              "       [1., 1., 1., 1.],\n",
              "       [1., 1., 1., 1.],\n",
              "       [1., 1., 1., 1.],\n",
              "       [1., 1., 1., 1.]], dtype=float32)>"
            ]
          },
          "metadata": {
            "tags": []
          },
          "execution_count": 21
        }
      ]
    },
    {
      "cell_type": "markdown",
      "metadata": {
        "id": "vgEAtXi4p08s"
      },
      "source": [
        "### Turning numpy arrays to Tf tensors\n",
        "- Main difference is that tensors can be run on GPU, which is much faster"
      ]
    },
    {
      "cell_type": "code",
      "metadata": {
        "colab": {
          "base_uri": "https://localhost:8080/"
        },
        "id": "-dw46rw9p7WN",
        "outputId": "4d87542b-e72e-404b-aa38-82701f5db193"
      },
      "source": [
        "import numpy as np\n",
        "numpy_A = np.arange(1, 25, dtype=np.int32)\n",
        "numpy_A"
      ],
      "execution_count": 22,
      "outputs": [
        {
          "output_type": "execute_result",
          "data": {
            "text/plain": [
              "array([ 1,  2,  3,  4,  5,  6,  7,  8,  9, 10, 11, 12, 13, 14, 15, 16, 17,\n",
              "       18, 19, 20, 21, 22, 23, 24], dtype=int32)"
            ]
          },
          "metadata": {
            "tags": []
          },
          "execution_count": 22
        }
      ]
    },
    {
      "cell_type": "code",
      "metadata": {
        "colab": {
          "base_uri": "https://localhost:8080/"
        },
        "id": "IeOU3VKnqDys",
        "outputId": "d2df5d70-231f-41aa-e333-4f8881f598bd"
      },
      "source": [
        "A = tf.constant(numpy_A)\n",
        "A"
      ],
      "execution_count": 23,
      "outputs": [
        {
          "output_type": "execute_result",
          "data": {
            "text/plain": [
              "<tf.Tensor: shape=(24,), dtype=int32, numpy=\n",
              "array([ 1,  2,  3,  4,  5,  6,  7,  8,  9, 10, 11, 12, 13, 14, 15, 16, 17,\n",
              "       18, 19, 20, 21, 22, 23, 24], dtype=int32)>"
            ]
          },
          "metadata": {
            "tags": []
          },
          "execution_count": 23
        }
      ]
    },
    {
      "cell_type": "code",
      "metadata": {
        "colab": {
          "base_uri": "https://localhost:8080/"
        },
        "id": "ZUuFJrQcqTY9",
        "outputId": "e6701add-04cd-4d7e-a824-c4ec551ef3dc"
      },
      "source": [
        "## changing the shape of the array\n",
        "B = tf.constant(numpy_A, shape=(2,3,4))\n",
        "B"
      ],
      "execution_count": 24,
      "outputs": [
        {
          "output_type": "execute_result",
          "data": {
            "text/plain": [
              "<tf.Tensor: shape=(2, 3, 4), dtype=int32, numpy=\n",
              "array([[[ 1,  2,  3,  4],\n",
              "        [ 5,  6,  7,  8],\n",
              "        [ 9, 10, 11, 12]],\n",
              "\n",
              "       [[13, 14, 15, 16],\n",
              "        [17, 18, 19, 20],\n",
              "        [21, 22, 23, 24]]], dtype=int32)>"
            ]
          },
          "metadata": {
            "tags": []
          },
          "execution_count": 24
        }
      ]
    },
    {
      "cell_type": "markdown",
      "metadata": {
        "id": "LtHbNgvuqdGC"
      },
      "source": [
        "### Getting information from Tensors\n",
        "- shape - length(no. of elements) of each of the dimensions of a tensor\n",
        "- Rank - The number of tensor dimnensions, scalar-0, vector-1,matrix-2, tensor-n\n",
        "- Axis or dimension - a particular dimension of a tensor\n",
        "- Size- total number of elements in a tensor"
      ]
    },
    {
      "cell_type": "code",
      "metadata": {
        "colab": {
          "base_uri": "https://localhost:8080/"
        },
        "id": "dtcBEG5w0fUM",
        "outputId": "95df5866-856a-4a26-947c-e54990d2eb82"
      },
      "source": [
        "rank_4_tensor = tf.zeros(shape=[2,3,4,5])\n",
        "rank_4_tensor"
      ],
      "execution_count": 25,
      "outputs": [
        {
          "output_type": "execute_result",
          "data": {
            "text/plain": [
              "<tf.Tensor: shape=(2, 3, 4, 5), dtype=float32, numpy=\n",
              "array([[[[0., 0., 0., 0., 0.],\n",
              "         [0., 0., 0., 0., 0.],\n",
              "         [0., 0., 0., 0., 0.],\n",
              "         [0., 0., 0., 0., 0.]],\n",
              "\n",
              "        [[0., 0., 0., 0., 0.],\n",
              "         [0., 0., 0., 0., 0.],\n",
              "         [0., 0., 0., 0., 0.],\n",
              "         [0., 0., 0., 0., 0.]],\n",
              "\n",
              "        [[0., 0., 0., 0., 0.],\n",
              "         [0., 0., 0., 0., 0.],\n",
              "         [0., 0., 0., 0., 0.],\n",
              "         [0., 0., 0., 0., 0.]]],\n",
              "\n",
              "\n",
              "       [[[0., 0., 0., 0., 0.],\n",
              "         [0., 0., 0., 0., 0.],\n",
              "         [0., 0., 0., 0., 0.],\n",
              "         [0., 0., 0., 0., 0.]],\n",
              "\n",
              "        [[0., 0., 0., 0., 0.],\n",
              "         [0., 0., 0., 0., 0.],\n",
              "         [0., 0., 0., 0., 0.],\n",
              "         [0., 0., 0., 0., 0.]],\n",
              "\n",
              "        [[0., 0., 0., 0., 0.],\n",
              "         [0., 0., 0., 0., 0.],\n",
              "         [0., 0., 0., 0., 0.],\n",
              "         [0., 0., 0., 0., 0.]]]], dtype=float32)>"
            ]
          },
          "metadata": {
            "tags": []
          },
          "execution_count": 25
        }
      ]
    },
    {
      "cell_type": "markdown",
      "metadata": {
        "id": "JqOOX01_1tBT"
      },
      "source": [
        "- The innermost dimension is 5(actual value counts),\n",
        "- followed by 4 (number of arrays in an array)\n",
        "- then 3(number of `array of arrays` in an a array) \n",
        "- then 2 (number of array of `arrays of arrays` in an a array)\n"
      ]
    },
    {
      "cell_type": "code",
      "metadata": {
        "colab": {
          "base_uri": "https://localhost:8080/"
        },
        "id": "iZmKExsA3AWP",
        "outputId": "f2d6ab42-7c27-42ab-f75f-8546451f4478"
      },
      "source": [
        "\"Shape:\", rank_4_tensor.shape, \"Dimensions:\", rank_4_tensor.ndim, \"Size:\", tf.size(rank_4_tensor)"
      ],
      "execution_count": 26,
      "outputs": [
        {
          "output_type": "execute_result",
          "data": {
            "text/plain": [
              "('Shape:',\n",
              " TensorShape([2, 3, 4, 5]),\n",
              " 'Dimensions:',\n",
              " 4,\n",
              " 'Size:',\n",
              " <tf.Tensor: shape=(), dtype=int32, numpy=120>)"
            ]
          },
          "metadata": {
            "tags": []
          },
          "execution_count": 26
        }
      ]
    },
    {
      "cell_type": "code",
      "metadata": {
        "colab": {
          "base_uri": "https://localhost:8080/"
        },
        "id": "RSyvuuOO3Cxb",
        "outputId": "acb399ba-bb1d-4493-be9c-7032ff52663f"
      },
      "source": [
        "# Get various attributes of a tensor\n",
        "print(\"Datattype of all elements:\", rank_4_tensor.dtype)\n",
        "print(\"Number of dimensions(Rank):\", rank_4_tensor.ndim)\n",
        "print(\"Shape of tensor:\", rank_4_tensor.shape)\n",
        "print(\"Elements along 0 axis:\", rank_4_tensor.shape[0])\n",
        "print(\"Elements along the last axis:\", rank_4_tensor.shape[-1])\n",
        "print(\"Total number of elements in our tensor:\", tf.size(rank_4_tensor))\n",
        "print(\"Total number of elements in our tensor as single value:\", tf.size(rank_4_tensor).numpy())"
      ],
      "execution_count": 27,
      "outputs": [
        {
          "output_type": "stream",
          "text": [
            "Datattype of all elements: <dtype: 'float32'>\n",
            "Number of dimensions(Rank): 4\n",
            "Shape of tensor: (2, 3, 4, 5)\n",
            "Elements along 0 axis: 2\n",
            "Elements along the last axis: 5\n",
            "Total number of elements in our tensor: tf.Tensor(120, shape=(), dtype=int32)\n",
            "Total number of elements in our tensor as single value: 120\n"
          ],
          "name": "stdout"
        }
      ]
    },
    {
      "cell_type": "code",
      "metadata": {
        "colab": {
          "base_uri": "https://localhost:8080/"
        },
        "id": "R7BjL-Wo33Yu",
        "outputId": "ba2a32ca-5882-432c-a539-5b1d9d2c55a5"
      },
      "source": [
        "rank_4_tensor"
      ],
      "execution_count": 28,
      "outputs": [
        {
          "output_type": "execute_result",
          "data": {
            "text/plain": [
              "<tf.Tensor: shape=(2, 3, 4, 5), dtype=float32, numpy=\n",
              "array([[[[0., 0., 0., 0., 0.],\n",
              "         [0., 0., 0., 0., 0.],\n",
              "         [0., 0., 0., 0., 0.],\n",
              "         [0., 0., 0., 0., 0.]],\n",
              "\n",
              "        [[0., 0., 0., 0., 0.],\n",
              "         [0., 0., 0., 0., 0.],\n",
              "         [0., 0., 0., 0., 0.],\n",
              "         [0., 0., 0., 0., 0.]],\n",
              "\n",
              "        [[0., 0., 0., 0., 0.],\n",
              "         [0., 0., 0., 0., 0.],\n",
              "         [0., 0., 0., 0., 0.],\n",
              "         [0., 0., 0., 0., 0.]]],\n",
              "\n",
              "\n",
              "       [[[0., 0., 0., 0., 0.],\n",
              "         [0., 0., 0., 0., 0.],\n",
              "         [0., 0., 0., 0., 0.],\n",
              "         [0., 0., 0., 0., 0.]],\n",
              "\n",
              "        [[0., 0., 0., 0., 0.],\n",
              "         [0., 0., 0., 0., 0.],\n",
              "         [0., 0., 0., 0., 0.],\n",
              "         [0., 0., 0., 0., 0.]],\n",
              "\n",
              "        [[0., 0., 0., 0., 0.],\n",
              "         [0., 0., 0., 0., 0.],\n",
              "         [0., 0., 0., 0., 0.],\n",
              "         [0., 0., 0., 0., 0.]]]], dtype=float32)>"
            ]
          },
          "metadata": {
            "tags": []
          },
          "execution_count": 28
        }
      ]
    },
    {
      "cell_type": "markdown",
      "metadata": {
        "id": "KC7GjiFjW7MH"
      },
      "source": [
        "### indexing tensors"
      ]
    },
    {
      "cell_type": "code",
      "metadata": {
        "colab": {
          "base_uri": "https://localhost:8080/"
        },
        "id": "9FkwLAJijoST",
        "outputId": "2215f172-01a3-4878-aec5-9bb5de1059cf"
      },
      "source": [
        "# get first two elements\n",
        "rank_4_tensor[:2, :2, :2, :2]"
      ],
      "execution_count": 29,
      "outputs": [
        {
          "output_type": "execute_result",
          "data": {
            "text/plain": [
              "<tf.Tensor: shape=(2, 2, 2, 2), dtype=float32, numpy=\n",
              "array([[[[0., 0.],\n",
              "         [0., 0.]],\n",
              "\n",
              "        [[0., 0.],\n",
              "         [0., 0.]]],\n",
              "\n",
              "\n",
              "       [[[0., 0.],\n",
              "         [0., 0.]],\n",
              "\n",
              "        [[0., 0.],\n",
              "         [0., 0.]]]], dtype=float32)>"
            ]
          },
          "metadata": {
            "tags": []
          },
          "execution_count": 29
        }
      ]
    },
    {
      "cell_type": "code",
      "metadata": {
        "colab": {
          "base_uri": "https://localhost:8080/"
        },
        "id": "G2GQxdDSjvCR",
        "outputId": "7f95939a-3ac8-4b71-be82-80c09971d5ee"
      },
      "source": [
        "#Get first element from all dimensions except for the last one\n",
        "rank_4_tensor[:1, :1, :1]\n",
        "# same as. rank_4_tensor[:1, :1, :1, :]"
      ],
      "execution_count": 30,
      "outputs": [
        {
          "output_type": "execute_result",
          "data": {
            "text/plain": [
              "<tf.Tensor: shape=(1, 1, 1, 5), dtype=float32, numpy=array([[[[0., 0., 0., 0., 0.]]]], dtype=float32)>"
            ]
          },
          "metadata": {
            "tags": []
          },
          "execution_count": 30
        }
      ]
    },
    {
      "cell_type": "code",
      "metadata": {
        "colab": {
          "base_uri": "https://localhost:8080/"
        },
        "id": "SfrG00LukYTX",
        "outputId": "5bb743ab-898b-4fe1-f8fc-ae07ac203660"
      },
      "source": [
        "# exclude the second last\n",
        "rank_4_tensor[:1, :1, :, :1]"
      ],
      "execution_count": 31,
      "outputs": [
        {
          "output_type": "execute_result",
          "data": {
            "text/plain": [
              "<tf.Tensor: shape=(1, 1, 4, 1), dtype=float32, numpy=\n",
              "array([[[[0.],\n",
              "         [0.],\n",
              "         [0.],\n",
              "         [0.]]]], dtype=float32)>"
            ]
          },
          "metadata": {
            "tags": []
          },
          "execution_count": 31
        }
      ]
    },
    {
      "cell_type": "code",
      "metadata": {
        "colab": {
          "base_uri": "https://localhost:8080/"
        },
        "id": "b7U8ePE7k-9f",
        "outputId": "6ae0dfca-5070-423b-b06e-dc87672b21e0"
      },
      "source": [
        "rank_2_tensor = tf.constant([\n",
        "                             [2,3],\n",
        "                             [4,5]])\n",
        "rank_2_tensor.ndim"
      ],
      "execution_count": 32,
      "outputs": [
        {
          "output_type": "execute_result",
          "data": {
            "text/plain": [
              "2"
            ]
          },
          "metadata": {
            "tags": []
          },
          "execution_count": 32
        }
      ]
    },
    {
      "cell_type": "code",
      "metadata": {
        "colab": {
          "base_uri": "https://localhost:8080/"
        },
        "id": "W9ju9-GqliND",
        "outputId": "2ff8ccae-99ee-43c2-d4b4-00166e93f9b7"
      },
      "source": [
        "# Get the last item of each of tow of our rank 2 tensor\n",
        "# (Get all rows but last column)\n",
        "rank_2_tensor[:, -1]"
      ],
      "execution_count": 33,
      "outputs": [
        {
          "output_type": "execute_result",
          "data": {
            "text/plain": [
              "<tf.Tensor: shape=(2,), dtype=int32, numpy=array([3, 5], dtype=int32)>"
            ]
          },
          "metadata": {
            "tags": []
          },
          "execution_count": 33
        }
      ]
    },
    {
      "cell_type": "code",
      "metadata": {
        "colab": {
          "base_uri": "https://localhost:8080/"
        },
        "id": "UouHer9Jl4zZ",
        "outputId": "9717f853-1742-46f7-c216-d1e5054835e5"
      },
      "source": [
        "# Add in extra dimension to rank 2 tensor\n",
        "rank_3_tensor =  rank_2_tensor[..., tf.newaxis]\n",
        "# ... imply all axis before last same as rank_2_tensor[:,:,tf.newaxis]\n",
        "rank_3_tensor.ndim"
      ],
      "execution_count": 34,
      "outputs": [
        {
          "output_type": "execute_result",
          "data": {
            "text/plain": [
              "3"
            ]
          },
          "metadata": {
            "tags": []
          },
          "execution_count": 34
        }
      ]
    },
    {
      "cell_type": "code",
      "metadata": {
        "colab": {
          "base_uri": "https://localhost:8080/"
        },
        "id": "r5526FkcmieK",
        "outputId": "a4b4590c-6256-4a4e-8422-d2783a31901a"
      },
      "source": [
        "# Alternative way to tf.newaxis\n",
        "another_rank_3_tensor_0 = tf.expand_dims(rank_2_tensor, axis=0)\n",
        "# the new dim is at the beginning\n",
        "another_rank_3_tensor_0"
      ],
      "execution_count": 35,
      "outputs": [
        {
          "output_type": "execute_result",
          "data": {
            "text/plain": [
              "<tf.Tensor: shape=(1, 2, 2), dtype=int32, numpy=\n",
              "array([[[2, 3],\n",
              "        [4, 5]]], dtype=int32)>"
            ]
          },
          "metadata": {
            "tags": []
          },
          "execution_count": 35
        }
      ]
    },
    {
      "cell_type": "code",
      "metadata": {
        "colab": {
          "base_uri": "https://localhost:8080/"
        },
        "id": "_dOTnMEhokk0",
        "outputId": "c83f2bcd-1501-49aa-8209-e913e1bc89be"
      },
      "source": [
        "another_rank_3_tensor_1 = tf.expand_dims(rank_2_tensor, axis=1)\n",
        "# now the new dim is the second axis\n",
        "another_rank_3_tensor_1"
      ],
      "execution_count": 36,
      "outputs": [
        {
          "output_type": "execute_result",
          "data": {
            "text/plain": [
              "<tf.Tensor: shape=(2, 1, 2), dtype=int32, numpy=\n",
              "array([[[2, 3]],\n",
              "\n",
              "       [[4, 5]]], dtype=int32)>"
            ]
          },
          "metadata": {
            "tags": []
          },
          "execution_count": 36
        }
      ]
    },
    {
      "cell_type": "code",
      "metadata": {
        "colab": {
          "base_uri": "https://localhost:8080/"
        },
        "id": "DaZ3Hbhho6cA",
        "outputId": "3f279e67-11e2-45c8-b1ad-b352cf262751"
      },
      "source": [
        "another_rank_3_tensor_2 = tf.expand_dims(rank_2_tensor, axis=-1)\n",
        "# now the new dim is the second axis\n",
        "another_rank_3_tensor_2"
      ],
      "execution_count": 37,
      "outputs": [
        {
          "output_type": "execute_result",
          "data": {
            "text/plain": [
              "<tf.Tensor: shape=(2, 2, 1), dtype=int32, numpy=\n",
              "array([[[2],\n",
              "        [3]],\n",
              "\n",
              "       [[4],\n",
              "        [5]]], dtype=int32)>"
            ]
          },
          "metadata": {
            "tags": []
          },
          "execution_count": 37
        }
      ]
    },
    {
      "cell_type": "markdown",
      "metadata": {
        "id": "It5X5Y91pi-N"
      },
      "source": [
        "### Arithmetic operations on Tensors\n",
        "-- Element Wise"
      ]
    },
    {
      "cell_type": "code",
      "metadata": {
        "colab": {
          "base_uri": "https://localhost:8080/"
        },
        "id": "4zMXa9mtzhDl",
        "outputId": "3504112f-3f83-499e-a347-e441d012c45f"
      },
      "source": [
        "# add values to tensors\n",
        "tensor = tf.constant([[10,7], [3,4]])\n",
        "tensor + 10"
      ],
      "execution_count": 38,
      "outputs": [
        {
          "output_type": "execute_result",
          "data": {
            "text/plain": [
              "<tf.Tensor: shape=(2, 2), dtype=int32, numpy=\n",
              "array([[20, 17],\n",
              "       [13, 14]], dtype=int32)>"
            ]
          },
          "metadata": {
            "tags": []
          },
          "execution_count": 38
        }
      ]
    },
    {
      "cell_type": "code",
      "metadata": {
        "colab": {
          "base_uri": "https://localhost:8080/"
        },
        "id": "htxOz_YzztTs",
        "outputId": "fce44b12-6c43-4141-a2ab-3dc7f944ee4f"
      },
      "source": [
        "# mult\n",
        "tensor * 12"
      ],
      "execution_count": 39,
      "outputs": [
        {
          "output_type": "execute_result",
          "data": {
            "text/plain": [
              "<tf.Tensor: shape=(2, 2), dtype=int32, numpy=\n",
              "array([[120,  84],\n",
              "       [ 36,  48]], dtype=int32)>"
            ]
          },
          "metadata": {
            "tags": []
          },
          "execution_count": 39
        }
      ]
    },
    {
      "cell_type": "code",
      "metadata": {
        "colab": {
          "base_uri": "https://localhost:8080/"
        },
        "id": "y5LKX6quz0UK",
        "outputId": "2c7837ca-38c1-4dcc-9b7f-79a1401540a1"
      },
      "source": [
        "# sub\n",
        "tensor - 10"
      ],
      "execution_count": 40,
      "outputs": [
        {
          "output_type": "execute_result",
          "data": {
            "text/plain": [
              "<tf.Tensor: shape=(2, 2), dtype=int32, numpy=\n",
              "array([[ 0, -3],\n",
              "       [-7, -6]], dtype=int32)>"
            ]
          },
          "metadata": {
            "tags": []
          },
          "execution_count": 40
        }
      ]
    },
    {
      "cell_type": "code",
      "metadata": {
        "colab": {
          "base_uri": "https://localhost:8080/"
        },
        "id": "CZPAvmyuz3TV",
        "outputId": "77a1a762-d609-44fd-9974-84b7efc65708"
      },
      "source": [
        "# Division\n",
        "tensor / 2"
      ],
      "execution_count": 41,
      "outputs": [
        {
          "output_type": "execute_result",
          "data": {
            "text/plain": [
              "<tf.Tensor: shape=(2, 2), dtype=float64, numpy=\n",
              "array([[5. , 3.5],\n",
              "       [1.5, 2. ]])>"
            ]
          },
          "metadata": {
            "tags": []
          },
          "execution_count": 41
        }
      ]
    },
    {
      "cell_type": "markdown",
      "metadata": {
        "id": "gAXkP9eN0G-T"
      },
      "source": [
        "- To optimize computation on GPU, use tensorflow operations"
      ]
    },
    {
      "cell_type": "code",
      "metadata": {
        "colab": {
          "base_uri": "https://localhost:8080/"
        },
        "id": "9WTi48MS1wVK",
        "outputId": "3d1ab3f3-fcd1-4a82-e7b0-26861c8c5f8f"
      },
      "source": [
        "tf.multiply(tensor, 20)"
      ],
      "execution_count": 42,
      "outputs": [
        {
          "output_type": "execute_result",
          "data": {
            "text/plain": [
              "<tf.Tensor: shape=(2, 2), dtype=int32, numpy=\n",
              "array([[200, 140],\n",
              "       [ 60,  80]], dtype=int32)>"
            ]
          },
          "metadata": {
            "tags": []
          },
          "execution_count": 42
        }
      ]
    },
    {
      "cell_type": "code",
      "metadata": {
        "colab": {
          "base_uri": "https://localhost:8080/"
        },
        "id": "fEHSDYiX1yrl",
        "outputId": "b5bb70b3-bbe0-48f8-9fa3-69d4219609a0"
      },
      "source": [
        "tf.math.add(tensor, 50)"
      ],
      "execution_count": 43,
      "outputs": [
        {
          "output_type": "execute_result",
          "data": {
            "text/plain": [
              "<tf.Tensor: shape=(2, 2), dtype=int32, numpy=\n",
              "array([[60, 57],\n",
              "       [53, 54]], dtype=int32)>"
            ]
          },
          "metadata": {
            "tags": []
          },
          "execution_count": 43
        }
      ]
    },
    {
      "cell_type": "code",
      "metadata": {
        "colab": {
          "base_uri": "https://localhost:8080/"
        },
        "id": "5aVCJyXh17t5",
        "outputId": "b545147a-8309-4327-e1e1-a012a4d39c9a"
      },
      "source": [
        "tf.math.subtract(tensor, 5)"
      ],
      "execution_count": 44,
      "outputs": [
        {
          "output_type": "execute_result",
          "data": {
            "text/plain": [
              "<tf.Tensor: shape=(2, 2), dtype=int32, numpy=\n",
              "array([[ 5,  2],\n",
              "       [-2, -1]], dtype=int32)>"
            ]
          },
          "metadata": {
            "tags": []
          },
          "execution_count": 44
        }
      ]
    },
    {
      "cell_type": "markdown",
      "metadata": {
        "id": "gK5I01e_2A-p"
      },
      "source": [
        " ### Matrix multiplication"
      ]
    },
    {
      "cell_type": "code",
      "metadata": {
        "colab": {
          "base_uri": "https://localhost:8080/"
        },
        "id": "2yofpCuS2Vq4",
        "outputId": "d4061205-5e63-4f2a-deb1-93447fb0a666"
      },
      "source": [
        "print(tensor)"
      ],
      "execution_count": 45,
      "outputs": [
        {
          "output_type": "stream",
          "text": [
            "tf.Tensor(\n",
            "[[10  7]\n",
            " [ 3  4]], shape=(2, 2), dtype=int32)\n"
          ],
          "name": "stdout"
        }
      ]
    },
    {
      "cell_type": "code",
      "metadata": {
        "colab": {
          "base_uri": "https://localhost:8080/"
        },
        "id": "3mlerIu78mU-",
        "outputId": "4a7ae3a1-e53e-4da7-cb15-e46645ce27aa"
      },
      "source": [
        "tf.matmul(tensor, tensor)"
      ],
      "execution_count": 46,
      "outputs": [
        {
          "output_type": "execute_result",
          "data": {
            "text/plain": [
              "<tf.Tensor: shape=(2, 2), dtype=int32, numpy=\n",
              "array([[121,  98],\n",
              "       [ 42,  37]], dtype=int32)>"
            ]
          },
          "metadata": {
            "tags": []
          },
          "execution_count": 46
        }
      ]
    },
    {
      "cell_type": "code",
      "metadata": {
        "colab": {
          "base_uri": "https://localhost:8080/"
        },
        "id": "ACrrm0bR8o2K",
        "outputId": "351bb870-c3f4-4837-955f-de9199ed86f7"
      },
      "source": [
        "## Multiply tensors with same Shape\n",
        "X = tf.constant([[1,2], [2,3], [3,4]]) #3x2\n",
        "Y = tf.constant([[4,5], [5,6], [6,7]]) # 3x2\n",
        "try:\n",
        "  tf.matmul(X,Y)\n",
        "except Exception as e:\n",
        "  print(\"Error in Multiplication:\", e)"
      ],
      "execution_count": 47,
      "outputs": [
        {
          "output_type": "stream",
          "text": [
            "Error in Multiplication: In[0] mismatch In[1] shape: 2 vs. 3: [3,2] [3,2] 0 0 [Op:MatMul]\n"
          ],
          "name": "stdout"
        }
      ]
    },
    {
      "cell_type": "markdown",
      "metadata": {
        "id": "zV4Mx4OgEURv"
      },
      "source": [
        "-  cannot multiply matrix with same shape\n",
        "- The inner dimensions o the two matrices must match\n",
        "- That is 3x2 can be multiplied by 2x3 because 2, 2 match"
      ]
    },
    {
      "cell_type": "markdown",
      "metadata": {
        "id": "ab2mKH6OE9tA"
      },
      "source": [
        "- Reshaping"
      ]
    },
    {
      "cell_type": "code",
      "metadata": {
        "colab": {
          "base_uri": "https://localhost:8080/"
        },
        "id": "3GPeS6CnGcBO",
        "outputId": "f8c9f787-0825-48ae-fc29-82d400986245"
      },
      "source": [
        "Y_reshaped = tf.reshape(Y, shape=[2,3])\n",
        "Y_reshaped"
      ],
      "execution_count": 48,
      "outputs": [
        {
          "output_type": "execute_result",
          "data": {
            "text/plain": [
              "<tf.Tensor: shape=(2, 3), dtype=int32, numpy=\n",
              "array([[4, 5, 5],\n",
              "       [6, 6, 7]], dtype=int32)>"
            ]
          },
          "metadata": {
            "tags": []
          },
          "execution_count": 48
        }
      ]
    },
    {
      "cell_type": "code",
      "metadata": {
        "colab": {
          "base_uri": "https://localhost:8080/"
        },
        "id": "bM-wMlG-GhyJ",
        "outputId": "b0efac86-6f4c-418b-8d2b-4af77e0d88c1"
      },
      "source": [
        "tf.matmul(X, Y_reshaped)"
      ],
      "execution_count": 49,
      "outputs": [
        {
          "output_type": "execute_result",
          "data": {
            "text/plain": [
              "<tf.Tensor: shape=(3, 3), dtype=int32, numpy=\n",
              "array([[16, 17, 19],\n",
              "       [26, 28, 31],\n",
              "       [36, 39, 43]], dtype=int32)>"
            ]
          },
          "metadata": {
            "tags": []
          },
          "execution_count": 49
        }
      ]
    },
    {
      "cell_type": "code",
      "metadata": {
        "colab": {
          "base_uri": "https://localhost:8080/"
        },
        "id": "NHZcRgQ3HLr2",
        "outputId": "bd2acd80-7f4c-419c-f58c-2d5ec41a15cb"
      },
      "source": [
        "X_reshaped = tf.reshape(X, shape=[2,3])\n",
        "X_reshaped"
      ],
      "execution_count": 50,
      "outputs": [
        {
          "output_type": "execute_result",
          "data": {
            "text/plain": [
              "<tf.Tensor: shape=(2, 3), dtype=int32, numpy=\n",
              "array([[1, 2, 2],\n",
              "       [3, 3, 4]], dtype=int32)>"
            ]
          },
          "metadata": {
            "tags": []
          },
          "execution_count": 50
        }
      ]
    },
    {
      "cell_type": "code",
      "metadata": {
        "colab": {
          "base_uri": "https://localhost:8080/"
        },
        "id": "CgqopdgFHUUz",
        "outputId": "6b4a1a75-9c26-4198-ac95-a059d14a6509"
      },
      "source": [
        "tf.matmul(X_reshaped, Y)"
      ],
      "execution_count": 51,
      "outputs": [
        {
          "output_type": "execute_result",
          "data": {
            "text/plain": [
              "<tf.Tensor: shape=(2, 2), dtype=int32, numpy=\n",
              "array([[26, 31],\n",
              "       [51, 61]], dtype=int32)>"
            ]
          },
          "metadata": {
            "tags": []
          },
          "execution_count": 51
        }
      ]
    },
    {
      "cell_type": "markdown",
      "metadata": {
        "id": "aMXsbHzqHZcr"
      },
      "source": [
        "- The result is the outter dimensions of the matrix 3x2 by 2x3 will result in a 3x3"
      ]
    },
    {
      "cell_type": "markdown",
      "metadata": {
        "id": "Wb7Mv1mcHspl"
      },
      "source": [
        "- Transpose swaps the axis while reshape shuffles the element into the new shape"
      ]
    },
    {
      "cell_type": "code",
      "metadata": {
        "colab": {
          "base_uri": "https://localhost:8080/"
        },
        "id": "f79chhnyI6J7",
        "outputId": "8b5fcf3d-d070-4b4c-eed8-a1ce34575cd5"
      },
      "source": [
        "tf.transpose(X) , tf.reshape(X, shape= (2,3))"
      ],
      "execution_count": 52,
      "outputs": [
        {
          "output_type": "execute_result",
          "data": {
            "text/plain": [
              "(<tf.Tensor: shape=(2, 3), dtype=int32, numpy=\n",
              " array([[1, 2, 3],\n",
              "        [2, 3, 4]], dtype=int32)>,\n",
              " <tf.Tensor: shape=(2, 3), dtype=int32, numpy=\n",
              " array([[1, 2, 2],\n",
              "        [3, 3, 4]], dtype=int32)>)"
            ]
          },
          "metadata": {
            "tags": []
          },
          "execution_count": 52
        }
      ]
    },
    {
      "cell_type": "code",
      "metadata": {
        "colab": {
          "base_uri": "https://localhost:8080/"
        },
        "id": "d0cNpf88JAAc",
        "outputId": "3d41e1f4-7784-4732-a473-95d84e002cad"
      },
      "source": [
        "## multiplication with transpose rather than reshape\n",
        "tf.matmul(tf.transpose(X), Y)"
      ],
      "execution_count": 53,
      "outputs": [
        {
          "output_type": "execute_result",
          "data": {
            "text/plain": [
              "<tf.Tensor: shape=(2, 2), dtype=int32, numpy=\n",
              "array([[32, 38],\n",
              "       [47, 56]], dtype=int32)>"
            ]
          },
          "metadata": {
            "tags": []
          },
          "execution_count": 53
        }
      ]
    },
    {
      "cell_type": "markdown",
      "metadata": {
        "id": "-UGk0FskJdCU"
      },
      "source": [
        "**The dot Product**\n",
        "- Matrix multiplication is also called dot product\n",
        "- It is done with\n",
        "1.  `tf.matmul()`\n",
        "2.  `tf.tensordot()`"
      ]
    },
    {
      "cell_type": "code",
      "metadata": {
        "colab": {
          "base_uri": "https://localhost:8080/"
        },
        "id": "jqUaZgG4KH7n",
        "outputId": "69a31510-89cb-44f8-dabf-11a5b6655271"
      },
      "source": [
        "tf.tensordot(X, tf.transpose(Y), axes = 1)"
      ],
      "execution_count": 54,
      "outputs": [
        {
          "output_type": "execute_result",
          "data": {
            "text/plain": [
              "<tf.Tensor: shape=(3, 3), dtype=int32, numpy=\n",
              "array([[14, 17, 20],\n",
              "       [23, 28, 33],\n",
              "       [32, 39, 46]], dtype=int32)>"
            ]
          },
          "metadata": {
            "tags": []
          },
          "execution_count": 54
        }
      ]
    },
    {
      "cell_type": "code",
      "metadata": {
        "colab": {
          "base_uri": "https://localhost:8080/"
        },
        "id": "36M6VgOzQztO",
        "outputId": "58e99a4f-e075-445f-8671-206a64bb6fe2"
      },
      "source": [
        "tf.matmul(X, tf.transpose(Y))"
      ],
      "execution_count": 55,
      "outputs": [
        {
          "output_type": "execute_result",
          "data": {
            "text/plain": [
              "<tf.Tensor: shape=(3, 3), dtype=int32, numpy=\n",
              "array([[14, 17, 20],\n",
              "       [23, 28, 33],\n",
              "       [32, 39, 46]], dtype=int32)>"
            ]
          },
          "metadata": {
            "tags": []
          },
          "execution_count": 55
        }
      ]
    },
    {
      "cell_type": "markdown",
      "metadata": {
        "id": "KKD7ubdFU4Be"
      },
      "source": [
        "- Using tensordot with axis =  1 is equivalent to matmul\n",
        "\n",
        "> Mostly we use transport with matmul\n",
        "\n"
      ]
    },
    {
      "cell_type": "code",
      "metadata": {
        "id": "mucmmAWlU_V9"
      },
      "source": [
        "### Changing the datatype of a tensor"
      ],
      "execution_count": 56,
      "outputs": []
    },
    {
      "cell_type": "code",
      "metadata": {
        "colab": {
          "base_uri": "https://localhost:8080/",
          "height": 35
        },
        "id": "u5BpmvLZVQdA",
        "outputId": "acd197c9-6ef0-4e69-f192-87fb38ce6fe7"
      },
      "source": [
        "tf.__version__"
      ],
      "execution_count": 57,
      "outputs": [
        {
          "output_type": "execute_result",
          "data": {
            "application/vnd.google.colaboratory.intrinsic+json": {
              "type": "string"
            },
            "text/plain": [
              "'2.5.0'"
            ]
          },
          "metadata": {
            "tags": []
          },
          "execution_count": 57
        }
      ]
    },
    {
      "cell_type": "code",
      "metadata": {
        "colab": {
          "base_uri": "https://localhost:8080/"
        },
        "id": "3yxGs66pZgId",
        "outputId": "db50d960-25ff-4296-9598-aaaf8dd49f96"
      },
      "source": [
        "# default datatype\n",
        "B = tf.constant([1.5,2.5])\n",
        "B.dtype"
      ],
      "execution_count": 58,
      "outputs": [
        {
          "output_type": "execute_result",
          "data": {
            "text/plain": [
              "tf.float32"
            ]
          },
          "metadata": {
            "tags": []
          },
          "execution_count": 58
        }
      ]
    },
    {
      "cell_type": "code",
      "metadata": {
        "colab": {
          "base_uri": "https://localhost:8080/"
        },
        "id": "wsgpo38uZpjj",
        "outputId": "5bec23e4-a8f2-4dd0-8420-47ac998cd9e9"
      },
      "source": [
        "C = tf.constant([7,5])\n",
        "C.dtype"
      ],
      "execution_count": 59,
      "outputs": [
        {
          "output_type": "execute_result",
          "data": {
            "text/plain": [
              "tf.int32"
            ]
          },
          "metadata": {
            "tags": []
          },
          "execution_count": 59
        }
      ]
    },
    {
      "cell_type": "code",
      "metadata": {
        "colab": {
          "base_uri": "https://localhost:8080/"
        },
        "id": "-DzQRpH7Zvmb",
        "outputId": "99511069-ac1e-4655-933c-cb63392f46d8"
      },
      "source": [
        "# Change from float32 to float16 ( a reduced precision, for better memory)\n",
        "B16 = tf.cast(B, dtype=tf.float16)\n",
        "B16.dtype"
      ],
      "execution_count": 60,
      "outputs": [
        {
          "output_type": "execute_result",
          "data": {
            "text/plain": [
              "tf.float16"
            ]
          },
          "metadata": {
            "tags": []
          },
          "execution_count": 60
        }
      ]
    },
    {
      "cell_type": "markdown",
      "metadata": {
        "id": "GaAI4KJGZ_HD"
      },
      "source": [
        "### Aggregating Tensors"
      ]
    },
    {
      "cell_type": "code",
      "metadata": {
        "colab": {
          "base_uri": "https://localhost:8080/"
        },
        "id": "rLvKBkiWeg2t",
        "outputId": "b527bf5d-2adf-4f92-a41b-c7d06f1907cd"
      },
      "source": [
        "# Get the absolute values\n",
        "D = tf.constant([-7, -10])\n",
        "D"
      ],
      "execution_count": 61,
      "outputs": [
        {
          "output_type": "execute_result",
          "data": {
            "text/plain": [
              "<tf.Tensor: shape=(2,), dtype=int32, numpy=array([ -7, -10], dtype=int32)>"
            ]
          },
          "metadata": {
            "tags": []
          },
          "execution_count": 61
        }
      ]
    },
    {
      "cell_type": "code",
      "metadata": {
        "colab": {
          "base_uri": "https://localhost:8080/"
        },
        "id": "AcBMNTISgTth",
        "outputId": "fc1fe15f-fdba-44c9-9d8e-3aaa78f0ac12"
      },
      "source": [
        "tf.abs(D)"
      ],
      "execution_count": 62,
      "outputs": [
        {
          "output_type": "execute_result",
          "data": {
            "text/plain": [
              "<tf.Tensor: shape=(2,), dtype=int32, numpy=array([ 7, 10], dtype=int32)>"
            ]
          },
          "metadata": {
            "tags": []
          },
          "execution_count": 62
        }
      ]
    },
    {
      "cell_type": "code",
      "metadata": {
        "colab": {
          "base_uri": "https://localhost:8080/"
        },
        "id": "NtaFLo3agZac",
        "outputId": "b2760cd4-4547-4aa7-f746-d3bbe8f011ca"
      },
      "source": [
        "## Mean\n",
        "tf.reduce_mean(tf.cast(D, dtype=tf.float16))"
      ],
      "execution_count": 63,
      "outputs": [
        {
          "output_type": "execute_result",
          "data": {
            "text/plain": [
              "<tf.Tensor: shape=(), dtype=float16, numpy=-8.5>"
            ]
          },
          "metadata": {
            "tags": []
          },
          "execution_count": 63
        }
      ]
    },
    {
      "cell_type": "code",
      "metadata": {
        "id": "oOoUHY7ngwxq"
      },
      "source": [
        "## Create a random. tensor with values between 0 and 50\n",
        "E = tf.constant(np.random.randint(0, 100, size=50))\n"
      ],
      "execution_count": 64,
      "outputs": []
    },
    {
      "cell_type": "code",
      "metadata": {
        "colab": {
          "base_uri": "https://localhost:8080/"
        },
        "id": "Nax0gGRqhP5s",
        "outputId": "292e5b9b-a6a6-4691-a6a3-e2c5eb9f79b6"
      },
      "source": [
        "## mean \n",
        "tf.reduce_mean(E)"
      ],
      "execution_count": 65,
      "outputs": [
        {
          "output_type": "execute_result",
          "data": {
            "text/plain": [
              "<tf.Tensor: shape=(), dtype=int64, numpy=63>"
            ]
          },
          "metadata": {
            "tags": []
          },
          "execution_count": 65
        }
      ]
    },
    {
      "cell_type": "code",
      "metadata": {
        "colab": {
          "base_uri": "https://localhost:8080/"
        },
        "id": "6cfaq8_DhXdj",
        "outputId": "95bed783-7e40-4900-f080-d7bbd4e4b9fa"
      },
      "source": [
        "## minimum\n",
        "tf.reduce_min(E)"
      ],
      "execution_count": 66,
      "outputs": [
        {
          "output_type": "execute_result",
          "data": {
            "text/plain": [
              "<tf.Tensor: shape=(), dtype=int64, numpy=2>"
            ]
          },
          "metadata": {
            "tags": []
          },
          "execution_count": 66
        }
      ]
    },
    {
      "cell_type": "code",
      "metadata": {
        "colab": {
          "base_uri": "https://localhost:8080/"
        },
        "id": "cyj3c2KJhbRW",
        "outputId": "933e45a7-454c-46cd-f6b6-e63db7fc666f"
      },
      "source": [
        "## Maximum\n",
        "tf.reduce_max(E)"
      ],
      "execution_count": 67,
      "outputs": [
        {
          "output_type": "execute_result",
          "data": {
            "text/plain": [
              "<tf.Tensor: shape=(), dtype=int64, numpy=99>"
            ]
          },
          "metadata": {
            "tags": []
          },
          "execution_count": 67
        }
      ]
    },
    {
      "cell_type": "code",
      "metadata": {
        "colab": {
          "base_uri": "https://localhost:8080/"
        },
        "id": "ifIanCi7hg9B",
        "outputId": "a1e4f5e2-9294-4d73-8167-3db5714a4433"
      },
      "source": [
        "## Sum\n",
        "tf.reduce_sum(E)"
      ],
      "execution_count": 68,
      "outputs": [
        {
          "output_type": "execute_result",
          "data": {
            "text/plain": [
              "<tf.Tensor: shape=(), dtype=int64, numpy=3174>"
            ]
          },
          "metadata": {
            "tags": []
          },
          "execution_count": 68
        }
      ]
    },
    {
      "cell_type": "code",
      "metadata": {
        "colab": {
          "base_uri": "https://localhost:8080/"
        },
        "id": "n2DSVQRyhmch",
        "outputId": "e4c1f680-0027-4740-d2ef-433bca68407c"
      },
      "source": [
        "##Variance\n",
        "try:\n",
        "  tf.math.reduce_variance(E)\n",
        "except Exception as e:\n",
        "  print(e)"
      ],
      "execution_count": 69,
      "outputs": [
        {
          "output_type": "stream",
          "text": [
            "Input must be either real or complex\n"
          ],
          "name": "stdout"
        }
      ]
    },
    {
      "cell_type": "code",
      "metadata": {
        "colab": {
          "base_uri": "https://localhost:8080/"
        },
        "id": "rfvhGjkfj7_f",
        "outputId": "daf1c9a2-f5e3-4d79-fafc-5e7b98df96bd"
      },
      "source": [
        "## Variance using tf\n",
        "tf.math.reduce_variance(tf.cast(E, dtype=tf.float16))"
      ],
      "execution_count": 70,
      "outputs": [
        {
          "output_type": "execute_result",
          "data": {
            "text/plain": [
              "<tf.Tensor: shape=(), dtype=float16, numpy=798.0>"
            ]
          },
          "metadata": {
            "tags": []
          },
          "execution_count": 70
        }
      ]
    },
    {
      "cell_type": "code",
      "metadata": {
        "colab": {
          "base_uri": "https://localhost:8080/"
        },
        "id": "Pgn8IQY6h3vj",
        "outputId": "5dd5d6b8-a978-40ba-bd53-afde0c6df368"
      },
      "source": [
        "# Variance using tensorflow probility\n",
        "import tensorflow_probability as tfp\n",
        "tfp.stats.variance(E)"
      ],
      "execution_count": 71,
      "outputs": [
        {
          "output_type": "execute_result",
          "data": {
            "text/plain": [
              "<tf.Tensor: shape=(), dtype=int64, numpy=798>"
            ]
          },
          "metadata": {
            "tags": []
          },
          "execution_count": 71
        }
      ]
    },
    {
      "cell_type": "code",
      "metadata": {
        "colab": {
          "base_uri": "https://localhost:8080/"
        },
        "id": "fG7Al0B1jcZ6",
        "outputId": "43dfa198-399b-41c1-eaf4-7dcd1014cc05"
      },
      "source": [
        "tf.math.reduce_std(tf.cast(E, dtype=tf.float16))"
      ],
      "execution_count": 72,
      "outputs": [
        {
          "output_type": "execute_result",
          "data": {
            "text/plain": [
              "<tf.Tensor: shape=(), dtype=float16, numpy=28.25>"
            ]
          },
          "metadata": {
            "tags": []
          },
          "execution_count": 72
        }
      ]
    },
    {
      "cell_type": "markdown",
      "metadata": {
        "id": "MRGuZMU6ji_k"
      },
      "source": [
        "#### For Variance and Std to work with tf.math, values must be floats\n",
        "- at which index is the maximum or minimum located"
      ]
    },
    {
      "cell_type": "code",
      "metadata": {
        "colab": {
          "base_uri": "https://localhost:8080/"
        },
        "id": "hYFvUcvUkOTy",
        "outputId": "e5cd47b5-b236-4f6a-9a23-84195439a33c"
      },
      "source": [
        "### Positional maximum and minimum\n",
        "tf.random.set_seed(42)\n",
        "F = tf.random.uniform(shape = [50])\n",
        "F "
      ],
      "execution_count": 73,
      "outputs": [
        {
          "output_type": "execute_result",
          "data": {
            "text/plain": [
              "<tf.Tensor: shape=(50,), dtype=float32, numpy=\n",
              "array([0.6645621 , 0.44100678, 0.3528825 , 0.46448255, 0.03366041,\n",
              "       0.68467236, 0.74011743, 0.8724445 , 0.22632635, 0.22319686,\n",
              "       0.3103881 , 0.7223358 , 0.13318717, 0.5480639 , 0.5746088 ,\n",
              "       0.8996835 , 0.00946367, 0.5212307 , 0.6345445 , 0.1993283 ,\n",
              "       0.72942245, 0.54583454, 0.10756552, 0.6767061 , 0.6602763 ,\n",
              "       0.33695042, 0.60141766, 0.21062577, 0.8527372 , 0.44062173,\n",
              "       0.9485276 , 0.23752594, 0.81179297, 0.5263394 , 0.494308  ,\n",
              "       0.21612847, 0.8457197 , 0.8718841 , 0.3083862 , 0.6868038 ,\n",
              "       0.23764038, 0.7817228 , 0.9671384 , 0.06870162, 0.79873943,\n",
              "       0.66028714, 0.5871513 , 0.16461694, 0.7381023 , 0.32054043],\n",
              "      dtype=float32)>"
            ]
          },
          "metadata": {
            "tags": []
          },
          "execution_count": 73
        }
      ]
    },
    {
      "cell_type": "code",
      "metadata": {
        "colab": {
          "base_uri": "https://localhost:8080/"
        },
        "id": "KvYglq91odlZ",
        "outputId": "318b078a-5958-4a19-cc9a-da4b2df5ba7d"
      },
      "source": [
        "# find the position maximum\n",
        "tf.argmax(F)"
      ],
      "execution_count": 74,
      "outputs": [
        {
          "output_type": "execute_result",
          "data": {
            "text/plain": [
              "<tf.Tensor: shape=(), dtype=int64, numpy=42>"
            ]
          },
          "metadata": {
            "tags": []
          },
          "execution_count": 74
        }
      ]
    },
    {
      "cell_type": "code",
      "metadata": {
        "colab": {
          "base_uri": "https://localhost:8080/"
        },
        "id": "pFYuebNvoub9",
        "outputId": "7c8b0101-e766-4c95-f975-04062c412748"
      },
      "source": [
        "F[tf.argmax(F)]"
      ],
      "execution_count": 75,
      "outputs": [
        {
          "output_type": "execute_result",
          "data": {
            "text/plain": [
              "<tf.Tensor: shape=(), dtype=float32, numpy=0.9671384>"
            ]
          },
          "metadata": {
            "tags": []
          },
          "execution_count": 75
        }
      ]
    },
    {
      "cell_type": "code",
      "metadata": {
        "colab": {
          "base_uri": "https://localhost:8080/"
        },
        "id": "rI9Zn0OgozQP",
        "outputId": "786447c1-9741-4593-a850-7dd0dbdc8b5b"
      },
      "source": [
        "tf.reduce_max(F)"
      ],
      "execution_count": 76,
      "outputs": [
        {
          "output_type": "execute_result",
          "data": {
            "text/plain": [
              "<tf.Tensor: shape=(), dtype=float32, numpy=0.9671384>"
            ]
          },
          "metadata": {
            "tags": []
          },
          "execution_count": 76
        }
      ]
    },
    {
      "cell_type": "code",
      "metadata": {
        "id": "ooTZtHyGo4j8"
      },
      "source": [
        "assert F[tf.argmax(F)] == tf.reduce_max(F)"
      ],
      "execution_count": 77,
      "outputs": []
    },
    {
      "cell_type": "code",
      "metadata": {
        "colab": {
          "base_uri": "https://localhost:8080/"
        },
        "id": "jCWUiVGho-cO",
        "outputId": "0f3ea114-4a22-4d8f-a61b-fa5c0d54b0b4"
      },
      "source": [
        "# Find the position minimum\n",
        "tf.argmin(F)"
      ],
      "execution_count": 78,
      "outputs": [
        {
          "output_type": "execute_result",
          "data": {
            "text/plain": [
              "<tf.Tensor: shape=(), dtype=int64, numpy=16>"
            ]
          },
          "metadata": {
            "tags": []
          },
          "execution_count": 78
        }
      ]
    },
    {
      "cell_type": "code",
      "metadata": {
        "colab": {
          "base_uri": "https://localhost:8080/"
        },
        "id": "xwX5tqfkpGpD",
        "outputId": "88dbedd0-a412-4354-d35c-b81946da8f30"
      },
      "source": [
        "F[tf.argmin(F)]"
      ],
      "execution_count": 79,
      "outputs": [
        {
          "output_type": "execute_result",
          "data": {
            "text/plain": [
              "<tf.Tensor: shape=(), dtype=float32, numpy=0.009463668>"
            ]
          },
          "metadata": {
            "tags": []
          },
          "execution_count": 79
        }
      ]
    },
    {
      "cell_type": "code",
      "metadata": {
        "colab": {
          "base_uri": "https://localhost:8080/"
        },
        "id": "toq76_VcpKLH",
        "outputId": "eb1552dd-98e1-4e33-d748-013bbed0ada0"
      },
      "source": [
        "tf.reduce_min(F)"
      ],
      "execution_count": 80,
      "outputs": [
        {
          "output_type": "execute_result",
          "data": {
            "text/plain": [
              "<tf.Tensor: shape=(), dtype=float32, numpy=0.009463668>"
            ]
          },
          "metadata": {
            "tags": []
          },
          "execution_count": 80
        }
      ]
    },
    {
      "cell_type": "code",
      "metadata": {
        "id": "i6pmfeAcpN9C"
      },
      "source": [
        "assert F[tf.argmin(F)] == tf.reduce_min(F)"
      ],
      "execution_count": 81,
      "outputs": []
    },
    {
      "cell_type": "code",
      "metadata": {
        "colab": {
          "base_uri": "https://localhost:8080/"
        },
        "id": "msu05OSqpTHF",
        "outputId": "16d66fd8-f911-453b-c9bb-ca617c8bed4f"
      },
      "source": [
        "### Squeezing a tensor (Removing all single dimensions)\n",
        "tf.random.set_seed(42)\n",
        "G = tf.constant(tf.random.uniform(shape=[50]), shape = (1,1,1,1,50))\n",
        "G"
      ],
      "execution_count": 82,
      "outputs": [
        {
          "output_type": "execute_result",
          "data": {
            "text/plain": [
              "<tf.Tensor: shape=(1, 1, 1, 1, 50), dtype=float32, numpy=\n",
              "array([[[[[0.6645621 , 0.44100678, 0.3528825 , 0.46448255, 0.03366041,\n",
              "           0.68467236, 0.74011743, 0.8724445 , 0.22632635, 0.22319686,\n",
              "           0.3103881 , 0.7223358 , 0.13318717, 0.5480639 , 0.5746088 ,\n",
              "           0.8996835 , 0.00946367, 0.5212307 , 0.6345445 , 0.1993283 ,\n",
              "           0.72942245, 0.54583454, 0.10756552, 0.6767061 , 0.6602763 ,\n",
              "           0.33695042, 0.60141766, 0.21062577, 0.8527372 , 0.44062173,\n",
              "           0.9485276 , 0.23752594, 0.81179297, 0.5263394 , 0.494308  ,\n",
              "           0.21612847, 0.8457197 , 0.8718841 , 0.3083862 , 0.6868038 ,\n",
              "           0.23764038, 0.7817228 , 0.9671384 , 0.06870162, 0.79873943,\n",
              "           0.66028714, 0.5871513 , 0.16461694, 0.7381023 , 0.32054043]]]]],\n",
              "      dtype=float32)>"
            ]
          },
          "metadata": {
            "tags": []
          },
          "execution_count": 82
        }
      ]
    },
    {
      "cell_type": "code",
      "metadata": {
        "colab": {
          "base_uri": "https://localhost:8080/"
        },
        "id": "BeJ-LHEApZ6V",
        "outputId": "f7e50fb3-8ec8-4fe3-93c0-f9a29bc472d8"
      },
      "source": [
        "G.shape"
      ],
      "execution_count": 83,
      "outputs": [
        {
          "output_type": "execute_result",
          "data": {
            "text/plain": [
              "TensorShape([1, 1, 1, 1, 50])"
            ]
          },
          "metadata": {
            "tags": []
          },
          "execution_count": 83
        }
      ]
    },
    {
      "cell_type": "code",
      "metadata": {
        "colab": {
          "base_uri": "https://localhost:8080/"
        },
        "id": "6Z4WnmwOp4HS",
        "outputId": "d9ed04e5-7c63-4559-9661-09a63b0a3d92"
      },
      "source": [
        "G_squeezed = tf.squeeze(G)\n",
        "G_squeezed"
      ],
      "execution_count": 84,
      "outputs": [
        {
          "output_type": "execute_result",
          "data": {
            "text/plain": [
              "<tf.Tensor: shape=(50,), dtype=float32, numpy=\n",
              "array([0.6645621 , 0.44100678, 0.3528825 , 0.46448255, 0.03366041,\n",
              "       0.68467236, 0.74011743, 0.8724445 , 0.22632635, 0.22319686,\n",
              "       0.3103881 , 0.7223358 , 0.13318717, 0.5480639 , 0.5746088 ,\n",
              "       0.8996835 , 0.00946367, 0.5212307 , 0.6345445 , 0.1993283 ,\n",
              "       0.72942245, 0.54583454, 0.10756552, 0.6767061 , 0.6602763 ,\n",
              "       0.33695042, 0.60141766, 0.21062577, 0.8527372 , 0.44062173,\n",
              "       0.9485276 , 0.23752594, 0.81179297, 0.5263394 , 0.494308  ,\n",
              "       0.21612847, 0.8457197 , 0.8718841 , 0.3083862 , 0.6868038 ,\n",
              "       0.23764038, 0.7817228 , 0.9671384 , 0.06870162, 0.79873943,\n",
              "       0.66028714, 0.5871513 , 0.16461694, 0.7381023 , 0.32054043],\n",
              "      dtype=float32)>"
            ]
          },
          "metadata": {
            "tags": []
          },
          "execution_count": 84
        }
      ]
    },
    {
      "cell_type": "code",
      "metadata": {
        "colab": {
          "base_uri": "https://localhost:8080/"
        },
        "id": "QfpyZOojqOj4",
        "outputId": "79e074b3-dad6-466a-a45e-e6b07b9e8180"
      },
      "source": [
        "G2 =  tf.constant(tf.random.uniform(shape=[100]), shape=[1,1,1,2,50])\n",
        "G2"
      ],
      "execution_count": 85,
      "outputs": [
        {
          "output_type": "execute_result",
          "data": {
            "text/plain": [
              "<tf.Tensor: shape=(1, 1, 1, 2, 50), dtype=float32, numpy=\n",
              "array([[[[[0.68789124, 0.48447883, 0.9309944 , 0.252187  , 0.73115396,\n",
              "           0.89256823, 0.94674826, 0.7493341 , 0.34925628, 0.54718256,\n",
              "           0.26160395, 0.69734323, 0.11962581, 0.53484344, 0.7148968 ,\n",
              "           0.87501776, 0.33967495, 0.17377627, 0.4418521 , 0.9008261 ,\n",
              "           0.13803864, 0.12217975, 0.5754491 , 0.9417181 , 0.9186585 ,\n",
              "           0.59708476, 0.6109482 , 0.82086265, 0.83269787, 0.8915849 ,\n",
              "           0.01377225, 0.49807465, 0.57503664, 0.6856195 , 0.75972784,\n",
              "           0.908944  , 0.40900218, 0.8765154 , 0.53890026, 0.42733097,\n",
              "           0.401173  , 0.66623247, 0.16348064, 0.18220246, 0.97040176,\n",
              "           0.06139731, 0.53034747, 0.9869994 , 0.4746945 , 0.8646754 ],\n",
              "          [0.20301068, 0.11448455, 0.35100245, 0.68227184, 0.18108869,\n",
              "           0.8163481 , 0.65651655, 0.9258256 , 0.2391715 , 0.8365958 ,\n",
              "           0.04765272, 0.8007157 , 0.8299267 , 0.14328372, 0.8616878 ,\n",
              "           0.9707202 , 0.6779593 , 0.5641242 , 0.62537   , 0.8653159 ,\n",
              "           0.16104567, 0.11101365, 0.61647224, 0.60355604, 0.6303868 ,\n",
              "           0.5213008 , 0.8186623 , 0.20569968, 0.19041789, 0.14648688,\n",
              "           0.14919603, 0.8594816 , 0.9167328 , 0.5044954 , 0.8656684 ,\n",
              "           0.70333743, 0.5343715 , 0.35093033, 0.63313484, 0.84159875,\n",
              "           0.4346044 , 0.29658782, 0.849067  , 0.20556164, 0.39022648,\n",
              "           0.59092   , 0.8787719 , 0.7197267 , 0.09947217, 0.9480752 ]]]]],\n",
              "      dtype=float32)>"
            ]
          },
          "metadata": {
            "tags": []
          },
          "execution_count": 85
        }
      ]
    },
    {
      "cell_type": "code",
      "metadata": {
        "colab": {
          "base_uri": "https://localhost:8080/"
        },
        "id": "pkmZY-ZxqeXz",
        "outputId": "eb44ef45-b3db-4674-8fc6-bf835c32da49"
      },
      "source": [
        "tf.squeeze(G2)"
      ],
      "execution_count": 86,
      "outputs": [
        {
          "output_type": "execute_result",
          "data": {
            "text/plain": [
              "<tf.Tensor: shape=(2, 50), dtype=float32, numpy=\n",
              "array([[0.68789124, 0.48447883, 0.9309944 , 0.252187  , 0.73115396,\n",
              "        0.89256823, 0.94674826, 0.7493341 , 0.34925628, 0.54718256,\n",
              "        0.26160395, 0.69734323, 0.11962581, 0.53484344, 0.7148968 ,\n",
              "        0.87501776, 0.33967495, 0.17377627, 0.4418521 , 0.9008261 ,\n",
              "        0.13803864, 0.12217975, 0.5754491 , 0.9417181 , 0.9186585 ,\n",
              "        0.59708476, 0.6109482 , 0.82086265, 0.83269787, 0.8915849 ,\n",
              "        0.01377225, 0.49807465, 0.57503664, 0.6856195 , 0.75972784,\n",
              "        0.908944  , 0.40900218, 0.8765154 , 0.53890026, 0.42733097,\n",
              "        0.401173  , 0.66623247, 0.16348064, 0.18220246, 0.97040176,\n",
              "        0.06139731, 0.53034747, 0.9869994 , 0.4746945 , 0.8646754 ],\n",
              "       [0.20301068, 0.11448455, 0.35100245, 0.68227184, 0.18108869,\n",
              "        0.8163481 , 0.65651655, 0.9258256 , 0.2391715 , 0.8365958 ,\n",
              "        0.04765272, 0.8007157 , 0.8299267 , 0.14328372, 0.8616878 ,\n",
              "        0.9707202 , 0.6779593 , 0.5641242 , 0.62537   , 0.8653159 ,\n",
              "        0.16104567, 0.11101365, 0.61647224, 0.60355604, 0.6303868 ,\n",
              "        0.5213008 , 0.8186623 , 0.20569968, 0.19041789, 0.14648688,\n",
              "        0.14919603, 0.8594816 , 0.9167328 , 0.5044954 , 0.8656684 ,\n",
              "        0.70333743, 0.5343715 , 0.35093033, 0.63313484, 0.84159875,\n",
              "        0.4346044 , 0.29658782, 0.849067  , 0.20556164, 0.39022648,\n",
              "        0.59092   , 0.8787719 , 0.7197267 , 0.09947217, 0.9480752 ]],\n",
              "      dtype=float32)>"
            ]
          },
          "metadata": {
            "tags": []
          },
          "execution_count": 86
        }
      ]
    },
    {
      "cell_type": "markdown",
      "metadata": {
        "id": "FWl1ijoLqsk1"
      },
      "source": [
        "### One Hot encoding"
      ]
    },
    {
      "cell_type": "code",
      "metadata": {
        "colab": {
          "base_uri": "https://localhost:8080/"
        },
        "id": "8IJMmLAArnde",
        "outputId": "2851aec0-bcb6-4124-d5a1-1b41423e2e74"
      },
      "source": [
        "# List of indices\n",
        "L = [0,1,2,3]\n",
        "# One hot encode the list\n",
        "tf.one_hot(L, depth=4) # Depth defines the shape of the output matrix"
      ],
      "execution_count": 87,
      "outputs": [
        {
          "output_type": "execute_result",
          "data": {
            "text/plain": [
              "<tf.Tensor: shape=(4, 4), dtype=float32, numpy=\n",
              "array([[1., 0., 0., 0.],\n",
              "       [0., 1., 0., 0.],\n",
              "       [0., 0., 1., 0.],\n",
              "       [0., 0., 0., 1.]], dtype=float32)>"
            ]
          },
          "metadata": {
            "tags": []
          },
          "execution_count": 87
        }
      ]
    },
    {
      "cell_type": "code",
      "metadata": {
        "colab": {
          "base_uri": "https://localhost:8080/"
        },
        "id": "U3XGvxkSsQCQ",
        "outputId": "ebf800a9-8433-4d80-abe1-11872c76a765"
      },
      "source": [
        "# Specify custom values for one hot encoding\n",
        "tf.one_hot(L, depth=3, on_value=\"Yes\", off_value=\"No\")"
      ],
      "execution_count": 88,
      "outputs": [
        {
          "output_type": "execute_result",
          "data": {
            "text/plain": [
              "<tf.Tensor: shape=(4, 3), dtype=string, numpy=\n",
              "array([[b'Yes', b'No', b'No'],\n",
              "       [b'No', b'Yes', b'No'],\n",
              "       [b'No', b'No', b'Yes'],\n",
              "       [b'No', b'No', b'No']], dtype=object)>"
            ]
          },
          "metadata": {
            "tags": []
          },
          "execution_count": 88
        }
      ]
    },
    {
      "cell_type": "code",
      "metadata": {
        "colab": {
          "base_uri": "https://localhost:8080/"
        },
        "id": "zrvUTm__szyW",
        "outputId": "61cffaf2-79f8-4da0-b47c-cf361c8eda8b"
      },
      "source": [
        "H = tf.range(10)\n",
        "H"
      ],
      "execution_count": 89,
      "outputs": [
        {
          "output_type": "execute_result",
          "data": {
            "text/plain": [
              "<tf.Tensor: shape=(10,), dtype=int32, numpy=array([0, 1, 2, 3, 4, 5, 6, 7, 8, 9], dtype=int32)>"
            ]
          },
          "metadata": {
            "tags": []
          },
          "execution_count": 89
        }
      ]
    },
    {
      "cell_type": "code",
      "metadata": {
        "colab": {
          "base_uri": "https://localhost:8080/"
        },
        "id": "53vs8zdUtOoq",
        "outputId": "15d542df-40fb-425b-d446-c6adeef10021"
      },
      "source": [
        "tf.sqrt(tf.cast(H, dtype=tf.float32))"
      ],
      "execution_count": 90,
      "outputs": [
        {
          "output_type": "execute_result",
          "data": {
            "text/plain": [
              "<tf.Tensor: shape=(10,), dtype=float32, numpy=\n",
              "array([0.       , 1.       , 1.4142135, 1.7320508, 2.       , 2.236068 ,\n",
              "       2.4494898, 2.6457512, 2.828427 , 3.       ], dtype=float32)>"
            ]
          },
          "metadata": {
            "tags": []
          },
          "execution_count": 90
        }
      ]
    },
    {
      "cell_type": "markdown",
      "metadata": {
        "id": "v65nsmS0tWtk"
      },
      "source": [
        "method needs float\n",
        "- sqrt\n",
        "- log"
      ]
    },
    {
      "cell_type": "markdown",
      "metadata": {
        "id": "lit9LyU5tkD-"
      },
      "source": [
        "### TensorFlow and Numpy Array"
      ]
    },
    {
      "cell_type": "code",
      "metadata": {
        "colab": {
          "base_uri": "https://localhost:8080/"
        },
        "id": "T8GvYtkfxPF-",
        "outputId": "a7de616f-aedc-4fc9-ec29-b968d60852d2"
      },
      "source": [
        "J = tf.constant(np.array([3., 7.,10.]))\n",
        "J"
      ],
      "execution_count": 91,
      "outputs": [
        {
          "output_type": "execute_result",
          "data": {
            "text/plain": [
              "<tf.Tensor: shape=(3,), dtype=float64, numpy=array([ 3.,  7., 10.])>"
            ]
          },
          "metadata": {
            "tags": []
          },
          "execution_count": 91
        }
      ]
    },
    {
      "cell_type": "code",
      "metadata": {
        "colab": {
          "base_uri": "https://localhost:8080/"
        },
        "id": "uc90n-4BxVK8",
        "outputId": "8dbcbd72-a357-4484-d44d-d65ebd1bea77"
      },
      "source": [
        "np.array(J) , type(np.array(J))"
      ],
      "execution_count": 92,
      "outputs": [
        {
          "output_type": "execute_result",
          "data": {
            "text/plain": [
              "(array([ 3.,  7., 10.]), numpy.ndarray)"
            ]
          },
          "metadata": {
            "tags": []
          },
          "execution_count": 92
        }
      ]
    },
    {
      "cell_type": "code",
      "metadata": {
        "colab": {
          "base_uri": "https://localhost:8080/"
        },
        "id": "bUTEeql0xdRq",
        "outputId": "0be81e6f-db22-4a43-a0d4-7f72f35bfad2"
      },
      "source": [
        "J.numpy()[0]"
      ],
      "execution_count": 93,
      "outputs": [
        {
          "output_type": "execute_result",
          "data": {
            "text/plain": [
              "3.0"
            ]
          },
          "metadata": {
            "tags": []
          },
          "execution_count": 93
        }
      ]
    },
    {
      "cell_type": "code",
      "metadata": {
        "colab": {
          "base_uri": "https://localhost:8080/"
        },
        "id": "KouNnM-Wxj8D",
        "outputId": "37007fe9-c197-414a-d8bc-1e9d7dae6b1f"
      },
      "source": [
        "### Default types of each\n",
        "numpy_J = tf.constant(np.array([3.,7.,10.]))\n",
        "tensor_J = tf.constant([3., 7., 10.])\n",
        "\n",
        "# datatypes\n",
        "numpy_J.dtype, tensor_J.dtype"
      ],
      "execution_count": 94,
      "outputs": [
        {
          "output_type": "execute_result",
          "data": {
            "text/plain": [
              "(tf.float64, tf.float32)"
            ]
          },
          "metadata": {
            "tags": []
          },
          "execution_count": 94
        }
      ]
    },
    {
      "cell_type": "markdown",
      "metadata": {
        "id": "LzPEp50Ex4Ci"
      },
      "source": [
        "### Finding Access to GPU \n",
        "- runtime  change in Runtime"
      ]
    },
    {
      "cell_type": "code",
      "metadata": {
        "colab": {
          "base_uri": "https://localhost:8080/"
        },
        "id": "wcu6TqE2yng8",
        "outputId": "ac68fc57-aca5-4254-f9dc-fb917491cd9d"
      },
      "source": [
        "tf.config.list_physical_devices()"
      ],
      "execution_count": 95,
      "outputs": [
        {
          "output_type": "execute_result",
          "data": {
            "text/plain": [
              "[PhysicalDevice(name='/physical_device:CPU:0', device_type='CPU'),\n",
              " PhysicalDevice(name='/physical_device:GPU:0', device_type='GPU')]"
            ]
          },
          "metadata": {
            "tags": []
          },
          "execution_count": 95
        }
      ]
    },
    {
      "cell_type": "code",
      "metadata": {
        "colab": {
          "base_uri": "https://localhost:8080/"
        },
        "id": "YR7uXkMGyvjL",
        "outputId": "74b3374d-7646-46bd-8426-83ffdf549daf"
      },
      "source": [
        "!nvidia-smi"
      ],
      "execution_count": 96,
      "outputs": [
        {
          "output_type": "stream",
          "text": [
            "Thu Jul  1 12:42:58 2021       \n",
            "+-----------------------------------------------------------------------------+\n",
            "| NVIDIA-SMI 465.27       Driver Version: 460.32.03    CUDA Version: 11.2     |\n",
            "|-------------------------------+----------------------+----------------------+\n",
            "| GPU  Name        Persistence-M| Bus-Id        Disp.A | Volatile Uncorr. ECC |\n",
            "| Fan  Temp  Perf  Pwr:Usage/Cap|         Memory-Usage | GPU-Util  Compute M. |\n",
            "|                               |                      |               MIG M. |\n",
            "|===============================+======================+======================|\n",
            "|   0  Tesla K80           Off  | 00000000:00:04.0 Off |                    0 |\n",
            "| N/A   35C    P0    57W / 149W |    124MiB / 11441MiB |      0%      Default |\n",
            "|                               |                      |                  N/A |\n",
            "+-------------------------------+----------------------+----------------------+\n",
            "                                                                               \n",
            "+-----------------------------------------------------------------------------+\n",
            "| Processes:                                                                  |\n",
            "|  GPU   GI   CI        PID   Type   Process name                  GPU Memory |\n",
            "|        ID   ID                                                   Usage      |\n",
            "|=============================================================================|\n",
            "+-----------------------------------------------------------------------------+\n"
          ],
          "name": "stdout"
        }
      ]
    },
    {
      "cell_type": "markdown",
      "metadata": {
        "id": "iZOmE4xg2frq"
      },
      "source": [
        "- if GPU is running CUDA, Tensorflow will use it whenever possible"
      ]
    },
    {
      "cell_type": "markdown",
      "metadata": {
        "id": "ayUAxyM_2_dI"
      },
      "source": [
        "##Exercise"
      ]
    },
    {
      "cell_type": "markdown",
      "metadata": {
        "id": "hWHbfq7xIwup"
      },
      "source": [
        "1. Creation"
      ]
    },
    {
      "cell_type": "code",
      "metadata": {
        "id": "M8oMr20s6W0Y"
      },
      "source": [
        "escalar = tf.constant(1)\n",
        "ematrix = tf.constant([2,3,4])\n",
        "etensor = tf.constant([[2.,3.],[5.,6.]])\n",
        "etensor"
      ],
      "execution_count": null,
      "outputs": []
    },
    {
      "cell_type": "markdown",
      "metadata": {
        "id": "nQibOuovI1Gu"
      },
      "source": [
        "2. Rank Shape and Size"
      ]
    },
    {
      "cell_type": "code",
      "metadata": {
        "colab": {
          "base_uri": "https://localhost:8080/"
        },
        "id": "skd7k3TrF6le",
        "outputId": "e4ae1bc1-4bae-4dfb-cfe7-aa0367c2b436"
      },
      "source": [
        "# Shape\n",
        "escalar.shape, ematrix.shape, etensor.shape"
      ],
      "execution_count": 112,
      "outputs": [
        {
          "output_type": "execute_result",
          "data": {
            "text/plain": [
              "(TensorShape([]), TensorShape([3]), TensorShape([2, 2]))"
            ]
          },
          "metadata": {
            "tags": []
          },
          "execution_count": 112
        }
      ]
    },
    {
      "cell_type": "code",
      "metadata": {
        "colab": {
          "base_uri": "https://localhost:8080/"
        },
        "id": "LcBtV2XdHjxo",
        "outputId": "9551fbd0-95fd-433c-e648-f02121d5c6a5"
      },
      "source": [
        "# Rank\n",
        "escalar.ndim, ematrix.ndim, etensor.ndim"
      ],
      "execution_count": 113,
      "outputs": [
        {
          "output_type": "execute_result",
          "data": {
            "text/plain": [
              "(0, 1, 2)"
            ]
          },
          "metadata": {
            "tags": []
          },
          "execution_count": 113
        }
      ]
    },
    {
      "cell_type": "code",
      "metadata": {
        "colab": {
          "base_uri": "https://localhost:8080/"
        },
        "id": "yBDEEE2iISqS",
        "outputId": "f1b24d66-57f5-4f3c-b819-e9c0710dba83"
      },
      "source": [
        "#Size\n",
        "tf.size(escalar), tf.size(ematrix), tf.size(etensor)"
      ],
      "execution_count": 114,
      "outputs": [
        {
          "output_type": "execute_result",
          "data": {
            "text/plain": [
              "(<tf.Tensor: shape=(), dtype=int32, numpy=1>,\n",
              " <tf.Tensor: shape=(), dtype=int32, numpy=3>,\n",
              " <tf.Tensor: shape=(), dtype=int32, numpy=4>)"
            ]
          },
          "metadata": {
            "tags": []
          },
          "execution_count": 114
        }
      ]
    },
    {
      "cell_type": "markdown",
      "metadata": {
        "id": "qNya_Ha2IbZK"
      },
      "source": [
        "3. Random Tensor"
      ]
    },
    {
      "cell_type": "code",
      "metadata": {
        "colab": {
          "base_uri": "https://localhost:8080/"
        },
        "id": "m8jP9uFDJIuV",
        "outputId": "d788492f-92ec-4ff9-a81c-57075cf37dbc"
      },
      "source": [
        "tf.random.set_seed(42)\n",
        "e_a1 = tf.random.uniform(shape = [5,300])\n",
        "e_a2 = tf.random.uniform(shape = [5,300])\n",
        "e_a2"
      ],
      "execution_count": 119,
      "outputs": [
        {
          "output_type": "execute_result",
          "data": {
            "text/plain": [
              "<tf.Tensor: shape=(5, 300), dtype=float32, numpy=\n",
              "array([[0.68789124, 0.48447883, 0.9309944 , ..., 0.6920762 , 0.33180213,\n",
              "        0.9212563 ],\n",
              "       [0.27369928, 0.10631859, 0.6218617 , ..., 0.4382149 , 0.30427706,\n",
              "        0.51477313],\n",
              "       [0.00920248, 0.37280262, 0.8177401 , ..., 0.56786287, 0.49201214,\n",
              "        0.9892651 ],\n",
              "       [0.88608265, 0.08672249, 0.12160683, ..., 0.91770685, 0.72545695,\n",
              "        0.8280058 ],\n",
              "       [0.36690474, 0.9200133 , 0.9646884 , ..., 0.69012   , 0.7137332 ,\n",
              "        0.2584542 ]], dtype=float32)>"
            ]
          },
          "metadata": {
            "tags": []
          },
          "execution_count": 119
        }
      ]
    },
    {
      "cell_type": "markdown",
      "metadata": {
        "id": "PjsEO0t_JwwO"
      },
      "source": [
        "4. Multiply "
      ]
    },
    {
      "cell_type": "code",
      "metadata": {
        "colab": {
          "base_uri": "https://localhost:8080/"
        },
        "id": "yeRMXk0pKlst",
        "outputId": "548fecba-fdde-4d43-df6c-3ce134187a09"
      },
      "source": [
        "mult = tf.matmul(e_a1, tf.transpose(e_a2))\n",
        "mult"
      ],
      "execution_count": 122,
      "outputs": [
        {
          "output_type": "execute_result",
          "data": {
            "text/plain": [
              "<tf.Tensor: shape=(5, 5), dtype=float32, numpy=\n",
              "array([[80.33342 , 73.40498 , 77.15965 , 73.98369 , 80.90055 ],\n",
              "       [75.146355, 68.80439 , 74.24303 , 71.8418  , 75.60204 ],\n",
              "       [79.7594  , 75.64456 , 77.79758 , 74.74876 , 80.55982 ],\n",
              "       [75.08526 , 69.06409 , 74.30775 , 72.27616 , 76.05669 ],\n",
              "       [85.05688 , 74.26627 , 78.00687 , 74.88679 , 83.134155]],\n",
              "      dtype=float32)>"
            ]
          },
          "metadata": {
            "tags": []
          },
          "execution_count": 122
        }
      ]
    },
    {
      "cell_type": "markdown",
      "metadata": {
        "id": "PyFfZim2K6b-"
      },
      "source": [
        "5. Multiply with dot"
      ]
    },
    {
      "cell_type": "code",
      "metadata": {
        "colab": {
          "base_uri": "https://localhost:8080/"
        },
        "id": "0H1OGpq9L2Qu",
        "outputId": "c0521079-37e6-4ef3-8cad-daa010eeea7b"
      },
      "source": [
        "mult2 = tf.tensordot(e_a1, tf.transpose(e_a2), axes=1)\n",
        "mult2"
      ],
      "execution_count": 123,
      "outputs": [
        {
          "output_type": "execute_result",
          "data": {
            "text/plain": [
              "<tf.Tensor: shape=(5, 5), dtype=float32, numpy=\n",
              "array([[80.33342 , 73.40498 , 77.15965 , 73.98369 , 80.90055 ],\n",
              "       [75.146355, 68.80439 , 74.24303 , 71.8418  , 75.60204 ],\n",
              "       [79.7594  , 75.64456 , 77.79758 , 74.74876 , 80.55982 ],\n",
              "       [75.08526 , 69.06409 , 74.30775 , 72.27616 , 76.05669 ],\n",
              "       [85.05688 , 74.26627 , 78.00687 , 74.88679 , 83.134155]],\n",
              "      dtype=float32)>"
            ]
          },
          "metadata": {
            "tags": []
          },
          "execution_count": 123
        }
      ]
    },
    {
      "cell_type": "markdown",
      "metadata": {
        "id": "3XnGiSpRMJuQ"
      },
      "source": [
        "6. Random Tensor"
      ]
    },
    {
      "cell_type": "code",
      "metadata": {
        "colab": {
          "base_uri": "https://localhost:8080/"
        },
        "id": "QfoU9OBWMqE1",
        "outputId": "cac53e7f-3633-41f6-8570-75cdb6ea717d"
      },
      "source": [
        "random2 = tf.random.uniform(shape=[224,224,3])\n",
        "random2"
      ],
      "execution_count": 129,
      "outputs": [
        {
          "output_type": "execute_result",
          "data": {
            "text/plain": [
              "<tf.Tensor: shape=(224, 224, 3), dtype=float32, numpy=\n",
              "array([[[0.7413678 , 0.62854624, 0.01738465],\n",
              "        [0.3431449 , 0.51063764, 0.3777541 ],\n",
              "        [0.07321596, 0.02137029, 0.2871771 ],\n",
              "        ...,\n",
              "        [0.98953485, 0.45382905, 0.2006687 ],\n",
              "        [0.6295223 , 0.4937899 , 0.01816809],\n",
              "        [0.95386636, 0.11542463, 0.85691285]],\n",
              "\n",
              "       [[0.78435016, 0.7826872 , 0.87936425],\n",
              "        [0.24906898, 0.3207239 , 0.10955775],\n",
              "        [0.543224  , 0.7151396 , 0.40334642],\n",
              "        ...,\n",
              "        [0.2445668 , 0.01746976, 0.9036933 ],\n",
              "        [0.02975535, 0.592268  , 0.9877522 ],\n",
              "        [0.36701274, 0.33112562, 0.5638567 ]],\n",
              "\n",
              "       [[0.15829337, 0.7288823 , 0.3366307 ],\n",
              "        [0.70792687, 0.16910625, 0.9429966 ],\n",
              "        [0.10120225, 0.5919596 , 0.8687303 ],\n",
              "        ...,\n",
              "        [0.28134012, 0.10011208, 0.37038183],\n",
              "        [0.77874243, 0.05421627, 0.4664607 ],\n",
              "        [0.2549187 , 0.7968637 , 0.83405185]],\n",
              "\n",
              "       ...,\n",
              "\n",
              "       [[0.32922816, 0.06343532, 0.23936498],\n",
              "        [0.42692196, 0.3615111 , 0.901929  ],\n",
              "        [0.8320831 , 0.21068895, 0.08272386],\n",
              "        ...,\n",
              "        [0.65110314, 0.40780962, 0.25967455],\n",
              "        [0.9018173 , 0.8245677 , 0.16757596],\n",
              "        [0.41854453, 0.19092035, 0.2523303 ]],\n",
              "\n",
              "       [[0.7064005 , 0.222404  , 0.82219553],\n",
              "        [0.8235872 , 0.76544905, 0.80999327],\n",
              "        [0.1100682 , 0.00520217, 0.6127168 ],\n",
              "        ...,\n",
              "        [0.98068535, 0.8958733 , 0.17706168],\n",
              "        [0.4252876 , 0.02087164, 0.496238  ],\n",
              "        [0.6599953 , 0.58505726, 0.7089884 ]],\n",
              "\n",
              "       [[0.90045786, 0.45803344, 0.9050728 ],\n",
              "        [0.92233   , 0.38456154, 0.30329156],\n",
              "        [0.03238845, 0.18773472, 0.9096625 ],\n",
              "        ...,\n",
              "        [0.4445815 , 0.04578841, 0.21090853],\n",
              "        [0.25966525, 0.24412918, 0.76123405],\n",
              "        [0.9643831 , 0.32687283, 0.4828869 ]]], dtype=float32)>"
            ]
          },
          "metadata": {
            "tags": []
          },
          "execution_count": 129
        }
      ]
    },
    {
      "cell_type": "markdown",
      "metadata": {
        "id": "gg_x9wZDQbyo"
      },
      "source": [
        ""
      ]
    },
    {
      "cell_type": "markdown",
      "metadata": {
        "id": "3-0HfHejNgzM"
      },
      "source": [
        "7 min max values"
      ]
    },
    {
      "cell_type": "code",
      "metadata": {
        "colab": {
          "base_uri": "https://localhost:8080/"
        },
        "id": "LRv-kc5mOZur",
        "outputId": "e04c9a27-22ca-4309-fb5e-0e2ac8835ad8"
      },
      "source": [
        "tf.reduce_max(random2[0]), tf.reduce_min(random2[0])"
      ],
      "execution_count": 140,
      "outputs": [
        {
          "output_type": "execute_result",
          "data": {
            "text/plain": [
              "(<tf.Tensor: shape=(), dtype=float32, numpy=0.99829125>,\n",
              " <tf.Tensor: shape=(), dtype=float32, numpy=0.0053213835>)"
            ]
          },
          "metadata": {
            "tags": []
          },
          "execution_count": 140
        }
      ]
    },
    {
      "cell_type": "markdown",
      "metadata": {
        "id": "hhxMqmqkQCWd"
      },
      "source": [
        "8. squeeze"
      ]
    },
    {
      "cell_type": "code",
      "metadata": {
        "colab": {
          "base_uri": "https://localhost:8080/"
        },
        "id": "PjdUB172Rnbm",
        "outputId": "9500b3b1-ace2-462a-b347-457d9a3a4d24"
      },
      "source": [
        "tf.squeeze(tf.random.uniform(shape=[1,224,224,3])).shape"
      ],
      "execution_count": 142,
      "outputs": [
        {
          "output_type": "execute_result",
          "data": {
            "text/plain": [
              "TensorShape([224, 224, 3])"
            ]
          },
          "metadata": {
            "tags": []
          },
          "execution_count": 142
        }
      ]
    },
    {
      "cell_type": "markdown",
      "metadata": {
        "id": "mjWsAAZKRuBN"
      },
      "source": [
        "9. Index of min"
      ]
    },
    {
      "cell_type": "code",
      "metadata": {
        "colab": {
          "base_uri": "https://localhost:8080/"
        },
        "id": "ajZ29-9VRzXM",
        "outputId": "7b0f4b3f-efd1-40e3-88dd-656dd802a3bc"
      },
      "source": [
        "ts = tf.constant([2,3,3,4,5,5,6,1,456,7])\n",
        "min_index = tf.argmin(ts)\n",
        "min_index"
      ],
      "execution_count": 147,
      "outputs": [
        {
          "output_type": "execute_result",
          "data": {
            "text/plain": [
              "<tf.Tensor: shape=(), dtype=int64, numpy=7>"
            ]
          },
          "metadata": {
            "tags": []
          },
          "execution_count": 147
        }
      ]
    },
    {
      "cell_type": "code",
      "metadata": {
        "id": "wYH_4zPlT7o7"
      },
      "source": [
        ""
      ],
      "execution_count": null,
      "outputs": []
    },
    {
      "cell_type": "markdown",
      "metadata": {
        "id": "nhaTNOH2R8oj"
      },
      "source": [
        "10. One hot encoding"
      ]
    },
    {
      "cell_type": "code",
      "metadata": {
        "colab": {
          "base_uri": "https://localhost:8080/"
        },
        "id": "M6zskATSTy6K",
        "outputId": "e3250561-43b0-46ae-9fbe-8060180bf1b8"
      },
      "source": [
        "value, idx = tf.unique(ts)\n",
        "value"
      ],
      "execution_count": 157,
      "outputs": [
        {
          "output_type": "execute_result",
          "data": {
            "text/plain": [
              "<tf.Tensor: shape=(8,), dtype=int32, numpy=array([  2,   3,   4,   5,   6,   1, 456,   7], dtype=int32)>"
            ]
          },
          "metadata": {
            "tags": []
          },
          "execution_count": 157
        }
      ]
    },
    {
      "cell_type": "code",
      "metadata": {
        "colab": {
          "base_uri": "https://localhost:8080/"
        },
        "id": "aahhmIJCSLFm",
        "outputId": "e99a4753-45cc-42ec-98ee-b41cdfab6e25"
      },
      "source": [
        "length = tf.size(value)\n",
        "he = tf.one_hot(ts, depth=length)\n",
        "he"
      ],
      "execution_count": 158,
      "outputs": [
        {
          "output_type": "execute_result",
          "data": {
            "text/plain": [
              "<tf.Tensor: shape=(10, 8), dtype=float32, numpy=\n",
              "array([[0., 0., 1., 0., 0., 0., 0., 0.],\n",
              "       [0., 0., 0., 1., 0., 0., 0., 0.],\n",
              "       [0., 0., 0., 1., 0., 0., 0., 0.],\n",
              "       [0., 0., 0., 0., 1., 0., 0., 0.],\n",
              "       [0., 0., 0., 0., 0., 1., 0., 0.],\n",
              "       [0., 0., 0., 0., 0., 1., 0., 0.],\n",
              "       [0., 0., 0., 0., 0., 0., 1., 0.],\n",
              "       [0., 1., 0., 0., 0., 0., 0., 0.],\n",
              "       [0., 0., 0., 0., 0., 0., 0., 0.],\n",
              "       [0., 0., 0., 0., 0., 0., 0., 1.]], dtype=float32)>"
            ]
          },
          "metadata": {
            "tags": []
          },
          "execution_count": 158
        }
      ]
    },
    {
      "cell_type": "code",
      "metadata": {
        "id": "Gwfd1k5TScG4"
      },
      "source": [
        ""
      ],
      "execution_count": null,
      "outputs": []
    }
  ]
}